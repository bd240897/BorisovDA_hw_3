{
  "nbformat": 4,
  "nbformat_minor": 0,
  "metadata": {
    "colab": {
      "name": "Машинное обучение.ipynb",
      "provenance": [],
      "collapsed_sections": [],
      "include_colab_link": true
    },
    "kernelspec": {
      "display_name": "Python 3",
      "language": "python",
      "name": "python3"
    },
    "language_info": {
      "codemirror_mode": {
        "name": "ipython",
        "version": 3
      },
      "file_extension": ".py",
      "mimetype": "text/x-python",
      "name": "python",
      "nbconvert_exporter": "python",
      "pygments_lexer": "ipython3",
      "version": "3.8.3"
    }
  },
  "cells": [
    {
      "cell_type": "markdown",
      "metadata": {
        "id": "view-in-github",
        "colab_type": "text"
      },
      "source": [
        "<a href=\"https://colab.research.google.com/github/bd240897/BorisovDA_hw_3/blob/master/%D0%9C%D0%B0%D1%88%D0%B8%D0%BD%D0%BD%D0%BE%D0%B5_%D0%BE%D0%B1%D1%83%D1%87%D0%B5%D0%BD%D0%B8%D0%B5.ipynb\" target=\"_parent\"><img src=\"https://colab.research.google.com/assets/colab-badge.svg\" alt=\"Open In Colab\"/></a>"
      ]
    },
    {
      "cell_type": "markdown",
      "metadata": {
        "id": "3bO5zEKCB5Rj"
      },
      "source": [
        "Олимпиада полу-финал\r\n",
        "\r\n",
        "что то интересное почитать \r\n",
        "https://alexanderdyakonov.files.wordpress.com/2015/04/ama2015_scikit.pdf"
      ]
    },
    {
      "cell_type": "markdown",
      "metadata": {
        "id": "OoZZf-TTr1PK"
      },
      "source": [
        "Порядок заливаемых ответов 02.03.21:\r\n",
        "\r\n",
        "Номер,   Время,   Тип модели\r\n",
        "---\r\n",
        "1. 19-19, АдаБуст без всего, 0.57 - ОШИБКА\r\n",
        "---\r\n",
        "2. 19-29, Тоже самое что и 1 (49073561)\r\n",
        "---\r\n",
        "3. 20-13, Тоже самое что и 2 только без стоблцов (49075804)\r\n",
        "---\r\n",
        "4. 20-20, Случайный лес, чистый (49076104)\r\n",
        "---\r\n",
        "5. 21-47, Голосование 3х алгоримтмов, неправильное обучение на выборке (49080202)\r\n",
        "---\r\n",
        "6. 21-48, Голосование 3х алгоритмов вытащил алгоритмы а потмо обучил (49080215)\r\n",
        "\r\n",
        "\r\n",
        "\r\n"
      ]
    },
    {
      "cell_type": "markdown",
      "metadata": {
        "id": "aMR5WOkCMBpH"
      },
      "source": [
        "## Импорт библиотек"
      ]
    },
    {
      "cell_type": "code",
      "metadata": {
        "id": "4eEFRs2bLjYW"
      },
      "source": [
        "import csv\n",
        "import datetime\n",
        "import numpy as np\n",
        "import pandas as pd\n",
        "import math\n",
        "from sklearn.model_selection import KFold, cross_val_score\n",
        "from sklearn.preprocessing import StandardScaler\n",
        "from sklearn.ensemble import GradientBoostingClassifier\n",
        "from sklearn.linear_model import LogisticRegression\n",
        "from sklearn.linear_model import LinearRegression\n",
        "from sklearn.model_selection import train_test_split\n",
        "from sklearn.metrics import mean_absolute_error, mean_squared_error, median_absolute_error, r2_score\n",
        "from sklearn.preprocessing import OneHotEncoder\n",
        "from sklearn.metrics import accuracy_score\n",
        "from sklearn.multiclass import OneVsOneClassifier\n",
        "from sklearn.svm import SVC\n",
        "from sklearn.model_selection import RandomizedSearchCV, GridSearchCV\n",
        "from sklearn.linear_model import Lasso\n",
        "from sklearn.linear_model import ElasticNet\n",
        "from sklearn.linear_model import Ridge\n",
        "from sklearn.preprocessing import PolynomialFeatures\n",
        "from sklearn.multiclass import OneVsRestClassifier\n",
        "from sklearn.metrics import accuracy_score"
      ],
      "execution_count": 2,
      "outputs": []
    },
    {
      "cell_type": "markdown",
      "metadata": {
        "id": "HAeDcBWKvdE_"
      },
      "source": [
        "ИДЕИ\n",
        "\n",
        "1) импортируем данные \n",
        "2) Обработаем данные\n",
        "- отмасштабирем y*100 для более видной MSE\n",
        "*будем использоват MSE а не RMSE так как она нагляднее и по сути это одно и тоже\n",
        "3) Иследуем данные\n",
        "3.1. Количество уникальных значений\n",
        "3.2. 3д график данных \n",
        "3.3. Гитаграмма\n",
        "3.4. Проверка закономерностей вдоль осей Х и оси У\n",
        "\n",
        "4) Попробуем методы в ЛОБ\n",
        "4.1. Логическая регрессия\n",
        "4.2. Ридж регрессия\n",
        "4.3. Лассо регресия\n",
        "4.4. Эластик нет\n",
        "4.5. Полиномиальная регрессия \n",
        "\n",
        "5) Действия усложненные\n",
        "5.1. Сведем задачу к классификации \n",
        "5.1.1. Разделим на 6 классов \n",
        "5.1.1.1. # Многоклассовая One-Vs-Rest - с GradBust\n",
        "5.1.1.2. # Многоклассовая One-Vs-One - с GradBust\n",
        "5.1.1.3. # Многоклассовая One-Vs-Rest - SVM - работает оч долго, поэтому писал свой\n",
        "5.1.2. Разделим на 12 классов \n",
        "\n",
        "5.2. Попробуем самостоятельно придумать коэфиценты для полинома\n",
        "\n",
        "5.3. KNN - запоминаниие выборки \n",
        "\n",
        "5.4 Попробуем кластаризация для разбивки по значениям в потом уже \"полином регрессию\"\n",
        "ПОПРОБОВАТЬ ЭТО!\n",
        "\n",
        "5.5. Задавать константный алгоритм который возвращает среднее по оси Y за обучающую выборку \n",
        "* а если такого нет, то среднюю между соседними линиями \n",
        "5.6. Вложенные лагоритмы + голосование\n",
        "Идея: первй алгоритм определяет линии по У -> номер линии т.е. список по X\n",
        "Далее по номеру линии 2м класификатором для каждой входной точки определим ниболее вероятную глубину по х\n",
        "Обучение:\n",
        "ИДЕЯ: ищем линию наиболее похожую на эту точку.\n",
        "Если в обучающей Х 0 точек -> такого варианта не должно\n",
        "Если по Х одна точка - то вернем ее\n",
        "Если по Х две точки - то вернем ту к которой ближе Х входной точки\n",
        "Если по Х много точек то заготовим классификатор который по X можем определить значения песчаности \n",
        "Т.Е, ВЫБИРЕМ НОМЕР ЛИНИИ Y а затем интарпалирем Х - в случае 2х тоек это прямая  \n",
        "6) получим результат для ответа"
      ]
    },
    {
      "cell_type": "markdown",
      "metadata": {
        "id": "FAVbjYZJvdFB"
      },
      "source": [
        "### 1. Импортируем данные"
      ]
    },
    {
      "cell_type": "code",
      "metadata": {
        "colab": {
          "base_uri": "https://localhost:8080/",
          "height": 137
        },
        "id": "SIGwyVMpvdFB",
        "outputId": "47bed659-3ae5-4577-f3de-2b9c98de1455"
      },
      "source": [
        "# тренеровочный датасет\n",
        "df_train = pd.read_csv(\"Training_wells.csv\")\n",
        "df_train.head(3)"
      ],
      "execution_count": 5,
      "outputs": [
        {
          "output_type": "execute_result",
          "data": {
            "text/html": [
              "<div>\n",
              "<style scoped>\n",
              "    .dataframe tbody tr th:only-of-type {\n",
              "        vertical-align: middle;\n",
              "    }\n",
              "\n",
              "    .dataframe tbody tr th {\n",
              "        vertical-align: top;\n",
              "    }\n",
              "\n",
              "    .dataframe thead th {\n",
              "        text-align: right;\n",
              "    }\n",
              "</style>\n",
              "<table border=\"1\" class=\"dataframe\">\n",
              "  <thead>\n",
              "    <tr style=\"text-align: right;\">\n",
              "      <th></th>\n",
              "      <th>Well</th>\n",
              "      <th>X</th>\n",
              "      <th>Y</th>\n",
              "      <th>NTG</th>\n",
              "    </tr>\n",
              "  </thead>\n",
              "  <tbody>\n",
              "    <tr>\n",
              "      <th>0</th>\n",
              "      <td>201-907</td>\n",
              "      <td>201</td>\n",
              "      <td>907</td>\n",
              "      <td>0.2006</td>\n",
              "    </tr>\n",
              "    <tr>\n",
              "      <th>1</th>\n",
              "      <td>201-914</td>\n",
              "      <td>201</td>\n",
              "      <td>914</td>\n",
              "      <td>0.3624</td>\n",
              "    </tr>\n",
              "    <tr>\n",
              "      <th>2</th>\n",
              "      <td>201-924</td>\n",
              "      <td>201</td>\n",
              "      <td>924</td>\n",
              "      <td>0.4381</td>\n",
              "    </tr>\n",
              "  </tbody>\n",
              "</table>\n",
              "</div>"
            ],
            "text/plain": [
              "      Well    X    Y     NTG\n",
              "0  201-907  201  907  0.2006\n",
              "1  201-914  201  914  0.3624\n",
              "2  201-924  201  924  0.4381"
            ]
          },
          "metadata": {
            "tags": []
          },
          "execution_count": 5
        }
      ]
    },
    {
      "cell_type": "code",
      "metadata": {
        "colab": {
          "base_uri": "https://localhost:8080/",
          "height": 138
        },
        "id": "bbtFW9FYvdFE",
        "outputId": "44c5676b-13e4-4de4-d5a4-ba4bb556041c"
      },
      "source": [
        "# добавим индекс как столбец\n",
        "df_train['index'] = df_train.index\n",
        "df_train.head(3)"
      ],
      "execution_count": null,
      "outputs": [
        {
          "output_type": "execute_result",
          "data": {
            "text/html": [
              "<div>\n",
              "<style scoped>\n",
              "    .dataframe tbody tr th:only-of-type {\n",
              "        vertical-align: middle;\n",
              "    }\n",
              "\n",
              "    .dataframe tbody tr th {\n",
              "        vertical-align: top;\n",
              "    }\n",
              "\n",
              "    .dataframe thead th {\n",
              "        text-align: right;\n",
              "    }\n",
              "</style>\n",
              "<table border=\"1\" class=\"dataframe\">\n",
              "  <thead>\n",
              "    <tr style=\"text-align: right;\">\n",
              "      <th></th>\n",
              "      <th>Well</th>\n",
              "      <th>X</th>\n",
              "      <th>Y</th>\n",
              "      <th>NTG</th>\n",
              "      <th>index</th>\n",
              "    </tr>\n",
              "  </thead>\n",
              "  <tbody>\n",
              "    <tr>\n",
              "      <th>0</th>\n",
              "      <td>201-907</td>\n",
              "      <td>201</td>\n",
              "      <td>907</td>\n",
              "      <td>0.2006</td>\n",
              "      <td>0</td>\n",
              "    </tr>\n",
              "    <tr>\n",
              "      <th>1</th>\n",
              "      <td>201-914</td>\n",
              "      <td>201</td>\n",
              "      <td>914</td>\n",
              "      <td>0.3624</td>\n",
              "      <td>1</td>\n",
              "    </tr>\n",
              "    <tr>\n",
              "      <th>2</th>\n",
              "      <td>201-924</td>\n",
              "      <td>201</td>\n",
              "      <td>924</td>\n",
              "      <td>0.4381</td>\n",
              "      <td>2</td>\n",
              "    </tr>\n",
              "  </tbody>\n",
              "</table>\n",
              "</div>"
            ],
            "text/plain": [
              "      Well    X    Y     NTG  index\n",
              "0  201-907  201  907  0.2006      0\n",
              "1  201-914  201  914  0.3624      1\n",
              "2  201-924  201  924  0.4381      2"
            ]
          },
          "metadata": {
            "tags": []
          },
          "execution_count": 10
        }
      ]
    },
    {
      "cell_type": "code",
      "metadata": {
        "id": "SjOlVnqjvdFF"
      },
      "source": [
        "# well - номер скважины (координаты х и у)\n",
        "# X - дублирует ВЕЛЛ\n",
        "# Y - дублирует ВЕЛЛ\n",
        "# критерий оценки RMSE"
      ],
      "execution_count": null,
      "outputs": []
    },
    {
      "cell_type": "code",
      "metadata": {
        "colab": {
          "base_uri": "https://localhost:8080/",
          "height": 137
        },
        "id": "ei1Y8SjdvdFG",
        "outputId": "ace263eb-f841-4eda-829b-9ebe08d77e18"
      },
      "source": [
        "# рабочий датасет\n",
        "df_work = pd.read_csv(\"Empty_part.csv\")\n",
        "df_work.head(3)"
      ],
      "execution_count": 6,
      "outputs": [
        {
          "output_type": "execute_result",
          "data": {
            "text/html": [
              "<div>\n",
              "<style scoped>\n",
              "    .dataframe tbody tr th:only-of-type {\n",
              "        vertical-align: middle;\n",
              "    }\n",
              "\n",
              "    .dataframe tbody tr th {\n",
              "        vertical-align: top;\n",
              "    }\n",
              "\n",
              "    .dataframe thead th {\n",
              "        text-align: right;\n",
              "    }\n",
              "</style>\n",
              "<table border=\"1\" class=\"dataframe\">\n",
              "  <thead>\n",
              "    <tr style=\"text-align: right;\">\n",
              "      <th></th>\n",
              "      <th>Well</th>\n",
              "      <th>X</th>\n",
              "      <th>Y</th>\n",
              "    </tr>\n",
              "  </thead>\n",
              "  <tbody>\n",
              "    <tr>\n",
              "      <th>0</th>\n",
              "      <td>201-901</td>\n",
              "      <td>201</td>\n",
              "      <td>901</td>\n",
              "    </tr>\n",
              "    <tr>\n",
              "      <th>1</th>\n",
              "      <td>201-902</td>\n",
              "      <td>201</td>\n",
              "      <td>902</td>\n",
              "    </tr>\n",
              "    <tr>\n",
              "      <th>2</th>\n",
              "      <td>201-903</td>\n",
              "      <td>201</td>\n",
              "      <td>903</td>\n",
              "    </tr>\n",
              "  </tbody>\n",
              "</table>\n",
              "</div>"
            ],
            "text/plain": [
              "      Well    X    Y\n",
              "0  201-901  201  901\n",
              "1  201-902  201  902\n",
              "2  201-903  201  903"
            ]
          },
          "metadata": {
            "tags": []
          },
          "execution_count": 6
        }
      ]
    },
    {
      "cell_type": "code",
      "metadata": {
        "colab": {
          "base_uri": "https://localhost:8080/",
          "height": 402
        },
        "id": "fpEBPJ6evdFH",
        "outputId": "0f3dcfe6-6039-4a9d-beb3-6b446b82968d"
      },
      "source": [
        "df_train"
      ],
      "execution_count": null,
      "outputs": [
        {
          "output_type": "execute_result",
          "data": {
            "text/html": [
              "<div>\n",
              "<style scoped>\n",
              "    .dataframe tbody tr th:only-of-type {\n",
              "        vertical-align: middle;\n",
              "    }\n",
              "\n",
              "    .dataframe tbody tr th {\n",
              "        vertical-align: top;\n",
              "    }\n",
              "\n",
              "    .dataframe thead th {\n",
              "        text-align: right;\n",
              "    }\n",
              "</style>\n",
              "<table border=\"1\" class=\"dataframe\">\n",
              "  <thead>\n",
              "    <tr style=\"text-align: right;\">\n",
              "      <th></th>\n",
              "      <th>Well</th>\n",
              "      <th>X</th>\n",
              "      <th>Y</th>\n",
              "      <th>NTG</th>\n",
              "      <th>index</th>\n",
              "    </tr>\n",
              "  </thead>\n",
              "  <tbody>\n",
              "    <tr>\n",
              "      <th>0</th>\n",
              "      <td>201-907</td>\n",
              "      <td>201</td>\n",
              "      <td>907</td>\n",
              "      <td>0.2006</td>\n",
              "      <td>0</td>\n",
              "    </tr>\n",
              "    <tr>\n",
              "      <th>1</th>\n",
              "      <td>201-914</td>\n",
              "      <td>201</td>\n",
              "      <td>914</td>\n",
              "      <td>0.3624</td>\n",
              "      <td>1</td>\n",
              "    </tr>\n",
              "    <tr>\n",
              "      <th>2</th>\n",
              "      <td>201-924</td>\n",
              "      <td>201</td>\n",
              "      <td>924</td>\n",
              "      <td>0.4381</td>\n",
              "      <td>2</td>\n",
              "    </tr>\n",
              "    <tr>\n",
              "      <th>3</th>\n",
              "      <td>202-922</td>\n",
              "      <td>202</td>\n",
              "      <td>922</td>\n",
              "      <td>0.4289</td>\n",
              "      <td>3</td>\n",
              "    </tr>\n",
              "    <tr>\n",
              "      <th>4</th>\n",
              "      <td>202-925</td>\n",
              "      <td>202</td>\n",
              "      <td>925</td>\n",
              "      <td>0.4021</td>\n",
              "      <td>4</td>\n",
              "    </tr>\n",
              "    <tr>\n",
              "      <th>...</th>\n",
              "      <td>...</td>\n",
              "      <td>...</td>\n",
              "      <td>...</td>\n",
              "      <td>...</td>\n",
              "      <td>...</td>\n",
              "    </tr>\n",
              "    <tr>\n",
              "      <th>133</th>\n",
              "      <td>245-908</td>\n",
              "      <td>245</td>\n",
              "      <td>908</td>\n",
              "      <td>0.2719</td>\n",
              "      <td>133</td>\n",
              "    </tr>\n",
              "    <tr>\n",
              "      <th>134</th>\n",
              "      <td>245-911</td>\n",
              "      <td>245</td>\n",
              "      <td>911</td>\n",
              "      <td>0.3780</td>\n",
              "      <td>134</td>\n",
              "    </tr>\n",
              "    <tr>\n",
              "      <th>135</th>\n",
              "      <td>245-923</td>\n",
              "      <td>245</td>\n",
              "      <td>923</td>\n",
              "      <td>0.4239</td>\n",
              "      <td>135</td>\n",
              "    </tr>\n",
              "    <tr>\n",
              "      <th>136</th>\n",
              "      <td>246-905</td>\n",
              "      <td>246</td>\n",
              "      <td>905</td>\n",
              "      <td>0.4900</td>\n",
              "      <td>136</td>\n",
              "    </tr>\n",
              "    <tr>\n",
              "      <th>137</th>\n",
              "      <td>246-923</td>\n",
              "      <td>246</td>\n",
              "      <td>923</td>\n",
              "      <td>0.3667</td>\n",
              "      <td>137</td>\n",
              "    </tr>\n",
              "  </tbody>\n",
              "</table>\n",
              "<p>138 rows × 5 columns</p>\n",
              "</div>"
            ],
            "text/plain": [
              "        Well    X    Y     NTG  index\n",
              "0    201-907  201  907  0.2006      0\n",
              "1    201-914  201  914  0.3624      1\n",
              "2    201-924  201  924  0.4381      2\n",
              "3    202-922  202  922  0.4289      3\n",
              "4    202-925  202  925  0.4021      4\n",
              "..       ...  ...  ...     ...    ...\n",
              "133  245-908  245  908  0.2719    133\n",
              "134  245-911  245  911  0.3780    134\n",
              "135  245-923  245  923  0.4239    135\n",
              "136  246-905  246  905  0.4900    136\n",
              "137  246-923  246  923  0.3667    137\n",
              "\n",
              "[138 rows x 5 columns]"
            ]
          },
          "metadata": {
            "tags": []
          },
          "execution_count": 12
        }
      ]
    },
    {
      "cell_type": "code",
      "metadata": {
        "id": "FV_WhLlivdFI"
      },
      "source": [
        "# разделим на выборку и тест \n",
        "x_train = df_train[['X','Y']]\n",
        "y_train = df_train['Y']\n",
        "# y_train.size\n",
        "# x_train.count()\n",
        "# 138 строки всего???"
      ],
      "execution_count": null,
      "outputs": []
    },
    {
      "cell_type": "markdown",
      "metadata": {
        "id": "fxZKDpwEvdFJ"
      },
      "source": [
        "### Исследуем входные данные "
      ]
    },
    {
      "cell_type": "code",
      "metadata": {
        "colab": {
          "base_uri": "https://localhost:8080/",
          "height": 136
        },
        "id": "YmmrpjDKvdFK",
        "outputId": "ba046559-c3c0-4a7a-a10f-8786a6916f2b"
      },
      "source": [
        "pd.DataFrame(df_train['X'].value_counts()).head(3)\n",
        "pd.DataFrame(df_train['Y'].value_counts()).head(3)\n",
        "pd.DataFrame(df_train['NTG'].value_counts()).head(3)"
      ],
      "execution_count": null,
      "outputs": [
        {
          "output_type": "execute_result",
          "data": {
            "text/html": [
              "<div>\n",
              "<style scoped>\n",
              "    .dataframe tbody tr th:only-of-type {\n",
              "        vertical-align: middle;\n",
              "    }\n",
              "\n",
              "    .dataframe tbody tr th {\n",
              "        vertical-align: top;\n",
              "    }\n",
              "\n",
              "    .dataframe thead th {\n",
              "        text-align: right;\n",
              "    }\n",
              "</style>\n",
              "<table border=\"1\" class=\"dataframe\">\n",
              "  <thead>\n",
              "    <tr style=\"text-align: right;\">\n",
              "      <th></th>\n",
              "      <th>NTG</th>\n",
              "    </tr>\n",
              "  </thead>\n",
              "  <tbody>\n",
              "    <tr>\n",
              "      <th>0.2778</th>\n",
              "      <td>2</td>\n",
              "    </tr>\n",
              "    <tr>\n",
              "      <th>0.2766</th>\n",
              "      <td>2</td>\n",
              "    </tr>\n",
              "    <tr>\n",
              "      <th>0.3333</th>\n",
              "      <td>2</td>\n",
              "    </tr>\n",
              "  </tbody>\n",
              "</table>\n",
              "</div>"
            ],
            "text/plain": [
              "        NTG\n",
              "0.2778    2\n",
              "0.2766    2\n",
              "0.3333    2"
            ]
          },
          "metadata": {
            "tags": []
          },
          "execution_count": 14
        }
      ]
    },
    {
      "cell_type": "code",
      "metadata": {
        "id": "I8tEusCuvdFK"
      },
      "source": [
        "# Построим гистаграмму \n",
        "  "
      ],
      "execution_count": null,
      "outputs": []
    },
    {
      "cell_type": "code",
      "metadata": {
        "colab": {
          "base_uri": "https://localhost:8080/",
          "height": 147
        },
        "id": "JxEnuOOGvdFL",
        "scrolled": true,
        "outputId": "3ef441f2-39bf-4c36-ffda-d5a2cb09c265"
      },
      "source": [
        "# построим 3д график\n",
        "import matplotlib.pyplot as plt\n",
        "from mpl_toolkits.mplot3d import Axes3D\n",
        "import numpy as np\n",
        "from scipy.interpolate import griddata\n",
        "\n",
        "x = df_train['X'].to_list()\n",
        "y = df_train['Y'].to_list()\n",
        "z = df_train['NTG'].to_list()\n",
        "\n",
        "x = np.array(x)\n",
        "y = np.array(y)\n",
        "z = np.array(z)\n",
        "\n",
        "fig = plt.figure()\n",
        "ax = fig.add_subplot(231, projection='3d')\n",
        "ax.plot(x, y, z, label='parametric curve')\n",
        "\n",
        "ax = fig.add_subplot(232, projection='3d')\n",
        "ax.scatter(x, y, z)"
      ],
      "execution_count": 64,
      "outputs": [
        {
          "output_type": "execute_result",
          "data": {
            "text/plain": [
              "<mpl_toolkits.mplot3d.art3d.Path3DCollection at 0x7fe213d0efd0>"
            ]
          },
          "metadata": {
            "tags": []
          },
          "execution_count": 64
        },
        {
          "output_type": "display_data",
          "data": {
            "image/png": "[encoded data removed]",
            "text/plain": [
              "<Figure size 432x288 with 2 Axes>"
            ]
          },
          "metadata": {
            "tags": [],
            "needs_background": "light"
          }
        }
      ]
    },
    {
      "cell_type": "markdown",
      "metadata": {
        "id": "mwn9XJJYvdFr"
      },
      "source": [
        "### Поищем закономерности в данных"
      ]
    },
    {
      "cell_type": "code",
      "metadata": {
        "id": "xZ9F0Uc3vdFr",
        "outputId": "0696848a-acba-4fdc-b51d-04f7fff0cbb3"
      },
      "source": [
        "# посмотри как изменяется уровень по оси X\n",
        "\n",
        "dict_for_X = dict()\n",
        "for x in set(df_train['X'].to_list()):\n",
        "    y = df_train[df_train['X'] == x]['NTG'].to_list()\n",
        "    \n",
        "    if dict_for_X.pop(x, -1) == -1:\n",
        "        dict_for_X[x] = y\n",
        "    else:\n",
        "        dict_for_X[x].append(y)\n",
        "        \n",
        "dict_for_X\n",
        "# ВЫВОД: по Х зависимости НЕТ"
      ],
      "execution_count": null,
      "outputs": [
        {
          "output_type": "execute_result",
          "data": {
            "text/plain": [
              "{201: [0.2006, 0.3624, 0.4381],\n",
              " 202: [0.4289, 0.4021],\n",
              " 203: [0.2628, 0.2517, 0.3452],\n",
              " 204: [0.2092, 0.1974, 0.4136],\n",
              " 205: [0.3061, 0.3268, 0.3431, 0.3568],\n",
              " 206: [0.3054, 0.3228, 0.2682],\n",
              " 207: [0.1897, 0.3249, 0.2659, 0.3205, 0.2963, 0.2637],\n",
              " 208: [0.3971, 0.2775, 0.3244],\n",
              " 209: [0.3729],\n",
              " 210: [0.3801, 0.4419, 0.3869],\n",
              " 211: [0.4042, 0.3901, 0.3333, 0.3661, 0.3533],\n",
              " 212: [0.3394, 0.2251, 0.3388],\n",
              " 214: [0.3769, 0.3484],\n",
              " 215: [0.3125, 0.3867, 0.3402, 0.25, 0.3512, 0.2918],\n",
              " 216: [0.3248, 0.2419, 0.3791, 0.4099, 0.2759],\n",
              " 217: [0.2979, 0.2762],\n",
              " 218: [0.4562, 0.2865, 0.3721],\n",
              " 219: [0.4488, 0.4436, 0.3375, 0.2514, 0.2895, 0.2287, 0.3941],\n",
              " 220: [0.2484],\n",
              " 221: [0.4369, 0.4],\n",
              " 222: [0.3857, 0.3557],\n",
              " 223: [0.3894, 0.2795],\n",
              " 224: [0.3162, 0.3775],\n",
              " 225: [0.3471, 0.3081, 0.2386, 0.2794, 0.2961],\n",
              " 226: [0.2778, 0.3299, 0.3322, 0.429],\n",
              " 227: [0.3636, 0.2778],\n",
              " 228: [0.4268, 0.325, 0.4079],\n",
              " 229: [0.3421, 0.3774, 0.3764],\n",
              " 230: [0.2562, 0.3074],\n",
              " 231: [0.3486, 0.3201, 0.3018],\n",
              " 232: [0.2519, 0.2766, 0.3579, 0.2674],\n",
              " 234: [0.2347],\n",
              " 235: [0.5625, 0.2874, 0.2696],\n",
              " 237: [0.4356, 0.2244, 0.2381, 0.2653, 0.2851],\n",
              " 238: [0.3534, 0.2312, 0.2454],\n",
              " 239: [0.3882, 0.2137, 0.2189],\n",
              " 240: [0.3973, 0.2909, 0.3391],\n",
              " 241: [0.3333, 0.2171, 0.2766, 0.2371],\n",
              " 242: [0.5, 0.177, 0.355],\n",
              " 243: [0.1786, 0.2816, 0.3981],\n",
              " 244: [0.3566, 0.2463, 0.2543, 0.2584, 0.3670000000000001, 0.3835],\n",
              " 245: [0.2719, 0.378, 0.4239],\n",
              " 246: [0.49, 0.3667]}"
            ]
          },
          "metadata": {
            "tags": []
          },
          "execution_count": 110
        }
      ]
    },
    {
      "cell_type": "code",
      "metadata": {
        "id": "TVdQ7GR_vdFs",
        "outputId": "41b1a911-fad0-44ab-9c62-b3334ffca25f"
      },
      "source": [
        "# посмотри как изменяется уровень по оси X\n",
        "\n",
        "dict_for_Y = dict()\n",
        "for y in set(df_train['Y'].to_list()):\n",
        "    x = df_train[df_train['Y'] == y]['NTG'].to_list()\n",
        "    \n",
        "    if dict_for_Y.pop(y, -1) == -1:\n",
        "        dict_for_Y[y] = x\n",
        "    else:\n",
        "        dict_for_Y[y].append(x)\n",
        "        \n",
        "dict_for_Y\n",
        "# ВЫВОД: по Y есть какая то слабая зависимость "
      ],
      "execution_count": null,
      "outputs": [
        {
          "output_type": "execute_result",
          "data": {
            "text/plain": [
              "{901: [0.4369, 0.4268, 0.3882],\n",
              " 902: [0.2628, 0.3248, 0.4488, 0.4, 0.3636],\n",
              " 903: [0.4436, 0.5625, 0.5],\n",
              " 904: [0.2092, 0.3394, 0.3769, 0.4356],\n",
              " 905: [0.2251, 0.4562, 0.3894, 0.49],\n",
              " 906: [0.2517],\n",
              " 907: [0.2006, 0.1974, 0.1897, 0.3375, 0.3162, 0.3534, 0.3333, 0.177, 0.1786],\n",
              " 908: [0.2419, 0.3471, 0.325, 0.2562, 0.2719],\n",
              " 909: [0.2514, 0.2778, 0.2778],\n",
              " 910: [0.3249, 0.3125, 0.2519, 0.2137, 0.2171],\n",
              " 911: [0.3061, 0.2766, 0.3566, 0.378],\n",
              " 912: [0.3054, 0.2659, 0.4079, 0.2463],\n",
              " 913: [0.3867, 0.2895, 0.3973],\n",
              " 914: [0.3624, 0.3228, 0.3801, 0.4042, 0.2244],\n",
              " 915: [0.3971, 0.3857, 0.3775, 0.2874],\n",
              " 916: [0.3268, 0.3729, 0.4419, 0.3402, 0.3081],\n",
              " 917: [0.3791, 0.3557, 0.3579],\n",
              " 918: [0.3484, 0.355],\n",
              " 919: [0.3205, 0.2775, 0.3901, 0.2381],\n",
              " 920: [0.4099, 0.3421, 0.3486, 0.2653, 0.2543],\n",
              " 921: [0.3388, 0.25, 0.2386, 0.3074, 0.2347, 0.2312, 0.2766, 0.2584],\n",
              " 922: [0.4289, 0.2979, 0.2794, 0.2189, 0.2371],\n",
              " 923: [0.3431, 0.3869, 0.2484, 0.3670000000000001, 0.4239, 0.3667],\n",
              " 924: [0.4381, 0.3333, 0.2287, 0.2696, 0.2851, 0.2454],\n",
              " 925: [0.4021, 0.4136, 0.3244, 0.3774],\n",
              " 926: [0.2762, 0.3299, 0.3764, 0.2909, 0.2816],\n",
              " 927: [0.3568, 0.2963, 0.3661, 0.2759, 0.3835],\n",
              " 928: [0.3533, 0.3512, 0.2961, 0.3322, 0.3391, 0.3981],\n",
              " 929: [0.3452, 0.2682, 0.2865, 0.429, 0.3201, 0.2674],\n",
              " 930: [0.2637, 0.2918, 0.3721, 0.3941, 0.2795, 0.3018]}"
            ]
          },
          "metadata": {
            "tags": []
          },
          "execution_count": 112
        }
      ]
    },
    {
      "cell_type": "code",
      "metadata": {
        "id": "kvfN_SV4vdFs",
        "outputId": "286ce920-fb69-4530-df00-8226cc6348b6"
      },
      "source": [
        "df_train[(df_train['NTG'] < 0.4) & (df_train['NTG'] > 0.2)]"
      ],
      "execution_count": null,
      "outputs": [
        {
          "output_type": "execute_result",
          "data": {
            "text/html": [
              "<div>\n",
              "<style scoped>\n",
              "    .dataframe tbody tr th:only-of-type {\n",
              "        vertical-align: middle;\n",
              "    }\n",
              "\n",
              "    .dataframe tbody tr th {\n",
              "        vertical-align: top;\n",
              "    }\n",
              "\n",
              "    .dataframe thead th {\n",
              "        text-align: right;\n",
              "    }\n",
              "</style>\n",
              "<table border=\"1\" class=\"dataframe\">\n",
              "  <thead>\n",
              "    <tr style=\"text-align: right;\">\n",
              "      <th></th>\n",
              "      <th>Well</th>\n",
              "      <th>X</th>\n",
              "      <th>Y</th>\n",
              "      <th>NTG</th>\n",
              "      <th>index</th>\n",
              "    </tr>\n",
              "  </thead>\n",
              "  <tbody>\n",
              "    <tr>\n",
              "      <th>0</th>\n",
              "      <td>201-907</td>\n",
              "      <td>201</td>\n",
              "      <td>907</td>\n",
              "      <td>0.2006</td>\n",
              "      <td>0</td>\n",
              "    </tr>\n",
              "    <tr>\n",
              "      <th>1</th>\n",
              "      <td>201-914</td>\n",
              "      <td>201</td>\n",
              "      <td>914</td>\n",
              "      <td>0.3624</td>\n",
              "      <td>1</td>\n",
              "    </tr>\n",
              "    <tr>\n",
              "      <th>5</th>\n",
              "      <td>203-902</td>\n",
              "      <td>203</td>\n",
              "      <td>902</td>\n",
              "      <td>0.2628</td>\n",
              "      <td>5</td>\n",
              "    </tr>\n",
              "    <tr>\n",
              "      <th>6</th>\n",
              "      <td>203-906</td>\n",
              "      <td>203</td>\n",
              "      <td>906</td>\n",
              "      <td>0.2517</td>\n",
              "      <td>6</td>\n",
              "    </tr>\n",
              "    <tr>\n",
              "      <th>7</th>\n",
              "      <td>203-929</td>\n",
              "      <td>203</td>\n",
              "      <td>929</td>\n",
              "      <td>0.3452</td>\n",
              "      <td>7</td>\n",
              "    </tr>\n",
              "    <tr>\n",
              "      <th>...</th>\n",
              "      <td>...</td>\n",
              "      <td>...</td>\n",
              "      <td>...</td>\n",
              "      <td>...</td>\n",
              "      <td>...</td>\n",
              "    </tr>\n",
              "    <tr>\n",
              "      <th>131</th>\n",
              "      <td>244-923</td>\n",
              "      <td>244</td>\n",
              "      <td>923</td>\n",
              "      <td>0.3670</td>\n",
              "      <td>131</td>\n",
              "    </tr>\n",
              "    <tr>\n",
              "      <th>132</th>\n",
              "      <td>244-927</td>\n",
              "      <td>244</td>\n",
              "      <td>927</td>\n",
              "      <td>0.3835</td>\n",
              "      <td>132</td>\n",
              "    </tr>\n",
              "    <tr>\n",
              "      <th>133</th>\n",
              "      <td>245-908</td>\n",
              "      <td>245</td>\n",
              "      <td>908</td>\n",
              "      <td>0.2719</td>\n",
              "      <td>133</td>\n",
              "    </tr>\n",
              "    <tr>\n",
              "      <th>134</th>\n",
              "      <td>245-911</td>\n",
              "      <td>245</td>\n",
              "      <td>911</td>\n",
              "      <td>0.3780</td>\n",
              "      <td>134</td>\n",
              "    </tr>\n",
              "    <tr>\n",
              "      <th>137</th>\n",
              "      <td>246-923</td>\n",
              "      <td>246</td>\n",
              "      <td>923</td>\n",
              "      <td>0.3667</td>\n",
              "      <td>137</td>\n",
              "    </tr>\n",
              "  </tbody>\n",
              "</table>\n",
              "<p>114 rows × 5 columns</p>\n",
              "</div>"
            ],
            "text/plain": [
              "        Well    X    Y     NTG  index\n",
              "0    201-907  201  907  0.2006      0\n",
              "1    201-914  201  914  0.3624      1\n",
              "5    203-902  203  902  0.2628      5\n",
              "6    203-906  203  906  0.2517      6\n",
              "7    203-929  203  929  0.3452      7\n",
              "..       ...  ...  ...     ...    ...\n",
              "131  244-923  244  923  0.3670    131\n",
              "132  244-927  244  927  0.3835    132\n",
              "133  245-908  245  908  0.2719    133\n",
              "134  245-911  245  911  0.3780    134\n",
              "137  246-923  246  923  0.3667    137\n",
              "\n",
              "[114 rows x 5 columns]"
            ]
          },
          "metadata": {
            "tags": []
          },
          "execution_count": 120
        }
      ]
    },
    {
      "cell_type": "code",
      "metadata": {
        "id": "4VzqFTgYvdFt",
        "outputId": "80238dab-aefe-49b4-e936-2dcd036ff38c"
      },
      "source": [
        "dict_for_X = dict({1:1})\n",
        "dict_for_X\n",
        "df_train[df_train['X'] == 201]['NTG'].to_list()\n"
      ],
      "execution_count": null,
      "outputs": [
        {
          "output_type": "execute_result",
          "data": {
            "text/plain": [
              "[0.2006, 0.3624, 0.4381]"
            ]
          },
          "metadata": {
            "tags": []
          },
          "execution_count": 106
        }
      ]
    },
    {
      "cell_type": "code",
      "metadata": {
        "colab": {
          "base_uri": "https://localhost:8080/",
          "height": 282
        },
        "id": "wwxhTr73SoSX",
        "outputId": "ac697b70-bcdb-4588-8df6-bb2f52969a75"
      },
      "source": [
        "# построим гистограмму входных данных\r\n",
        "import numpy as np\r\n",
        "import matplotlib\r\n",
        "import matplotlib.pyplot as plt\r\n",
        "\r\n",
        "df_train['X'].hist(bins=14)"
      ],
      "execution_count": 60,
      "outputs": [
        {
          "output_type": "execute_result",
          "data": {
            "text/plain": [
              "<matplotlib.axes._subplots.AxesSubplot at 0x7fe21c4a8e50>"
            ]
          },
          "metadata": {
            "tags": []
          },
          "execution_count": 60
        },
        {
          "output_type": "display_data",
          "data": {
            "image/png": "[encoded data removed]",
            "text/plain": [
              "<Figure size 432x288 with 1 Axes>"
            ]
          },
          "metadata": {
            "tags": [],
            "needs_background": "light"
          }
        }
      ]
    },
    {
      "cell_type": "code",
      "metadata": {
        "id": "XBSJLcN9vdFt",
        "colab": {
          "base_uri": "https://localhost:8080/",
          "height": 282
        },
        "outputId": "ea0696dc-8e90-4502-ff7f-6f5c1dde045c"
      },
      "source": [
        "df_train['Y'].hist(bins=14)"
      ],
      "execution_count": 61,
      "outputs": [
        {
          "output_type": "execute_result",
          "data": {
            "text/plain": [
              "<matplotlib.axes._subplots.AxesSubplot at 0x7fe21c3ef1d0>"
            ]
          },
          "metadata": {
            "tags": []
          },
          "execution_count": 61
        },
        {
          "output_type": "display_data",
          "data": {
            "image/png": "[encoded data removed]",
            "text/plain": [
              "<Figure size 432x288 with 1 Axes>"
            ]
          },
          "metadata": {
            "tags": [],
            "needs_background": "light"
          }
        }
      ]
    },
    {
      "cell_type": "code",
      "metadata": {
        "colab": {
          "base_uri": "https://localhost:8080/",
          "height": 282
        },
        "id": "barYAi9oSxV1",
        "outputId": "f2eb7f50-a1a6-49d1-cf90-57a8950a72a4"
      },
      "source": [
        "df_train['NTG'].hist(bins=14)"
      ],
      "execution_count": 63,
      "outputs": [
        {
          "output_type": "execute_result",
          "data": {
            "text/plain": [
              "<matplotlib.axes._subplots.AxesSubplot at 0x7fe21be4ae90>"
            ]
          },
          "metadata": {
            "tags": []
          },
          "execution_count": 63
        },
        {
          "output_type": "display_data",
          "data": {
            "image/png": "[encoded data removed]",
            "text/plain": [
              "<Figure size 432x288 with 1 Axes>"
            ]
          },
          "metadata": {
            "tags": [],
            "needs_background": "light"
          }
        }
      ]
    },
    {
      "cell_type": "markdown",
      "metadata": {
        "id": "KUkR2XIFlUoc"
      },
      "source": [
        "### Train test split"
      ]
    },
    {
      "cell_type": "code",
      "metadata": {
        "id": "s8ZH7bPJvdFP"
      },
      "source": [
        "# разделим выборку на тест и обучение \n",
        "\n",
        "x_train = df_train[['X','Y']]\n",
        "y_train = df_train['NTG']\n",
        "x_train_split, x_test_split, y_train_split, y_test_split = train_test_split(x_train, y_train, test_size=0.33, random_state=42)"
      ],
      "execution_count": 65,
      "outputs": []
    },
    {
      "cell_type": "code",
      "metadata": {
        "id": "9AqI08YCvdFP"
      },
      "source": [
        "# для читабельности оценок умножим y на 100 \n",
        "# def multiply_y_100():\n",
        "# \"\"\"для читабельности оценок обучение умножим \"y\" на 100\"\"\"\n",
        "# y_train_split = y_train_split*100\n",
        "# y_test_split = y_test_split*100"
      ],
      "execution_count": null,
      "outputs": []
    },
    {
      "cell_type": "markdown",
      "metadata": {
        "id": "xmmAnxh7vdFQ"
      },
      "source": [
        "# Сравним несколько простых моделей"
      ]
    },
    {
      "cell_type": "markdown",
      "metadata": {
        "id": "BJRR30BBh98-"
      },
      "source": [
        "### Попробуем разные обработки входных данных"
      ]
    },
    {
      "cell_type": "markdown",
      "metadata": {
        "id": "fQREv6JciszJ"
      },
      "source": [
        "Power Transform"
      ]
    },
    {
      "cell_type": "code",
      "metadata": {
        "id": "2DImTEaliFCW"
      },
      "source": [
        "# https://scikit-learn.org/stable/modules/generated/sklearn.preprocessing.PowerTransformer.html#sklearn.preprocessing.PowerTransformer\n",
        "\n",
        "from sklearn.preprocessing import PowerTransformer\n",
        "pt = PowerTransformer()\n",
        "\n",
        "x_train_split = pt.fit_transform(x_train_split)\n",
        "x_test_split = pt.transform(x_test_split)\n"
      ],
      "execution_count": null,
      "outputs": []
    },
    {
      "cell_type": "markdown",
      "metadata": {
        "id": "IarSy7criv8J"
      },
      "source": [
        "MinMaxScaler"
      ]
    },
    {
      "cell_type": "code",
      "metadata": {
        "id": "HFc9dtWpi_5x"
      },
      "source": [
        "from sklearn.preprocessing import MinMaxScaler\n",
        "\n",
        "scaler = MinMaxScaler(feature_range=(0.0, 1.0))\n",
        "\n",
        "x_train_split = scaler.fit_transform(x_train_split)\n",
        "x_test_split = scaler.transform(x_test_split)\n"
      ],
      "execution_count": null,
      "outputs": []
    },
    {
      "cell_type": "markdown",
      "metadata": {
        "id": "kmf0B1asnOln"
      },
      "source": [
        "RobustScaler"
      ]
    },
    {
      "cell_type": "code",
      "metadata": {
        "id": "29ZQGJLQnQqB"
      },
      "source": [
        "from sklearn.preprocessing import RobustScaler\n",
        "# https://scikit-learn.org/stable/modules/generated/sklearn.preprocessing.RobustScaler.html#sklearn.preprocessing.RobustScaler\n",
        "\n",
        "transformer = RobustScaler()\n",
        "\n",
        "x_train_split = transformer.fit_transform(x_train_split)\n",
        "x_test_split = transformer.transform(x_test_split)"
      ],
      "execution_count": null,
      "outputs": []
    },
    {
      "cell_type": "markdown",
      "metadata": {
        "id": "0_s5m-PRnkmk"
      },
      "source": [
        "StandardScaler"
      ]
    },
    {
      "cell_type": "code",
      "metadata": {
        "id": "xEMSYj1pnmIx"
      },
      "source": [
        "from sklearn.preprocessing import StandardScaler\n",
        "# https://scikit-learn.org/stable/modules/generated/sklearn.preprocessing.StandardScaler.html#sklearn.preprocessing.StandardScaler\n",
        "\n",
        "transformer = StandardScaler()\n",
        "\n",
        "x_train_split = transformer.fit_transform(x_train_split)\n",
        "x_test_split = transformer.transform(x_test_split)"
      ],
      "execution_count": 67,
      "outputs": []
    },
    {
      "cell_type": "markdown",
      "metadata": {
        "id": "nzvU5aX5n9VI"
      },
      "source": [
        "PolynomialFeatures"
      ]
    },
    {
      "cell_type": "code",
      "metadata": {
        "id": "AJKJzW03nkFT"
      },
      "source": [
        "poly_reg = PolynomialFeatures(degree=5)\n",
        "x_train_split  = poly_reg.fit_transform(x_train_split)\n",
        "x_test_split = poly_reg.fit_transform(x_test_split)"
      ],
      "execution_count": 66,
      "outputs": []
    },
    {
      "cell_type": "markdown",
      "metadata": {
        "id": "YTNGsymivdFQ"
      },
      "source": [
        "### LinearRegression"
      ]
    },
    {
      "cell_type": "code",
      "metadata": {
        "colab": {
          "base_uri": "https://localhost:8080/"
        },
        "id": "t0EcuKejvdFR",
        "outputId": "afadf9d1-5215-4774-e13b-a55a815062a3"
      },
      "source": [
        "# обучим линейную регрессию\n",
        "def line_regresion():\n",
        "  \"\"\"обучим линейную регрессию\"\"\"\n",
        "  est_acc = LinearRegression()\n",
        "  est_acc.fit(x_train_split, y_train_split)\n",
        "  y_train_pred = est_acc.predict(x_train_split)\n",
        "  y_test_pred = est_acc.predict(x_test_split)\n",
        "\n",
        "  # вывод оценок обучения\n",
        "  print('MSE train: {:.3f}, test: {:.3f}'.format(\n",
        "          mean_squared_error(y_train_split, y_train_pred),\n",
        "          mean_squared_error(y_test_split, y_test_pred)))\n",
        "  print('R^2 train: {:.3f}, test: {:.3f}'.format(\n",
        "          r2_score(y_train_split, y_train_pred),\n",
        "          r2_score(y_test_split, y_test_pred)))\n",
        "  print('RMSE train: {:.3f}, test: {:.3f}'.format(\n",
        "          math.sqrt(mean_squared_error(y_train_split, y_train_pred)),\n",
        "          math.sqrt(mean_squared_error(y_test_split, y_test_pred))))\n",
        "  \n",
        "line_regresion()"
      ],
      "execution_count": 68,
      "outputs": [
        {
          "output_type": "stream",
          "text": [
            "MSE train: 0.003, test: 0.005\n",
            "R^2 train: 0.516, test: -0.110\n",
            "RMSE train: 0.052, test: 0.072\n"
          ],
          "name": "stdout"
        }
      ]
    },
    {
      "cell_type": "code",
      "metadata": {
        "id": "i5vi5vVqvdFS"
      },
      "source": [
        "# разница которую можно увидеть\n",
        "# np.array(y_train_split.to_list())-y_train_pred"
      ],
      "execution_count": null,
      "outputs": []
    },
    {
      "cell_type": "markdown",
      "metadata": {
        "id": "IqJd7fqpqHNw"
      },
      "source": [
        "### OrthogonalMatchingPursuit"
      ]
    },
    {
      "cell_type": "code",
      "metadata": {
        "colab": {
          "base_uri": "https://localhost:8080/"
        },
        "id": "EDA3z2icqGHh",
        "outputId": "d010607c-1f78-4dea-b79a-2d6f9c104247"
      },
      "source": [
        "from sklearn.linear_model import OrthogonalMatchingPursuit\n",
        "\n",
        "omp = OrthogonalMatchingPursuit(n_nonzero_coefs=2)\n",
        "omp.fit(x_train_split, y_train_split)\n",
        "\n",
        "y_train_pred = omp.predict(x_train_split)\n",
        "y_test_pred = omp.predict(x_test_split)\n",
        "\n",
        "# вывод оценок обучения\n",
        "print('MSE train: {:.3f}, test: {:.3f}'.format(\n",
        "        mean_squared_error(y_train_split, y_train_pred),\n",
        "        mean_squared_error(y_test_split, y_test_pred)))\n",
        "print('R^2 train: {:.3f}, test: {:.3f}'.format(\n",
        "        r2_score(y_train_split, y_train_pred),\n",
        "        r2_score(y_test_split, y_test_pred)))\n",
        "print('RMSE train: {:.3f}, test: {:.3f}'.format(\n",
        "        math.sqrt(mean_squared_error(y_train_split, y_train_pred)),\n",
        "        math.sqrt(mean_squared_error(y_test_split, y_test_pred))))"
      ],
      "execution_count": 69,
      "outputs": [
        {
          "output_type": "stream",
          "text": [
            "MSE train: 0.005, test: 0.005\n",
            "R^2 train: 0.020, test: -0.020\n",
            "RMSE train: 0.073, test: 0.069\n"
          ],
          "name": "stdout"
        }
      ]
    },
    {
      "cell_type": "markdown",
      "metadata": {
        "id": "aCogqvErrj1H"
      },
      "source": [
        "### SGDRegressor"
      ]
    },
    {
      "cell_type": "code",
      "metadata": {
        "colab": {
          "base_uri": "https://localhost:8080/"
        },
        "id": "eYPgy_CarA_N",
        "outputId": "8c466d26-6fc1-4fd6-dc68-79957616895b"
      },
      "source": [
        "from sklearn.linear_model import SGDRegressor\n",
        "from sklearn.pipeline import make_pipeline\n",
        "from sklearn.preprocessing import StandardScaler\n",
        "rng = np.random.RandomState(0)\n",
        "y = y_train_split\n",
        "X = x_train_split\n",
        "\n",
        "reg = make_pipeline(StandardScaler(),\n",
        "                   SGDRegressor(max_iter=1000, tol=1e-3))\n",
        "reg.fit(X, y)\n",
        "y_train_pred = reg.predict(x_train_split)\n",
        "y_test_pred = reg.predict(x_test_split)\n",
        "\n",
        "# вывод оценок обучения\n",
        "print('MSE train: {:.3f}, test: {:.3f}'.format(\n",
        "        mean_squared_error(y_train_split, y_train_pred),\n",
        "        mean_squared_error(y_test_split, y_test_pred)))\n",
        "print('R^2 train: {:.3f}, test: {:.3f}'.format(\n",
        "        r2_score(y_train_split, y_train_pred),\n",
        "        r2_score(y_test_split, y_test_pred)))\n",
        "print('RMSE train: {:.3f}, test: {:.3f}'.format(\n",
        "        math.sqrt(mean_squared_error(y_train_split, y_train_pred)),\n",
        "        math.sqrt(mean_squared_error(y_test_split, y_test_pred))))"
      ],
      "execution_count": 70,
      "outputs": [
        {
          "output_type": "stream",
          "text": [
            "MSE train: 0.006, test: 0.006\n",
            "R^2 train: -0.136, test: -0.258\n",
            "RMSE train: 0.079, test: 0.076\n"
          ],
          "name": "stdout"
        }
      ]
    },
    {
      "cell_type": "markdown",
      "metadata": {
        "id": "eK5TJlyfyuTD"
      },
      "source": [
        "### BayesianRidge"
      ]
    },
    {
      "cell_type": "code",
      "metadata": {
        "colab": {
          "base_uri": "https://localhost:8080/"
        },
        "id": "Xm6wc0JLsv0I",
        "outputId": "995d670e-3f86-43b5-9fee-ed4f29823573"
      },
      "source": [
        "from sklearn import linear_model\n",
        "\n",
        "y = y_train_split\n",
        "X = x_train_split\n",
        "\n",
        "clf = linear_model.BayesianRidge()\n",
        "clf.fit(X, y)\n",
        "y_train_pred = clf.predict(x_train_split)\n",
        "y_test_pred = clf.predict(x_test_split)\n",
        "\n",
        "# вывод оценок обучения\n",
        "print('MSE train: {:.3f}, test: {:.3f}'.format(\n",
        "        mean_squared_error(y_train_split, y_train_pred),\n",
        "        mean_squared_error(y_test_split, y_test_pred)))\n",
        "print('R^2 train: {:.3f}, test: {:.3f}'.format(\n",
        "        r2_score(y_train_split, y_train_pred),\n",
        "        r2_score(y_test_split, y_test_pred)))\n",
        "print('RMSE train: {:.3f}, test: {:.3f}'.format(\n",
        "        math.sqrt(mean_squared_error(y_train_split, y_train_pred)),\n",
        "        math.sqrt(mean_squared_error(y_test_split, y_test_pred))))\n",
        "\n",
        "clf = linear_model.ARDRegression()\n",
        "clf.fit(X, y)\n",
        "y_train_pred = clf.predict(x_train_split)\n",
        "y_test_pred = clf.predict(x_test_split)\n",
        "\n",
        "# вывод оценок обучения\n",
        "print('MSE train: {:.3f}, test: {:.3f}'.format(\n",
        "        mean_squared_error(y_train_split, y_train_pred),\n",
        "        mean_squared_error(y_test_split, y_test_pred)))\n",
        "print('R^2 train: {:.3f}, test: {:.3f}'.format(\n",
        "        r2_score(y_train_split, y_train_pred),\n",
        "        r2_score(y_test_split, y_test_pred)))\n",
        "print('RMSE train: {:.3f}, test: {:.3f}'.format(\n",
        "        math.sqrt(mean_squared_error(y_train_split, y_train_pred)),\n",
        "        math.sqrt(mean_squared_error(y_test_split, y_test_pred))))"
      ],
      "execution_count": 71,
      "outputs": [
        {
          "output_type": "stream",
          "text": [
            "MSE train: 0.005, test: 0.005\n",
            "R^2 train: 0.014, test: -0.011\n",
            "RMSE train: 0.074, test: 0.068\n",
            "MSE train: 0.005, test: 0.005\n",
            "R^2 train: 0.000, test: -0.007\n",
            "RMSE train: 0.074, test: 0.068\n"
          ],
          "name": "stdout"
        }
      ]
    },
    {
      "cell_type": "markdown",
      "metadata": {
        "id": "6tCkcBRXjkZ_"
      },
      "source": [
        "### AdaBoostRegressor"
      ]
    },
    {
      "cell_type": "code",
      "metadata": {
        "colab": {
          "base_uri": "https://localhost:8080/",
          "height": 132
        },
        "id": "fIe8ubOPTPLr",
        "outputId": "b7956e8b-287e-4d6e-9a68-b83b56881d1a"
      },
      "source": [
        "from sklearn.ensemble import AdaBoostRegressor\r\n",
        "\r\n",
        "regr = AdaBoostRegressor(base_estimator=None, learning_rate=1.6273721018635237,\r\n",
        "                  loss='linear', n_estimators=35, random_state=2100)\r\n",
        "regr.fit(x_train_split, y_train_split)\r\n",
        "\r\n",
        "y_train_pred = regr.predict(x_train_split)\r\n",
        "y_test_pred = regr.predict(x_test_split)\r\n",
        "\r\n",
        "print('MAE train: {:.3f}, test: {:.3f}'.format(\r\n",
        "        mean_absolute_error(y_train_split, y_train_pred),\r\n",
        "        mean_absolute_error(y_test_split, y_test_pred)))\r\n",
        "print('MSE train: {:.3f}, test: {:.3f}'.format(\r\n",
        "        mean_squared_error(y_train_split, y_train_pred),\r\n",
        "        mean_squared_error(y_test_split, y_test_pred)))\r\n",
        "print('R^2 train: {:.3f}, test: {:.3f}'.format(\r\n",
        "        r2_score(y_train_split, y_train_pred),\r\n",
        "        r2_score(y_test_split, y_test_pred)))\r\n",
        "print('RMSE train: {:.3f}, test: {:.3f}'.format(\r\n",
        "        math.sqrt(mean_squared_error(y_train_split, y_train_pred)),\r\n",
        "        math.sqrt(mean_squared_error(y_test_split, y_test_pred))))"
      ],
      "execution_count": 72,
      "outputs": [
        {
          "output_type": "error",
          "ename": "IndentationError",
          "evalue": "ignored",
          "traceback": [
            "\u001b[0;36m  File \u001b[0;32m\"<ipython-input-72-2088ec950b62>\"\u001b[0;36m, line \u001b[0;32m10\u001b[0m\n\u001b[0;31m    print('MAE train: {:.3f}, test: {:.3f}'.format(\u001b[0m\n\u001b[0m    ^\u001b[0m\n\u001b[0;31mIndentationError\u001b[0m\u001b[0;31m:\u001b[0m unexpected indent\n"
          ]
        }
      ]
    },
    {
      "cell_type": "markdown",
      "metadata": {
        "id": "2HuUhQ-kTcJI"
      },
      "source": [
        "### Голосование алгоритмо"
      ]
    },
    {
      "cell_type": "code",
      "metadata": {
        "id": "x5wCsW7xTm-_"
      },
      "source": [
        "# голосование версия - 1 - два алгоритма"
      ],
      "execution_count": null,
      "outputs": []
    },
    {
      "cell_type": "code",
      "metadata": {
        "colab": {
          "base_uri": "https://localhost:8080/"
        },
        "id": "QYEhNb8ajrO2",
        "outputId": "7573b8b9-0b7a-48f3-b0a7-1bdb63f1bc96"
      },
      "source": [
        "from sklearn.ensemble import AdaBoostRegressor\n",
        "from sklearn.datasets import make_regression\n",
        "from hpsklearn import ada_boost_regression\n",
        "from pandas import read_csv\n",
        "from sklearn.model_selection import train_test_split\n",
        "from sklearn.metrics import mean_squared_error\n",
        "from hpsklearn import HyperoptEstimator\n",
        "from hpsklearn import any_regressor\n",
        "from hpsklearn import any_preprocessing\n",
        "from hyperopt import tpe\n",
        "from hpsklearn import HyperoptEstimator, xgboost_regression, random_forest_regression\n",
        "from sklearn.metrics import mean_squared_error\n",
        "from sklearn.preprocessing import MinMaxScaler\n",
        "from sklearn.ensemble import RandomForestRegressor\n",
        "\n",
        "# разделим выборку на тест и обучение \n",
        "score = []\n",
        "\n",
        "for i in range(5,6):\n",
        "  x_train = df_train[['X','Y']]\n",
        "  y_train = df_train['NTG']\n",
        "  x_train_split, x_test_split, y_train_split, y_test_split = train_test_split(x_train, y_train, test_size=0.33, random_state=42)\n",
        "\n",
        "  poly_reg = PolynomialFeatures(degree=i)\n",
        "  x_train_split  = poly_reg.fit_transform(x_train_split)\n",
        "  x_test_split = poly_reg.fit_transform(x_test_split)\n",
        "\n",
        "  scaler = MinMaxScaler(feature_range=(0.0, 1.0))\n",
        "  x_train_split = scaler.fit_transform(x_train_split)\n",
        "  x_test_split = scaler.transform(x_test_split)\n",
        "\n",
        "  regr = AdaBoostRegressor(base_estimator=None, learning_rate=1.6273721018635237,\n",
        "                    loss='linear', n_estimators=35, random_state=2100)\n",
        "  regr.fit(x_train_split, y_train_split)\n",
        "\n",
        "  y_train_pred = regr.predict(x_train_split)\n",
        "  y_test_pred = regr.predict(x_test_split)\n",
        "\n",
        "  ################################3\n",
        "  model = RandomForestRegressor(bootstrap=True, ccp_alpha=0.0, criterion='mae',\n",
        "                        max_depth=20, max_features='sqrt', max_leaf_nodes=None,\n",
        "                        max_samples=None, min_impurity_decrease=0.0,\n",
        "                        min_impurity_split=None, min_samples_leaf=2,\n",
        "                        min_samples_split=2, min_weight_fraction_leaf=0.0,\n",
        "                        n_estimators=250, n_jobs=None, oob_score=False,\n",
        "                        random_state=30, verbose=0, warm_start=False)\n",
        "\n",
        "  model.fit(x_train_split, y_train_split)\n",
        "  y_train_pred_2 = model.predict(x_train_split)\n",
        "  y_test_pred_2 = model.predict(x_test_split)\n",
        "\n",
        "  al = 0.5\n",
        "  # y_train_pred = (al*y_train_pred + (1-al)*y_train_pred_2)\n",
        "  # y_test_pred = (al*y_test_pred + (1-al)*y_test_pred_2)\n",
        "  ###################################\n",
        "  estim = HyperoptEstimator(regressor=ada_boost_regression('my_gb'),\n",
        "                          max_evals=10, trial_timeout=10, seed=39,\n",
        "                          loss_fn=mean_squared_error)\n",
        "\n",
        "  estim.fit(x_train_split, y_train_split)\n",
        "  y_train_pred_3 = estim.predict(x_train_split)\n",
        "  y_test_pred_3 = estim.predict(x_test_split)\n",
        "\n",
        "\n",
        "  A = 0.5\n",
        "  B = 0.25\n",
        "  C = 1 - A - B\n",
        "  y_train_pred = A*y_train_pred + + B*y_train_pred_2 + C*y_train_pred_3\n",
        "  y_test_pred = A*y_test_pred + B*y_test_pred_2 + C*y_test_pred_3\n",
        "\n",
        "\n",
        "  print('MAE train: {:.3f}, test: {:.3f}'.format(\n",
        "          mean_absolute_error(y_train_split, y_train_pred),\n",
        "          mean_absolute_error(y_test_split, y_test_pred)))\n",
        "  print('MSE train: {:.3f}, test: {:.3f}'.format(\n",
        "          mean_squared_error(y_train_split, y_train_pred),\n",
        "          mean_squared_error(y_test_split, y_test_pred)))\n",
        "  print('R^2 train: {:.3f}, test: {:.3f}'.format(\n",
        "          r2_score(y_train_split, y_train_pred),\n",
        "          r2_score(y_test_split, y_test_pred)))\n",
        "  print('RMSE train: {:.3f}, test: {:.3f}'.format(\n",
        "          math.sqrt(mean_squared_error(y_train_split, y_train_pred)),\n",
        "          math.sqrt(mean_squared_error(y_test_split, y_test_pred))))\n",
        "  print('Cтепень равняется ', i)\n",
        "  print('######################################')  \n"
      ],
      "execution_count": 41,
      "outputs": [
        {
          "output_type": "stream",
          "text": [
            "100%|██████████| 1/1 [00:00<00:00,  5.58it/s, best loss: 0.004042153039546323]\n",
            "100%|██████████| 1/1 [00:00<00:00,  3.34it/s, best loss: 0.004042153039546323]\n",
            "100%|██████████| 1/1 [00:01<00:00,  1.35s/it, best loss: 0.0030080621865901163]\n",
            "100%|██████████| 1/1 [00:00<00:00,  6.10it/s, best loss: 0.00267824472350862]\n",
            "100%|██████████| 1/1 [00:00<00:00,  7.18it/s, best loss: 0.00267824472350862]\n",
            "100%|██████████| 1/1 [00:00<00:00,  5.27it/s, best loss: 0.00267824472350862]\n",
            "100%|██████████| 1/1 [00:00<00:00, 13.55it/s, best loss: 0.00267824472350862]\n",
            "100%|██████████| 1/1 [00:00<00:00,  2.25it/s, best loss: 0.00267824472350862]\n",
            "100%|██████████| 1/1 [00:00<00:00,  1.62it/s, best loss: 0.00267824472350862]\n",
            "100%|██████████| 1/1 [00:00<00:00, 12.45it/s, best loss: 0.00267824472350862]\n",
            "MAE train: 0.032, test: 0.049\n",
            "MSE train: 0.001, test: 0.003\n",
            "R^2 train: 0.742, test: 0.309\n",
            "RMSE train: 0.038, test: 0.056\n",
            "Cтепень равняется  5\n",
            "######################################\n"
          ],
          "name": "stdout"
        }
      ]
    },
    {
      "cell_type": "markdown",
      "metadata": {
        "id": "0Pv5LldkFPs6"
      },
      "source": [
        "\r\n",
        "\r\n",
        "Голосование алгоритмов версия 2\r\n"
      ]
    },
    {
      "cell_type": "code",
      "metadata": {
        "id": "Sme4dyLgFL0N"
      },
      "source": [
        "# Голосование алгоритмов версия 2 - три алгоритма"
      ],
      "execution_count": null,
      "outputs": []
    },
    {
      "cell_type": "code",
      "metadata": {
        "colab": {
          "base_uri": "https://localhost:8080/"
        },
        "id": "FSr1WFpoD0HM",
        "outputId": "0d441dde-e6bc-4177-a552-6f00a2da9a6f"
      },
      "source": [
        "from sklearn.ensemble import AdaBoostRegressor\r\n",
        "from sklearn.datasets import make_regression\r\n",
        "from hpsklearn import ada_boost_regression, extra_trees_regression, svr_poly, \\\r\n",
        "svr, svr_linear, svr_rbf, svr_poly, svr_sigmoid, knn_regression, sgd_regression, gradient_boosting_regression, \\\r\n",
        "random_forest_regression, extra_trees_regression, sgd_regression, xgboost_regression\r\n",
        "from sklearn.metrics import max_error, mean_squared_log_error\r\n",
        "\r\n",
        "\r\n",
        "# разделим выборку на тест и обучение \r\n",
        "score = []\r\n",
        "\r\n",
        "for i in range(5,6):\r\n",
        "  x_train = df_train[['X','Y']]\r\n",
        "  y_train = df_train['NTG']\r\n",
        "  x_train_split, x_test_split, y_train_split, y_test_split = train_test_split(x_train, y_train, test_size=0.33, random_state=42)\r\n",
        "\r\n",
        "  poly_reg = PolynomialFeatures(degree=i)\r\n",
        "  x_train_split  = poly_reg.fit_transform(x_train_split)\r\n",
        "  x_test_split = poly_reg.fit_transform(x_test_split)\r\n",
        "\r\n",
        "  scaler = MinMaxScaler(feature_range=(0.0, 1.0))\r\n",
        "  x_train_split = scaler.fit_transform(x_train_split)\r\n",
        "  x_test_split = scaler.transform(x_test_split)\r\n",
        "\r\n",
        "  regr = AdaBoostRegressor(base_estimator=None, learning_rate=1.6273721018635237,\r\n",
        "                    loss='linear', n_estimators=35, random_state=2100)\r\n",
        "  regr.fit(x_train_split, y_train_split)\r\n",
        "\r\n",
        "  y_train_pred = regr.predict(x_train_split)\r\n",
        "  y_test_pred = regr.predict(x_test_split)\r\n",
        "\r\n",
        "  ################################3\r\n",
        "  model = estim = HyperoptEstimator(regressor=svr_linear('my_gb'),\r\n",
        "                          max_evals=10, trial_timeout=10, seed=39,\r\n",
        "                          loss_fn=mean_squared_error)\r\n",
        "\r\n",
        "  model.fit(x_train_split, y_train_split)\r\n",
        "  y_train_pred_2 = model.predict(x_train_split)\r\n",
        "  y_test_pred_2 = model.predict(x_test_split)\r\n",
        "\r\n",
        "  al = 0.5\r\n",
        "  # y_train_pred = (al*y_train_pred + (1-al)*y_train_pred_2)\r\n",
        "  # y_test_pred = (al*y_test_pred + (1-al)*y_test_pred_2)\r\n",
        "  ###################################\r\n",
        "  estim = HyperoptEstimator(regressor=ada_boost_regression('my_gb'),\r\n",
        "                          max_evals=10, trial_timeout=10, seed=39,\r\n",
        "                          loss_fn=mean_squared_error)\r\n",
        "\r\n",
        "  estim.fit(x_train_split, y_train_split)\r\n",
        "  y_train_pred_3 = estim.predict(x_train_split)\r\n",
        "  y_test_pred_3 = estim.predict(x_test_split)\r\n",
        "\r\n",
        "\r\n",
        "  A = 0.3\r\n",
        "  B = 0.3\r\n",
        "  C = 1 - A - B\r\n",
        "  y_train_pred = A*y_train_pred + + B*y_train_pred_2 + C*y_train_pred_3\r\n",
        "  y_test_pred = A*y_test_pred + B*y_test_pred_2 + C*y_test_pred_3\r\n",
        "\r\n",
        "\r\n",
        "  print('MAE train: {:.3f}, test: {:.3f}'.format(\r\n",
        "          mean_absolute_error(y_train_split, y_train_pred),\r\n",
        "          mean_absolute_error(y_test_split, y_test_pred)))\r\n",
        "  print('MSE train: {:.3f}, test: {:.3f}'.format(\r\n",
        "          mean_squared_error(y_train_split, y_train_pred),\r\n",
        "          mean_squared_error(y_test_split, y_test_pred)))\r\n",
        "  print('R^2 train: {:.3f}, test: {:.3f}'.format(\r\n",
        "          r2_score(y_train_split, y_train_pred),\r\n",
        "          r2_score(y_test_split, y_test_pred)))\r\n",
        "  print('RMSE train: {:.3f}, test: {:.3f}'.format(\r\n",
        "          math.sqrt(mean_squared_error(y_train_split, y_train_pred)),\r\n",
        "          math.sqrt(mean_squared_error(y_test_split, y_test_pred))))\r\n",
        "  print('Cтепень равняется ', i)\r\n",
        "  print('######################################')  \r\n"
      ],
      "execution_count": 42,
      "outputs": [
        {
          "output_type": "stream",
          "text": [
            "100%|██████████| 1/1 [00:00<00:00, 14.41it/s, best loss: 0.0050743404204556366]\n",
            "100%|██████████| 1/1 [00:00<00:00, 30.85it/s, best loss: 0.0050743404204556366]\n",
            "100%|██████████| 1/1 [00:00<00:00, 29.98it/s, best loss: 0.0050743404204556366]\n",
            "100%|██████████| 1/1 [00:00<00:00, 27.35it/s, best loss: 0.0050743404204556366]\n",
            "100%|██████████| 1/1 [00:00<00:00, 29.55it/s, best loss: 0.0050743404204556366]\n",
            "100%|██████████| 1/1 [00:00<00:00, 29.57it/s, best loss: 0.0050743404204556366]\n",
            "100%|██████████| 1/1 [00:00<00:00,  7.82it/s, best loss: 0.0050743404204556366]\n",
            "100%|██████████| 1/1 [00:00<00:00, 31.35it/s, best loss: 0.0050743404204556366]\n",
            "100%|██████████| 1/1 [00:00<00:00, 25.70it/s, best loss: 0.0050743404204556366]\n",
            "100%|██████████| 1/1 [00:00<00:00, 29.69it/s, best loss: 0.0050743404204556366]\n",
            "100%|██████████| 1/1 [00:00<00:00,  5.34it/s, best loss: 0.004042153039546323]\n",
            "100%|██████████| 1/1 [00:00<00:00,  3.41it/s, best loss: 0.004042153039546323]\n",
            "100%|██████████| 1/1 [00:01<00:00,  1.38s/it, best loss: 0.0030080621865901163]\n",
            "100%|██████████| 1/1 [00:00<00:00,  5.96it/s, best loss: 0.00267824472350862]\n",
            "100%|██████████| 1/1 [00:00<00:00,  7.46it/s, best loss: 0.00267824472350862]\n",
            "100%|██████████| 1/1 [00:00<00:00,  5.13it/s, best loss: 0.00267824472350862]\n",
            "100%|██████████| 1/1 [00:00<00:00, 14.47it/s, best loss: 0.00267824472350862]\n",
            "100%|██████████| 1/1 [00:00<00:00,  2.31it/s, best loss: 0.00267824472350862]\n",
            "100%|██████████| 1/1 [00:00<00:00,  1.65it/s, best loss: 0.00267824472350862]\n",
            "100%|██████████| 1/1 [00:00<00:00, 12.54it/s, best loss: 0.00267824472350862]\n",
            "MAE train: 0.040, test: 0.048\n",
            "MSE train: 0.002, test: 0.003\n",
            "R^2 train: 0.606, test: 0.341\n",
            "RMSE train: 0.047, test: 0.055\n",
            "Cтепень равняется  5\n",
            "######################################\n"
          ],
          "name": "stdout"
        }
      ]
    },
    {
      "cell_type": "code",
      "metadata": {
        "colab": {
          "base_uri": "https://localhost:8080/"
        },
        "id": "udPRPo2DOXYi",
        "outputId": "9625d390-26f9-40ee-c119-e1a0c068c66e"
      },
      "source": [
        "# Вытащим сами алгоритмы\r\n",
        "print(model.best_model()['learner'])\r\n",
        "print(estim.best_model()['learner'])"
      ],
      "execution_count": 56,
      "outputs": [
        {
          "output_type": "stream",
          "text": [
            "SVR(C=0.00011055634849084026, cache_size=512, coef0=0.0, degree=1,\n",
            "    epsilon=0.001115347080173807, gamma='auto', kernel='linear',\n",
            "    max_iter=170274026.0, shrinking=False, tol=0.0002988612959169446,\n",
            "    verbose=False)\n",
            "AdaBoostRegressor(base_estimator=None, learning_rate=0.19877223857045706,\n",
            "                  loss='square', n_estimators=285, random_state=3)\n"
          ],
          "name": "stdout"
        }
      ]
    },
    {
      "cell_type": "markdown",
      "metadata": {
        "id": "0gII2YngaM5k"
      },
      "source": [
        "Попытка обучиться по ошибке 1го обучения - не дела результатов"
      ]
    },
    {
      "cell_type": "code",
      "metadata": {
        "colab": {
          "base_uri": "https://localhost:8080/"
        },
        "id": "nw1v9UL5Vw7s",
        "outputId": "f5674eb1-ca86-4a4c-ff7e-4a37f20c8a28"
      },
      "source": [
        "\r\n",
        "\r\n",
        "x_train = df_train[['X','Y']]\r\n",
        "y_train = df_train['NTG']\r\n",
        "x_train_split, x_test_split, y_train_split, y_test_split = train_test_split(x_train, y_train, test_size=0.33, random_state=42)\r\n",
        "\r\n",
        "poly_reg = PolynomialFeatures(degree=5)\r\n",
        "x_train_split  = poly_reg.fit_transform(x_train_split)\r\n",
        "x_test_split = poly_reg.fit_transform(x_test_split)\r\n",
        "\r\n",
        "scaler = MinMaxScaler(feature_range=(0.0, 1.0))\r\n",
        "x_train_split = scaler.fit_transform(x_train_split)\r\n",
        "x_test_split = scaler.transform(x_test_split)\r\n",
        "\r\n",
        "regr = AdaBoostRegressor(base_estimator=None, learning_rate=1.6273721018635237,\r\n",
        "                  loss='linear', n_estimators=35, random_state=2100)\r\n",
        "\r\n",
        "# model = SVR(C=0.00011055634849084026, cache_size=512, coef0=0.0, degree=1,\r\n",
        "#     epsilon=0.001115347080173807, gamma='auto', kernel='linear',\r\n",
        "#     max_iter=170274026.0, shrinking=False, tol=0.0002988612959169446,\r\n",
        "#     verbose=False)\r\n",
        "\r\n",
        "regr.fit(x_train_split, y_train_split)\r\n",
        "\r\n",
        "y_train_pred_1 = regr.predict(x_train_split)\r\n",
        "\r\n",
        "########################################33\r\n",
        "y_MIDLE = y_train_split - y_train_pred\r\n",
        "model = HyperoptEstimator(regressor=ada_boost_regression('reg'), preprocessing=any_preprocessing('pre'), algo=tpe.suggest, max_evals=20, trial_timeout=30)\r\n",
        "model.fit(x_train_split, y_MIDLE)\r\n",
        "\r\n",
        "y_train_pred_2 = model.predict(x_train_split)\r\n",
        "# y_train_pred = y_train_pred + model.predict(x_train_split)\r\n",
        "# y_test_pred = regr.predict(x_test_split) +  model.predict(x_test_split)\r\n",
        "\r\n",
        "########################################33\r\n",
        "y_MIDLE_2 = y_train_split - y_train_pred_1 - y_train_pred_2\r\n",
        "est = HyperoptEstimator(regressor=svr_linear('reg'), preprocessing=any_preprocessing('pre'), algo=tpe.suggest, max_evals=20, trial_timeout=30)\r\n",
        "est.fit(x_train_split, y_MIDLE_2)\r\n",
        "\r\n",
        "y_train_pred = regr.predict(x_train_split) + model.predict(x_train_split) + est.predict(x_train_split)\r\n",
        "y_test_pred = regr.predict(x_test_split) +  model.predict(x_test_split) + est.predict(x_test_split)\r\n",
        "\r\n",
        "\r\n",
        "print('MAE train: {:.3f}, test: {:.3f}'.format(\r\n",
        "        mean_absolute_error(y_train_split, y_train_pred),\r\n",
        "        mean_absolute_error(y_test_split, y_test_pred)))\r\n",
        "print('MSE train: {:.3f}, test: {:.3f}'.format(\r\n",
        "        mean_squared_error(y_train_split, y_train_pred),\r\n",
        "        mean_squared_error(y_test_split, y_test_pred)))\r\n",
        "print('R^2 train: {:.3f}, test: {:.3f}'.format(\r\n",
        "        r2_score(y_train_split, y_train_pred),\r\n",
        "        r2_score(y_test_split, y_test_pred)))\r\n",
        "print('RMSE train: {:.3f}, test: {:.3f}'.format(\r\n",
        "        math.sqrt(mean_squared_error(y_train_split, y_train_pred)),\r\n",
        "        math.sqrt(mean_squared_error(y_test_split, y_test_pred))))\r\n",
        "\r\n",
        "\r\n"
      ],
      "execution_count": 103,
      "outputs": [
        {
          "output_type": "stream",
          "text": [
            "100%|██████████| 1/1 [00:00<00:00,  4.62it/s, best loss: 0.4424185652546423]\n",
            "100%|██████████| 1/1 [00:00<00:00,  7.21it/s, best loss: 0.2552164137752905]\n",
            "100%|██████████| 1/1 [00:00<00:00,  1.31it/s, best loss: 0.2552164137752905]\n",
            "100%|██████████| 1/1 [00:00<00:00,  6.98it/s, best loss: 0.2552164137752905]\n",
            "100%|██████████| 1/1 [00:00<00:00, 12.07it/s, best loss: 0.24737499736269164]\n",
            "100%|██████████| 1/1 [00:00<00:00,  1.19it/s, best loss: 0.21839262129756576]\n",
            "100%|██████████| 1/1 [00:00<00:00,  1.94it/s, best loss: 0.21839262129756576]\n",
            "100%|██████████| 1/1 [00:00<00:00, 13.04it/s, best loss: 0.21839262129756576]\n",
            "100%|██████████| 1/1 [00:00<00:00,  2.18it/s, best loss: 0.21839262129756576]\n",
            "  0%|          | 0/1 [00:00<?, ?it/s, best loss: ?]"
          ],
          "name": "stdout"
        },
        {
          "output_type": "stream",
          "text": [
            "/usr/local/lib/python3.7/dist-packages/sklearn/decomposition/_base.py:132: RuntimeWarning: invalid value encountered in true_divide\n",
            "  X_transformed /= np.sqrt(self.explained_variance_)\n",
            "\n"
          ],
          "name": "stderr"
        },
        {
          "output_type": "stream",
          "text": [
            "Failing trial due to NaN in\n",
            "PCA(copy=True, iterated_power='auto', n_components=21, random_state=None,\n",
            "    svd_solver='auto', tol=0.0, whiten=True)\n",
            "100%|██████████| 1/1 [00:00<00:00,  9.53it/s, best loss: 0.21839262129756576]\n",
            "100%|██████████| 1/1 [00:00<00:00,  2.07it/s, best loss: 0.21839262129756576]\n",
            "100%|██████████| 1/1 [00:00<00:00,  6.32it/s, best loss: 0.21839262129756576]\n",
            "100%|██████████| 1/1 [00:00<00:00, 14.73it/s, best loss: 0.21839262129756576]\n",
            "100%|██████████| 1/1 [00:00<00:00,  6.13it/s, best loss: 0.21839262129756576]\n",
            "100%|██████████| 1/1 [00:00<00:00,  1.58it/s, best loss: 0.21839262129756576]\n",
            "100%|██████████| 1/1 [00:01<00:00,  1.16s/it, best loss: 0.18033560957289296]\n",
            "100%|██████████| 1/1 [00:00<00:00,  1.17it/s, best loss: 0.18033560957289296]\n",
            "100%|██████████| 1/1 [00:00<00:00,  7.29it/s, best loss: 0.18033560957289296]\n",
            "100%|██████████| 1/1 [00:00<00:00, 14.55it/s, best loss: 0.18033560957289296]\n",
            "100%|██████████| 1/1 [00:00<00:00,  1.29it/s, best loss: 0.18033560957289296]\n",
            "100%|██████████| 1/1 [00:00<00:00, 22.67it/s, best loss: 1.0161253928128677]\n",
            "100%|██████████| 1/1 [00:00<00:00, 21.36it/s, best loss: 1.0161253928128287]\n",
            "100%|██████████| 1/1 [00:00<00:00, 19.84it/s, best loss: 1.0161253928128287]\n",
            "100%|██████████| 1/1 [00:00<00:00, 20.30it/s, best loss: 1.0161253928128287]\n",
            "100%|██████████| 1/1 [00:00<00:00, 20.41it/s, best loss: 1.0161253928128287]\n",
            "100%|██████████| 1/1 [00:00<00:00, 19.47it/s, best loss: 1.0161253928128287]\n",
            "100%|██████████| 1/1 [00:00<00:00, 21.08it/s, best loss: 0.8652843011075192]\n",
            "100%|██████████| 1/1 [00:00<00:00, 23.27it/s, best loss: 0.8652843011075192]\n",
            "100%|██████████| 1/1 [00:00<00:00, 19.16it/s, best loss: 0.8652843011075192]\n",
            "100%|██████████| 1/1 [00:00<00:00, 21.72it/s, best loss: 0.8652843011075192]\n",
            "100%|██████████| 1/1 [00:00<00:00, 20.64it/s, best loss: 0.8652843011075192]\n",
            "100%|██████████| 1/1 [00:00<00:00, 17.18it/s, best loss: 0.8232516624888839]\n",
            "100%|██████████| 1/1 [00:00<00:00, 23.22it/s, best loss: 0.8232516624888839]\n",
            "100%|██████████| 1/1 [00:01<00:00,  1.41s/it, best loss: 0.7735810637346072]\n",
            "100%|██████████| 1/1 [00:00<00:00, 22.73it/s, best loss: 0.7735810637346072]\n",
            "100%|██████████| 1/1 [00:00<00:00, 21.47it/s, best loss: 0.7735810637346072]\n",
            "100%|██████████| 1/1 [00:00<00:00, 21.19it/s, best loss: 0.7735810637346072]\n",
            "100%|██████████| 1/1 [00:00<00:00, 21.87it/s, best loss: 0.7735810637346072]\n",
            "100%|██████████| 1/1 [00:00<00:00, 18.97it/s, best loss: 0.7735810637346072]\n",
            "100%|██████████| 1/1 [00:00<00:00, 21.44it/s, best loss: 0.7735810637346072]\n",
            "MAE train: 0.033, test: 0.051\n",
            "MSE train: 0.002, test: 0.003\n",
            "R^2 train: 0.725, test: 0.249\n",
            "RMSE train: 0.039, test: 0.059\n"
          ],
          "name": "stdout"
        }
      ]
    },
    {
      "cell_type": "markdown",
      "metadata": {
        "id": "2ePgsrP3xx87"
      },
      "source": [
        "### *KNeighborsRegressor*"
      ]
    },
    {
      "cell_type": "code",
      "metadata": {
        "colab": {
          "base_uri": "https://localhost:8080/"
        },
        "id": "5LzPyObuxydr",
        "outputId": "6477262d-1f49-4391-d993-e31d591447a7"
      },
      "source": [
        "from sklearn.neighbors import KNeighborsRegressor\n",
        "# https://scikit-learn.org/stable/modules/generated/sklearn.neighbors.KNeighborsRegressor.html?highlight=kneighborsregressor#sklearn.neighbors.KNeighborsRegressor\n",
        "\n",
        "regr = KNeighborsRegressor(algorithm='auto', leaf_size=30, metric='chebyshev',\n",
        "                    metric_params=None, n_jobs=1, n_neighbors=2, p=0,\n",
        "                    weights='uniform')\n",
        "\n",
        "regr.fit(x_train_split, y_train_split)\n",
        "\n",
        "y_train_pred = regr.predict(x_train_split)\n",
        "y_test_pred = regr.predict(x_test_split)\n",
        "\n",
        "print('MAE train: {:.3f}, test: {:.3f}'.format(\n",
        "        mean_absolute_error(y_train_split, y_train_pred),\n",
        "        mean_absolute_error(y_test_split, y_test_pred)))\n",
        "print('MSE train: {:.3f}, test: {:.3f}'.format(\n",
        "        mean_squared_error(y_train_split, y_train_pred),\n",
        "        mean_squared_error(y_test_split, y_test_pred)))\n",
        "print('R^2 train: {:.3f}, test: {:.3f}'.format(\n",
        "        r2_score(y_train_split, y_train_pred),\n",
        "        r2_score(y_test_split, y_test_pred)))\n",
        "print('RMSE train: {:.3f}, test: {:.3f}'.format(\n",
        "        math.sqrt(mean_squared_error(y_train_split, y_train_pred)),\n",
        "        math.sqrt(mean_squared_error(y_test_split, y_test_pred))))"
      ],
      "execution_count": 73,
      "outputs": [
        {
          "output_type": "stream",
          "text": [
            "MAE train: 0.030, test: 0.048\n",
            "MSE train: 0.001, test: 0.004\n",
            "R^2 train: 0.730, test: 0.177\n",
            "RMSE train: 0.038, test: 0.062\n"
          ],
          "name": "stdout"
        }
      ]
    },
    {
      "cell_type": "markdown",
      "metadata": {
        "id": "9M1DuqsOvdFT"
      },
      "source": [
        "### Lasso"
      ]
    },
    {
      "cell_type": "code",
      "metadata": {
        "colab": {
          "base_uri": "https://localhost:8080/"
        },
        "id": "9q84WWJQvdFT",
        "outputId": "82a61eb1-019f-4894-b17c-4e9d71e4021c"
      },
      "source": [
        "def lasso_regresion():\n",
        "  \"\"\"Обучим лассо регрессию\"\"\"\n",
        "  lasso = Lasso(alpha=0.1)\n",
        "  lasso.fit(x_train_split, y_train_split)\n",
        "  y_train_pred = lasso.predict(x_train_split)\n",
        "  y_test_pred = lasso.predict(x_test_split)\n",
        "\n",
        "  # вывод оценок обучения\n",
        "  print('MAE train: {:.3f}, test: {:.3f}'.format(\n",
        "          mean_absolute_error(y_train_split, y_train_pred),\n",
        "          mean_absolute_error(y_test_split, y_test_pred)))\n",
        "  print('MSE train: {:.3f}, test: {:.3f}'.format(\n",
        "          mean_squared_error(y_train_split, y_train_pred),\n",
        "          mean_squared_error(y_test_split, y_test_pred)))\n",
        "  print('R^2 train: {:.3f}, test: {:.3f}'.format(\n",
        "          r2_score(y_train_split, y_train_pred),\n",
        "          r2_score(y_test_split, y_test_pred)))\n",
        "  print('RMSE train: {:.3f}, test: {:.3f}'.format(\n",
        "          math.sqrt(mean_squared_error(y_train_split, y_train_pred)),\n",
        "          math.sqrt(mean_squared_error(y_test_split, y_test_pred))))\n",
        "  \n",
        "lasso_regresion()"
      ],
      "execution_count": 74,
      "outputs": [
        {
          "output_type": "stream",
          "text": [
            "MAE train: 0.062, test: 0.055\n",
            "MSE train: 0.005, test: 0.005\n",
            "R^2 train: 0.000, test: -0.007\n",
            "RMSE train: 0.074, test: 0.068\n"
          ],
          "name": "stdout"
        }
      ]
    },
    {
      "cell_type": "markdown",
      "metadata": {
        "id": "QY0RkONevdFU"
      },
      "source": [
        "### ElasticNet¶"
      ]
    },
    {
      "cell_type": "code",
      "metadata": {
        "colab": {
          "base_uri": "https://localhost:8080/"
        },
        "id": "Ylle0elgvdFW",
        "outputId": "e6b4b18a-9c48-41ba-e94a-46bc3da2af36"
      },
      "source": [
        "def Elastic_regresion():\n",
        "\n",
        "  est_acc = ElasticNet()\n",
        "  est_acc.fit(x_train_split, y_train_split)\n",
        "  y_train_pred = est_acc.predict(x_train_split)\n",
        "  y_test_pred = est_acc.predict(x_test_split)\n",
        "\n",
        "  print('MSE train: {:.3f}, test: {:.3f}'.format(\n",
        "          mean_squared_error(y_train_split, y_train_pred),\n",
        "          mean_squared_error(y_test_split, y_test_pred)))\n",
        "  print('R^2 train: {:.3f}, test: {:.3f}'.format(\n",
        "          r2_score(y_train_split, y_train_pred),\n",
        "          r2_score(y_test_split, y_test_pred)))\n",
        "  print('RMSE train: {:.3f}, test: {:.3f}'.format(\n",
        "          math.sqrt(mean_squared_error(y_train_split, y_train_pred)),\n",
        "          math.sqrt(mean_squared_error(y_test_split, y_test_pred))))\n",
        "  \n",
        "Elastic_regresion()"
      ],
      "execution_count": 75,
      "outputs": [
        {
          "output_type": "stream",
          "text": [
            "MSE train: 0.005, test: 0.005\n",
            "R^2 train: 0.000, test: -0.007\n",
            "RMSE train: 0.074, test: 0.068\n"
          ],
          "name": "stdout"
        }
      ]
    },
    {
      "cell_type": "code",
      "metadata": {
        "id": "lfawXh6mMlFz"
      },
      "source": [
        "# from sklearn.metrics import make_scorer\n",
        "\n",
        "# def Elastic_regresion_GRID():\n",
        "#   parametersGrid = {\"max_iter\": [500],\n",
        "#                     \"alpha\": [0.0001, 0.001, 0.01, 0.1, 1, 10, 100],\n",
        "#                     \"l1_ratio\": np.arange(0.0, 1.0, 0.1)}\n",
        "\n",
        "#   def RMSE(y_true, y_pred):\n",
        "#       return math.sqrt(mean_squared_error(y_true, y_pred))\n",
        "#   def RMSE_2():\n",
        "#     return make_scorer(RMSE, greater_is_better=False)\n",
        "\n",
        "#   # поиск по сетке\n",
        "#   eNet = ElasticNet()\n",
        "#   grid = GridSearchCV(eNet, parametersGrid, scoring=RMSE_2(), cv=10)\n",
        "#   grid.fit(df_train[['X','Y']], df_train['NTG']*100)\n",
        "#   print(grid.best_score_)\n",
        "#   print(grid.best_estimator_)\n",
        "\n",
        "# Elastic_regresion_GRID()"
      ],
      "execution_count": 76,
      "outputs": []
    },
    {
      "cell_type": "markdown",
      "metadata": {
        "id": "DW-hT6QdvdFa"
      },
      "source": [
        "### Ridge"
      ]
    },
    {
      "cell_type": "code",
      "metadata": {
        "colab": {
          "base_uri": "https://localhost:8080/"
        },
        "id": "wZzRhRmUvdFc",
        "outputId": "70793b11-5e35-4b60-f2b5-d56bd5220d27"
      },
      "source": [
        "def ridge_regresion():\n",
        "  \n",
        "  ridge = Ridge(alpha=0.1)\n",
        "  ridge.fit(x_train_split, y_train_split)\n",
        "  y_train_pred = ridge.predict(x_train_split)\n",
        "  y_test_pred = ridge.predict(x_test_split)\n",
        "\n",
        "  print('MAE train: {:.3f}, test: {:.3f}'.format(\n",
        "          mean_absolute_error(y_train_split, y_train_pred),\n",
        "          mean_absolute_error(y_test_split, y_test_pred)))\n",
        "  print('MSE train: {:.3f}, test: {:.3f}'.format(\n",
        "          mean_squared_error(y_train_split, y_train_pred),\n",
        "          mean_squared_error(y_test_split, y_test_pred)))\n",
        "  print('R^2 train: {:.3f}, test: {:.3f}'.format(\n",
        "          r2_score(y_train_split, y_train_pred),\n",
        "          r2_score(y_test_split, y_test_pred)))\n",
        "  print('RMSE train: {:.3f}, test: {:.3f}'.format(\n",
        "          math.sqrt(mean_squared_error(y_train_split, y_train_pred)),\n",
        "          math.sqrt(mean_squared_error(y_test_split, y_test_pred))))\n",
        "  \n",
        "ridge_regresion()"
      ],
      "execution_count": 77,
      "outputs": [
        {
          "output_type": "stream",
          "text": [
            "MAE train: 0.060, test: 0.053\n",
            "MSE train: 0.005, test: 0.004\n",
            "R^2 train: 0.066, test: 0.028\n",
            "RMSE train: 0.072, test: 0.067\n"
          ],
          "name": "stdout"
        }
      ]
    },
    {
      "cell_type": "markdown",
      "metadata": {
        "id": "9maSxSCBvdFd"
      },
      "source": [
        "### Полиномиальная регерссия\n"
      ]
    },
    {
      "cell_type": "code",
      "metadata": {
        "colab": {
          "base_uri": "https://localhost:8080/"
        },
        "id": "GHqNqEQFvdFe",
        "outputId": "b5a9175c-d252-4693-c6fe-c247e968ed9c"
      },
      "source": [
        "# взял из https://scikit-learn.org/stable/modules/generated/sklearn.preprocessing.PolynomialFeatures.html\n",
        "\n",
        "\n",
        "def polinom_regresion():\n",
        "\n",
        "  poly_reg = PolynomialFeatures(degree=4, interaction_only = True, include_bias = True)\n",
        "  X_poly_train = poly_reg.fit_transform(x_train_split)\n",
        "  X_poly_test = poly_reg.fit_transform(x_test_split)\n",
        "\n",
        "  pol_reg = LinearRegression()\n",
        "\n",
        "  pol_reg.fit(X_poly_train, y_train_split)\n",
        "  y_train_pred = pol_reg.predict(X_poly_train)\n",
        "  y_test_pred = pol_reg.predict(X_poly_test)\n",
        "\n",
        "  print('MAE train: {:.3f}, test: {:.3f}'.format(\n",
        "          mean_absolute_error(y_train_split, y_train_pred),\n",
        "          mean_absolute_error(y_test_split, y_test_pred)))\n",
        "  print('MSE train: {:.3f}, test: {:.3f}'.format(\n",
        "          mean_squared_error(y_train_split, y_train_pred),\n",
        "          mean_squared_error(y_test_split, y_test_pred)))\n",
        "  print('R^2 train: {:.3f}, test: {:.3f}'.format(\n",
        "          r2_score(y_train_split, y_train_pred),\n",
        "          r2_score(y_test_split, y_test_pred)))\n",
        "  print('RMSE train: {:.3f}, test: {:.3f}'.format(\n",
        "          math.sqrt(mean_squared_error(y_train_split, y_train_pred)),\n",
        "          math.sqrt(mean_squared_error(y_test_split, y_test_pred))))\n",
        "\n",
        "polinom_regresion()"
      ],
      "execution_count": null,
      "outputs": [
        {
          "output_type": "stream",
          "text": [
            "MAE train: 0.059, test: 0.052\n",
            "MSE train: 0.005, test: 0.004\n",
            "R^2 train: 0.065, test: 0.064\n",
            "RMSE train: 0.072, test: 0.066\n"
          ],
          "name": "stdout"
        }
      ]
    },
    {
      "cell_type": "markdown",
      "metadata": {
        "id": "qqne-9QlJCXu"
      },
      "source": [
        "### Полиномиальнаяр регерссия по сетке"
      ]
    },
    {
      "cell_type": "code",
      "metadata": {
        "id": "N1zq0jmwJB9F"
      },
      "source": [
        "p_degree = range(1,20)\r\n",
        "p_interaction_only = [True, False]\r\n",
        "p_include_bias = [True, False]\r\n",
        "\r\n",
        "list_acc_score = []\r\n",
        "list_degree = [] \r\n",
        "list_interaction_only = []\r\n",
        "list_include_bias = []\r\n",
        "\r\n",
        "for degree in p_degree:\r\n",
        "    for interaction_only in p_interaction_only:\r\n",
        "        for include_bias in p_include_bias:\r\n",
        "              \r\n",
        "              list_degree.append(degree)\r\n",
        "              list_interaction_only.append(interaction_only)\r\n",
        "              list_include_bias.append(include_bias)\r\n",
        "\r\n",
        "              # define model\r\n",
        "              poly_reg = PolynomialFeatures(degree=degree, \r\n",
        "                                            interaction_only = interaction_only, include_bias = include_bias)\r\n",
        "              X_poly_train = poly_reg.fit_transform(x_train_split)\r\n",
        "              X_poly_test = poly_reg.fit_transform(x_test_split)\r\n",
        "\r\n",
        "              pol_reg = LinearRegression()\r\n",
        "              pol_reg.fit(X_poly_train, y_train_split)\r\n",
        "              \r\n",
        "              y_train_pred = pol_reg.predict(X_poly_train)\r\n",
        "              y_test_pred = pol_reg.predict(X_poly_test)\r\n",
        "\r\n",
        "\r\n",
        "              # #   проверка качества по кросс валедации\r\n",
        "              acc = math.sqrt(mean_squared_error(y_test_split, y_test_pred))\r\n",
        "\r\n",
        "              list_acc_score.append(acc)\r\n",
        "\r\n",
        "\r\n",
        "acc_score = pd.DataFrame()\r\n",
        "acc_score[\"acc_scire\"] = list_acc_score        \r\n",
        "acc_score[\"degree\"] = list_degree     \r\n",
        "acc_score[\"interaction_only\"] = list_interaction_only\r\n",
        "acc_score[\"include_bias\"] = list_include_bias\r\n",
        "\r\n",
        "acc_score.sort_values(by = 'acc_scire', ascending = True)"
      ],
      "execution_count": null,
      "outputs": []
    },
    {
      "cell_type": "markdown",
      "metadata": {
        "id": "1R3biFiGg6Yd"
      },
      "source": [
        "### Случайный лес классификатор"
      ]
    },
    {
      "cell_type": "code",
      "metadata": {
        "colab": {
          "base_uri": "https://localhost:8080/"
        },
        "id": "d3sl_Omhg_E-",
        "outputId": "24c208d2-62e9-4cd9-9e3e-81ba48155a32"
      },
      "source": [
        "from sklearn.ensemble import RandomForestRegressor\r\n",
        "from sklearn.metrics import r2_score as r2, mean_absolute_error as mae, mean_squared_error as mse, accuracy_score\r\n",
        "\r\n",
        "# взял из https://habr.com/ru/post/533470/\r\n",
        "\r\n",
        "model = RandomForestRegressor(random_state=42, max_depth=20)\r\n",
        "model.fit(x_train_split, y_train_split)\r\n",
        "\r\n",
        "y_train_pred = model.predict(x_train_split)\r\n",
        "y_test_pred = model.predict(x_test_split)\r\n",
        "\r\n",
        "print('MSE train: {:.3f}, test: {:.3f}'.format(\r\n",
        "      mean_squared_error(y_train_split, y_train_pred),\r\n",
        "      mean_squared_error(y_test_split, y_test_pred)))\r\n",
        "print('R^2 train: {:.3f}, test: {:.3f}'.format(\r\n",
        "      r2_score(y_train_split, y_train_pred),\r\n",
        "      r2_score(y_test_split, y_test_pred)))\r\n",
        "print('RMSE train: {:.3f}, test: {:.3f}'.format(\r\n",
        "      math.sqrt(mean_squared_error(y_train_split, y_train_pred)),\r\n",
        "      math.sqrt(mean_squared_error(y_test_split, y_test_pred))))\r\n"
      ],
      "execution_count": 78,
      "outputs": [
        {
          "output_type": "stream",
          "text": [
            "MSE train: 0.000, test: 0.004\n",
            "R^2 train: 0.918, test: 0.148\n",
            "RMSE train: 0.021, test: 0.063\n"
          ],
          "name": "stdout"
        }
      ]
    },
    {
      "cell_type": "markdown",
      "metadata": {
        "id": "i_rvFX3hh6tG"
      },
      "source": [
        "### Cлуйчайный лес по сетке"
      ]
    },
    {
      "cell_type": "code",
      "metadata": {
        "colab": {
          "base_uri": "https://localhost:8080/"
        },
        "id": "C6q2NCVUh5qp",
        "outputId": "50966280-9c64-47c1-a058-fc0bb30bcec3"
      },
      "source": [
        "model = RandomForestRegressor(random_state=30)\r\n",
        "param_grid = { \"n_estimators\" : [250, 300],\r\n",
        "           \"criterion\" : [\"mse\", \"mae\"],\r\n",
        "           \"max_features\" : [\"auto\", \"sqrt\", \"log2\"],\r\n",
        "           \"max_depth\" : [10, 20],\r\n",
        "           \"min_samples_split\" : [2, 4] ,\r\n",
        "           \"min_samples_leaf\" : [1,2,3,5] \r\n",
        "            }\r\n",
        "\r\n",
        "grid_search = GridSearchCV(model, param_grid, scoring = 'neg_mean_squared_error', n_jobs=-1, cv=2)\r\n",
        "grid_search.fit(df_train[['X','Y']], df_train['NTG'])\r\n",
        "\r\n",
        "print(grid_search.best_params_)"
      ],
      "execution_count": 79,
      "outputs": [
        {
          "output_type": "stream",
          "text": [
            "{'criterion': 'mae', 'max_depth': 20, 'max_features': 'sqrt', 'min_samples_leaf': 2, 'min_samples_split': 2, 'n_estimators': 250}\n"
          ],
          "name": "stdout"
        }
      ]
    },
    {
      "cell_type": "code",
      "metadata": {
        "colab": {
          "base_uri": "https://localhost:8080/"
        },
        "id": "CyC40zzEmqeR",
        "outputId": "7de1f5d6-92a1-4e2f-ec87-c7b7f37cbcab"
      },
      "source": [
        "print(grid_search.best_score_)"
      ],
      "execution_count": 80,
      "outputs": [
        {
          "output_type": "stream",
          "text": [
            "-0.004765869042704049\n"
          ],
          "name": "stdout"
        }
      ]
    },
    {
      "cell_type": "code",
      "metadata": {
        "colab": {
          "base_uri": "https://localhost:8080/"
        },
        "id": "_SXDB1OalsEY",
        "outputId": "f5fa4ab7-5011-4b8e-dc30-c1363e185e55"
      },
      "source": [
        "from sklearn.preprocessing import MinMaxScaler\r\n",
        "\r\n",
        "# разделим выборку на тест и обучение \r\n",
        "\r\n",
        "x_train = df_train[['X','Y']]\r\n",
        "y_train = df_train['NTG']\r\n",
        "x_train_split, x_test_split, y_train_split, y_test_split = train_test_split(x_train, y_train, test_size=0.33, random_state=42)\r\n",
        "\r\n",
        "poly_reg = PolynomialFeatures(degree=2)\r\n",
        "x_train_split  = poly_reg.fit_transform(x_train_split)\r\n",
        "x_test_split = poly_reg.fit_transform(x_test_split)\r\n",
        "\r\n",
        "scaler = MinMaxScaler(feature_range=(0, 1))\r\n",
        "x_train_split = scaler.fit_transform(x_train_split)\r\n",
        "x_test_split = scaler.transform(x_test_split)\r\n",
        "\r\n",
        "\r\n",
        "model = RandomForestRegressor(bootstrap=True, ccp_alpha=0.0, criterion='mae',\r\n",
        "                      max_depth=20, max_features='sqrt', max_leaf_nodes=None,\r\n",
        "                      max_samples=None, min_impurity_decrease=0.0,\r\n",
        "                      min_impurity_split=None, min_samples_leaf=2,\r\n",
        "                      min_samples_split=2, min_weight_fraction_leaf=0.0,\r\n",
        "                      n_estimators=250, n_jobs=None, oob_score=False,\r\n",
        "                      random_state=30, verbose=0, warm_start=False)\r\n",
        "\r\n",
        "model.fit(x_train_split,y_train_split)\r\n",
        "\r\n",
        "y_train_pred = model.predict(x_train_split)\r\n",
        "y_test_pred = model.predict(x_test_split)\r\n",
        "\r\n",
        "print('MSE train: {:.3f}, test: {:.3f}'.format(\r\n",
        "      mean_squared_error(y_train_split, y_train_pred),\r\n",
        "      mean_squared_error(y_test_split, y_test_pred)))\r\n",
        "print('R^2 train: {:.3f}, test: {:.3f}'.format(\r\n",
        "      r2_score(y_train_split, y_train_pred),\r\n",
        "      r2_score(y_test_split, y_test_pred)))\r\n",
        "print('RMSE train: {:.3f}, test: {:.3f}'.format(\r\n",
        "      math.sqrt(mean_squared_error(y_train_split, y_train_pred)),\r\n",
        "      math.sqrt(mean_squared_error(y_test_split, y_test_pred))))\r\n"
      ],
      "execution_count": null,
      "outputs": [
        {
          "output_type": "stream",
          "text": [
            "MSE train: 0.001, test: 0.003\n",
            "R^2 train: 0.758, test: 0.277\n",
            "RMSE train: 0.036, test: 0.058\n"
          ],
          "name": "stdout"
        }
      ]
    },
    {
      "cell_type": "code",
      "metadata": {
        "colab": {
          "base_uri": "https://localhost:8080/"
        },
        "id": "cgRGSCCzkdfX",
        "outputId": "bf072854-74e2-4017-ac75-941d1f4a65cc"
      },
      "source": [
        "grid_search.best_score_"
      ],
      "execution_count": null,
      "outputs": [
        {
          "output_type": "execute_result",
          "data": {
            "text/plain": [
              "-0.004765869042704049"
            ]
          },
          "metadata": {
            "tags": []
          },
          "execution_count": 130
        }
      ]
    },
    {
      "cell_type": "markdown",
      "metadata": {
        "id": "1tfy8a1BtPuF"
      },
      "source": [
        "### ЗАМЕТКА - метрики скайлерн\r\n",
        "\r\n",
        "https://scikit-learn.org/stable/modules/grid_search.html#multimetric-grid-search\r\n",
        "\r\n",
        "https://scikit-learn.org/stable/modules/classes.html#module-sklearn.metrics\r\n",
        "\r\n",
        "https://scikit-learn.org/stable/modules/generated/sklearn.neural_network.MLPRegressor.html#sklearn.neural_network.MLPRegressor\r\n",
        "\r\n",
        "https://scikit-learn.org/stable/modules/model_evaluation.html\r\n",
        "\r\n",
        "https://scikit-learn.org/stable/modules/generated/sklearn.model_selection.GridSearchCV.html\r\n",
        "\r\n",
        "https://scikit-learn.org/stable/modules/generated/sklearn.ensemble.RandomForestRegressor.html"
      ]
    },
    {
      "cell_type": "markdown",
      "metadata": {
        "id": "5RkhDJocoZKC"
      },
      "source": [
        "### hpsklearn "
      ]
    },
    {
      "cell_type": "code",
      "metadata": {
        "colab": {
          "base_uri": "https://localhost:8080/"
        },
        "id": "VIAA95XWojPh",
        "outputId": "d1bdef88-8c46-44c8-9f67-3bb40f2d5417"
      },
      "source": [
        "!pip install hyperopt"
      ],
      "execution_count": null,
      "outputs": [
        {
          "output_type": "stream",
          "text": [
            "Requirement already satisfied: hyperopt in /usr/local/lib/python3.7/dist-packages (0.1.2)\n",
            "Requirement already satisfied: future in /usr/local/lib/python3.7/dist-packages (from hyperopt) (0.16.0)\n",
            "Requirement already satisfied: tqdm in /usr/local/lib/python3.7/dist-packages (from hyperopt) (4.41.1)\n",
            "Requirement already satisfied: networkx in /usr/local/lib/python3.7/dist-packages (from hyperopt) (2.5)\n",
            "Requirement already satisfied: pymongo in /usr/local/lib/python3.7/dist-packages (from hyperopt) (3.11.3)\n",
            "Requirement already satisfied: scipy in /usr/local/lib/python3.7/dist-packages (from hyperopt) (1.4.1)\n",
            "Requirement already satisfied: six in /usr/local/lib/python3.7/dist-packages (from hyperopt) (1.15.0)\n",
            "Requirement already satisfied: numpy in /usr/local/lib/python3.7/dist-packages (from hyperopt) (1.19.5)\n",
            "Requirement already satisfied: decorator>=4.3.0 in /usr/local/lib/python3.7/dist-packages (from networkx->hyperopt) (4.4.2)\n"
          ],
          "name": "stdout"
        }
      ]
    },
    {
      "cell_type": "code",
      "metadata": {
        "colab": {
          "base_uri": "https://localhost:8080/"
        },
        "id": "QRTnxod4o2Yk",
        "outputId": "3416578c-6916-4d90-e3fe-2936e1f41eab"
      },
      "source": [
        "# !pip install hpsklearn\r\n",
        "!pip install git+https://github.com/hyperopt/hyperopt-sklearn.git\r\n",
        "# взял из https://github.com/hyperopt/hyperopt-sklearn/issues/133"
      ],
      "execution_count": 3,
      "outputs": [
        {
          "output_type": "stream",
          "text": [
            "Collecting git+https://github.com/hyperopt/hyperopt-sklearn.git\n",
            "  Cloning https://github.com/hyperopt/hyperopt-sklearn.git to /tmp/pip-req-build-_nqknpap\n",
            "  Running command git clone -q https://github.com/hyperopt/hyperopt-sklearn.git /tmp/pip-req-build-_nqknpap\n",
            "Requirement already satisfied (use --upgrade to upgrade): hpsklearn==0.0.3 from git+https://github.com/hyperopt/hyperopt-sklearn.git in /usr/local/lib/python3.7/dist-packages\n",
            "Requirement already satisfied: hyperopt in /usr/local/lib/python3.7/dist-packages (from hpsklearn==0.0.3) (0.1.2)\n",
            "Requirement already satisfied: nose in /usr/local/lib/python3.7/dist-packages (from hpsklearn==0.0.3) (1.3.7)\n",
            "Requirement already satisfied: numpy in /usr/local/lib/python3.7/dist-packages (from hpsklearn==0.0.3) (1.19.5)\n",
            "Requirement already satisfied: scikit-learn in /usr/local/lib/python3.7/dist-packages (from hpsklearn==0.0.3) (0.22.2.post1)\n",
            "Requirement already satisfied: scipy in /usr/local/lib/python3.7/dist-packages (from hpsklearn==0.0.3) (1.4.1)\n",
            "Requirement already satisfied: six in /usr/local/lib/python3.7/dist-packages (from hyperopt->hpsklearn==0.0.3) (1.15.0)\n",
            "Requirement already satisfied: tqdm in /usr/local/lib/python3.7/dist-packages (from hyperopt->hpsklearn==0.0.3) (4.41.1)\n",
            "Requirement already satisfied: future in /usr/local/lib/python3.7/dist-packages (from hyperopt->hpsklearn==0.0.3) (0.16.0)\n",
            "Requirement already satisfied: pymongo in /usr/local/lib/python3.7/dist-packages (from hyperopt->hpsklearn==0.0.3) (3.11.3)\n",
            "Requirement already satisfied: networkx in /usr/local/lib/python3.7/dist-packages (from hyperopt->hpsklearn==0.0.3) (2.5)\n",
            "Requirement already satisfied: joblib>=0.11 in /usr/local/lib/python3.7/dist-packages (from scikit-learn->hpsklearn==0.0.3) (1.0.1)\n",
            "Requirement already satisfied: decorator>=4.3.0 in /usr/local/lib/python3.7/dist-packages (from networkx->hyperopt->hpsklearn==0.0.3) (4.4.2)\n",
            "Building wheels for collected packages: hpsklearn\n",
            "  Building wheel for hpsklearn (setup.py) ... \u001b[?25l\u001b[?25hdone\n",
            "  Created wheel for hpsklearn: filename=hpsklearn-0.0.3-cp37-none-any.whl size=26924 sha256=edfaa4435fcb50c372c8558c4edd1d8f3092cfcf6f272b04858bd1d52d27bb20\n",
            "  Stored in directory: /tmp/pip-ephem-wheel-cache-o58j1emh/wheels/28/93/20/67dca95c2aaa13466b4900ba79a7bab66022e50ce44f8a438d\n",
            "Successfully built hpsklearn\n"
          ],
          "name": "stdout"
        }
      ]
    },
    {
      "cell_type": "markdown",
      "metadata": {
        "id": "qNQ3G0XStLVu"
      },
      "source": [
        "https://machinelearningmastery.com/hyperopt-for-automated-machine-learning-with-scikit-learn/\r\n",
        "\r\n",
        "http://hyperopt.github.io/hyperopt-sklearn/"
      ]
    },
    {
      "cell_type": "code",
      "metadata": {
        "colab": {
          "base_uri": "https://localhost:8080/"
        },
        "id": "kQveWKFkvQ57",
        "outputId": "1c8da7dd-9638-441f-9eb0-a26730cd683c"
      },
      "source": [
        "  y_train_pred = model.predict(x_train_split)\n",
        "  y_test_pred = model.predict(x_test_split)\n",
        "\n",
        "  print('MSE train: {:.3f}, test: {:.3f}'.format(\n",
        "          mean_squared_error(y_train_split, y_train_pred),\n",
        "          mean_squared_error(y_test_split, y_test_pred)))\n",
        "  print('R^2 train: {:.3f}, test: {:.3f}'.format(\n",
        "          r2_score(y_train_split, y_train_pred),\n",
        "          r2_score(y_test_split, y_test_pred)))\n",
        "  print('RMSE train: {:.3f}, test: {:.3f}'.format(\n",
        "          math.sqrt(mean_squared_error(y_train_split, y_train_pred)),\n",
        "          math.sqrt(mean_squared_error(y_test_split, y_test_pred))))"
      ],
      "execution_count": null,
      "outputs": [
        {
          "output_type": "stream",
          "text": [
            "MSE train: 0.001, test: 0.003\n",
            "R^2 train: 0.763, test: 0.283\n",
            "RMSE train: 0.036, test: 0.058\n"
          ],
          "name": "stdout"
        }
      ]
    },
    {
      "cell_type": "code",
      "metadata": {
        "colab": {
          "base_uri": "https://localhost:8080/"
        },
        "id": "JFwfUITHoYvf",
        "outputId": "f5145559-8233-4226-d81b-9b3c6983bd18"
      },
      "source": [
        "\r\n",
        "\r\n",
        "# example of hyperopt-sklearn for the housing regression dataset\r\n",
        "\r\n",
        "# https://laptrinhx.com/hyperopt-for-automated-machine-learning-with-scikit-learn-1421923572/\r\n",
        "\r\n",
        "from pandas import read_csv\r\n",
        "from sklearn.model_selection import train_test_split\r\n",
        "from sklearn.metrics import mean_squared_error\r\n",
        "from hpsklearn import HyperoptEstimator\r\n",
        "from hpsklearn import any_regressor\r\n",
        "from hpsklearn import any_preprocessing\r\n",
        "from hyperopt import tpe\r\n",
        "\r\n",
        "# define search\r\n",
        "model = HyperoptEstimator(regressor=any_regressor('reg'), preprocessing=any_preprocessing('pre'), loss_fn=mean_squared_error, algo=tpe.suggest, max_evals=100, trial_timeout=90)\r\n",
        "# perform the search\r\n",
        "\r\n",
        "# model.fit(x_train_split.values.astype('float32'), y_train_split.values.astype('float32'))\r\n",
        "model.fit(x_train_split.astype('float32'), y_train_split.astype('float32'))\r\n",
        "# summarize performance\r\n",
        "mae = model.score(x_test_split, y_test_split)\r\n",
        "print(\"MAE: %.3f\" % mae)\r\n",
        "# summarize the best model\r\n",
        "print(model.best_model())"
      ],
      "execution_count": null,
      "outputs": [
        {
          "output_type": "stream",
          "text": [
            "100%|██████████| 1/1 [00:00<00:00,  5.34it/s, best loss: 0.0035636307891779924]\n",
            "100%|██████████| 1/1 [00:00<00:00,  6.94it/s, best loss: 0.0035636307891779924]\n",
            "100%|██████████| 1/1 [00:00<00:00,  4.91it/s, best loss: 0.0035636307891779924]\n",
            "100%|██████████| 1/1 [00:00<00:00,  9.99it/s, best loss: 0.0035636307891779924]\n",
            "[12:02:55] WARNING: /workspace/src/objective/regression_obj.cu:152: reg:linear is now deprecated in favor of reg:squarederror.\n",
            "100%|██████████| 1/1 [00:00<00:00,  3.28it/s, best loss: 0.0035636307891779924]\n",
            "[12:02:55] WARNING: /workspace/src/objective/regression_obj.cu:152: reg:linear is now deprecated in favor of reg:squarederror.\n",
            "100%|██████████| 1/1 [00:00<00:00,  2.63it/s, best loss: 0.0035636307891779924]\n",
            "100%|██████████| 1/1 [00:00<00:00,  1.12it/s, best loss: 0.0035636307891779924]\n",
            "100%|██████████| 1/1 [00:04<00:00,  4.07s/it, best loss: 0.0025034073020518805]\n",
            "100%|██████████| 1/1 [00:02<00:00,  2.10s/it, best loss: 0.0025034073020518805]\n",
            "100%|██████████| 1/1 [00:01<00:00,  1.96s/it, best loss: 0.0025034073020518805]\n",
            "100%|██████████| 1/1 [00:00<00:00,  4.15it/s, best loss: 0.0021230373711925237]\n",
            "100%|██████████| 1/1 [00:00<00:00,  2.79it/s, best loss: 0.0021230373711925237]\n",
            "100%|██████████| 1/1 [00:00<00:00,  1.07it/s, best loss: 0.0021230373711925237]\n",
            "100%|██████████| 1/1 [00:00<00:00,  9.94it/s, best loss: 0.0021230373711925237]\n",
            "100%|██████████| 1/1 [00:00<00:00,  6.85it/s, best loss: 0.0021230373711925237]\n",
            "100%|██████████| 1/1 [00:00<00:00,  1.96it/s, best loss: 0.0021230373711925237]\n",
            "100%|██████████| 1/1 [00:00<00:00,  1.20it/s, best loss: 0.0021230373711925237]\n",
            "100%|██████████| 1/1 [00:00<00:00,  5.27it/s, best loss: 0.0021230373711925237]\n",
            "100%|██████████| 1/1 [00:00<00:00,  2.19it/s, best loss: 0.0021230373711925237]\n",
            "100%|██████████| 1/1 [00:00<00:00,  1.58it/s, best loss: 0.0021230373711925237]\n",
            "100%|██████████| 1/1 [00:01<00:00,  1.50s/it, best loss: 0.0021230373711925237]\n",
            "100%|██████████| 1/1 [00:00<00:00,  3.70it/s, best loss: 0.0021230373711925237]\n",
            "100%|██████████| 1/1 [00:04<00:00,  4.13s/it, best loss: 0.0021230373711925237]\n",
            "100%|██████████| 1/1 [00:00<00:00,  5.37it/s, best loss: 0.0021230373711925237]\n",
            "100%|██████████| 1/1 [00:00<00:00,  3.61it/s, best loss: 0.0021230373711925237]\n",
            "100%|██████████| 1/1 [00:00<00:00,  4.11it/s, best loss: 0.0021230373711925237]\n",
            "100%|██████████| 1/1 [00:00<00:00,  5.14it/s, best loss: 0.0021230373711925237]\n",
            "100%|██████████| 1/1 [00:00<00:00,  5.18it/s, best loss: 0.0021230373711925237]\n",
            "100%|██████████| 1/1 [00:00<00:00,  1.01it/s, best loss: 0.0021230373711925237]\n",
            "100%|██████████| 1/1 [00:01<00:00,  1.58s/it, best loss: 0.0021230373711925237]\n",
            "100%|██████████| 1/1 [00:01<00:00,  1.27s/it, best loss: 0.0021230373711925237]\n",
            "100%|██████████| 1/1 [00:00<00:00,  1.71it/s, best loss: 0.0021230373711925237]\n",
            "100%|██████████| 1/1 [00:00<00:00,  1.92it/s, best loss: 0.0021230373711925237]\n",
            "100%|██████████| 1/1 [00:00<00:00,  4.98it/s, best loss: 0.0021230373711925237]\n",
            "[12:03:26] WARNING: /workspace/src/objective/regression_obj.cu:152: reg:linear is now deprecated in favor of reg:squarederror.\n",
            "100%|██████████| 1/1 [00:00<00:00,  1.71it/s, best loss: 0.0021230373711925237]\n",
            "100%|██████████| 1/1 [00:00<00:00,  4.84it/s, best loss: 0.0021230373711925237]\n",
            "100%|██████████| 1/1 [00:00<00:00,  4.74it/s, best loss: 0.0021230373711925237]\n",
            "100%|██████████| 1/1 [00:00<00:00,  5.56it/s, best loss: 0.0021230373711925237]\n",
            "[12:03:28] WARNING: /workspace/src/objective/regression_obj.cu:152: reg:linear is now deprecated in favor of reg:squarederror.\n",
            "100%|██████████| 1/1 [00:00<00:00,  2.99it/s, best loss: 0.0021230373711925237]\n",
            "100%|██████████| 1/1 [00:01<00:00,  1.41s/it, best loss: 0.0021230373711925237]\n",
            "100%|██████████| 1/1 [00:03<00:00,  3.62s/it, best loss: 0.0021230373711925237]\n",
            "100%|██████████| 1/1 [00:00<00:00,  3.54it/s, best loss: 0.0021230373711925237]\n",
            "100%|██████████| 1/1 [00:00<00:00,  4.99it/s, best loss: 0.0021230373711925237]\n",
            "100%|██████████| 1/1 [00:01<00:00,  1.87s/it, best loss: 0.0021230373711925237]\n",
            "100%|██████████| 1/1 [00:00<00:00,  3.20it/s, best loss: 0.0021230373711925237]\n",
            "[12:03:37] WARNING: /workspace/src/objective/regression_obj.cu:152: reg:linear is now deprecated in favor of reg:squarederror.\n",
            "100%|██████████| 1/1 [00:00<00:00,  1.84it/s, best loss: 0.0021230373711925237]\n",
            "100%|██████████| 1/1 [00:00<00:00,  4.95it/s, best loss: 0.0021230373711925237]\n",
            "100%|██████████| 1/1 [00:00<00:00,  4.59it/s, best loss: 0.0021230373711925237]\n",
            "100%|██████████| 1/1 [00:00<00:00,  5.40it/s, best loss: 0.0021230373711925237]\n",
            "100%|██████████| 1/1 [00:00<00:00,  3.52it/s, best loss: 0.0021230373711925237]\n",
            "100%|██████████| 1/1 [00:00<00:00,  1.39it/s, best loss: 0.0021230373711925237]\n",
            "100%|██████████| 1/1 [00:00<00:00,  2.32it/s, best loss: 0.0021230373711925237]\n",
            "100%|██████████| 1/1 [00:00<00:00,  3.33it/s, best loss: 0.0021230373711925237]\n",
            "100%|██████████| 1/1 [00:00<00:00,  4.79it/s, best loss: 0.0021230373711925237]\n",
            "[12:03:42] WARNING: /workspace/src/objective/regression_obj.cu:152: reg:linear is now deprecated in favor of reg:squarederror.\n",
            "100%|██████████| 1/1 [00:00<00:00,  3.57it/s, best loss: 0.0021230373711925237]\n",
            "100%|██████████| 1/1 [00:00<00:00,  1.28it/s, best loss: 0.0021230373711925237]\n",
            "100%|██████████| 1/1 [00:00<00:00,  2.66it/s, best loss: 0.0021230373711925237]\n",
            "100%|██████████| 1/1 [00:00<00:00,  4.84it/s, best loss: 0.0021230373711925237]\n",
            "100%|██████████| 1/1 [00:00<00:00,  3.57it/s, best loss: 0.0021230373711925237]\n",
            "100%|██████████| 1/1 [00:00<00:00,  3.88it/s, best loss: 0.0021230373711925237]\n",
            "100%|██████████| 1/1 [00:00<00:00,  4.82it/s, best loss: 0.0021230373711925237]\n",
            "100%|██████████| 1/1 [00:00<00:00,  3.25it/s, best loss: 0.0021230373711925237]\n",
            "100%|██████████| 1/1 [00:00<00:00,  3.90it/s, best loss: 0.0021230373711925237]\n",
            "100%|██████████| 1/1 [00:00<00:00,  5.10it/s, best loss: 0.0021230373711925237]\n",
            "100%|██████████| 1/1 [00:00<00:00,  4.46it/s, best loss: 0.0021230373711925237]\n",
            "100%|██████████| 1/1 [00:00<00:00,  1.90it/s, best loss: 0.0021230373711925237]\n",
            "100%|██████████| 1/1 [00:00<00:00,  4.82it/s, best loss: 0.0021230373711925237]\n",
            "100%|██████████| 1/1 [00:00<00:00,  2.28it/s, best loss: 0.0021230373711925237]\n",
            "100%|██████████| 1/1 [00:00<00:00,  1.31it/s, best loss: 0.0021230373711925237]\n",
            "100%|██████████| 1/1 [00:00<00:00,  2.55it/s, best loss: 0.0021230373711925237]\n",
            "100%|██████████| 1/1 [00:00<00:00,  2.84it/s, best loss: 0.0021230373711925237]\n",
            "100%|██████████| 1/1 [00:00<00:00,  2.98it/s, best loss: 0.0021230373711925237]\n",
            "100%|██████████| 1/1 [00:01<00:00,  1.12s/it, best loss: 0.0021230373711925237]\n",
            "100%|██████████| 1/1 [00:00<00:00,  3.48it/s, best loss: 0.0021230373711925237]\n",
            "[12:03:53] WARNING: /workspace/src/objective/regression_obj.cu:152: reg:linear is now deprecated in favor of reg:squarederror.\n",
            "100%|██████████| 1/1 [00:00<00:00,  3.11it/s, best loss: 0.0021230373711925237]\n",
            "100%|██████████| 1/1 [00:00<00:00,  3.44it/s, best loss: 0.0021230373711925237]\n",
            "100%|██████████| 1/1 [00:00<00:00,  3.81it/s, best loss: 0.0021230373711925237]\n",
            "100%|██████████| 1/1 [00:00<00:00,  5.13it/s, best loss: 0.0021230373711925237]\n",
            "100%|██████████| 1/1 [00:00<00:00,  2.48it/s, best loss: 0.0021230373711925237]\n",
            "100%|██████████| 1/1 [00:00<00:00,  1.59it/s, best loss: 0.0021230373711925237]\n",
            "100%|██████████| 1/1 [00:00<00:00,  4.51it/s, best loss: 0.0021230373711925237]\n",
            "100%|██████████| 1/1 [00:00<00:00,  3.49it/s, best loss: 0.0021230373711925237]\n",
            "100%|██████████| 1/1 [00:01<00:00,  1.28s/it, best loss: 0.0010727424654032843]\n",
            "100%|██████████| 1/1 [00:01<00:00,  1.09s/it, best loss: 0.0010727424654032843]\n",
            "100%|██████████| 1/1 [00:01<00:00,  1.20s/it, best loss: 0.0010727424654032843]\n",
            "100%|██████████| 1/1 [00:01<00:00,  1.21s/it, best loss: 0.0010727424654032843]\n",
            "100%|██████████| 1/1 [00:01<00:00,  1.36s/it, best loss: 0.0010727424654032843]\n",
            "100%|██████████| 1/1 [00:01<00:00,  1.68s/it, best loss: 0.0010727424654032843]\n",
            "100%|██████████| 1/1 [00:00<00:00,  1.52it/s, best loss: 0.0010727424654032843]\n",
            "100%|██████████| 1/1 [00:01<00:00,  1.01s/it, best loss: 0.0010727424654032843]\n",
            "100%|██████████| 1/1 [00:00<00:00,  1.16it/s, best loss: 0.0010727424654032843]\n",
            "100%|██████████| 1/1 [00:00<00:00,  1.02it/s, best loss: 0.0010727424654032843]\n",
            "100%|██████████| 1/1 [00:02<00:00,  2.12s/it, best loss: 0.0010727424654032843]\n",
            "100%|██████████| 1/1 [00:00<00:00,  1.61it/s, best loss: 0.0010588525005058448]\n",
            "100%|██████████| 1/1 [00:00<00:00,  1.93it/s, best loss: 0.0010588525005058448]\n",
            "[12:04:13] WARNING: /workspace/src/objective/regression_obj.cu:152: reg:linear is now deprecated in favor of reg:squarederror.\n",
            "100%|██████████| 1/1 [00:00<00:00,  2.09it/s, best loss: 0.0010588525005058448]\n",
            "100%|██████████| 1/1 [00:00<00:00,  4.90it/s, best loss: 0.0010588525005058448]\n",
            "100%|██████████| 1/1 [00:00<00:00,  1.74it/s, best loss: 0.0010588525005058448]\n",
            "100%|██████████| 1/1 [00:00<00:00,  3.14it/s, best loss: 0.0010588525005058448]\n",
            "100%|██████████| 1/1 [00:00<00:00,  4.87it/s, best loss: 0.0010588525005058448]\n",
            "MAE: 0.262\n",
            "{'learner': GradientBoostingRegressor(alpha=0.9, ccp_alpha=0.0, criterion='friedman_mse',\n",
            "                          init=None, learning_rate=0.0992062455031351,\n",
            "                          loss='lad', max_depth=4, max_features='sqrt',\n",
            "                          max_leaf_nodes=None, min_impurity_decrease=0.0,\n",
            "                          min_impurity_split=None, min_samples_leaf=1,\n",
            "                          min_samples_split=2, min_weight_fraction_leaf=0.0,\n",
            "                          n_estimators=208, n_iter_no_change=None,\n",
            "                          presort='deprecated', random_state=3,\n",
            "                          subsample=0.9087422704533004, tol=0.0001,\n",
            "                          validation_fraction=0.1, verbose=0, warm_start=False), 'preprocs': (StandardScaler(copy=True, with_mean=True, with_std=True),), 'ex_preprocs': ()}\n"
          ],
          "name": "stdout"
        }
      ]
    },
    {
      "cell_type": "markdown",
      "metadata": {
        "id": "1gx5DDwYtFXn"
      },
      "source": [
        "{'learner': AdaBoostRegressor(base_estimator=None, learning_rate=1.6273721018635237,\r\n",
        "                  loss='linear', n_estimators=35, random_state=2), 'preprocs': (MinMaxScaler(copy=True, feature_range=(0.0, 1.0)),), 'ex_preprocs': ()}\r\n",
        "\r\n",
        "\r\n",
        "https://scikit-learn.org/stable/modules/generated/sklearn.ensemble.AdaBoostRegressor.html"
      ]
    },
    {
      "cell_type": "markdown",
      "metadata": {
        "id": "LjGjqeVUtkYv"
      },
      "source": [
        ""
      ]
    },
    {
      "cell_type": "code",
      "metadata": {
        "colab": {
          "base_uri": "https://localhost:8080/"
        },
        "id": "c106F88Nuxy6",
        "outputId": "422901ad-5f6c-4424-b765-af5e870ca3d5"
      },
      "source": [
        "print(math.sqrt(mean_squared_error(y_test_split, estim.predict(x_test_split))))"
      ],
      "execution_count": null,
      "outputs": [
        {
          "output_type": "stream",
          "text": [
            "0.06528064105336184\n"
          ],
          "name": "stdout"
        }
      ]
    },
    {
      "cell_type": "markdown",
      "metadata": {
        "id": "izuUgHCj0iJV"
      },
      "source": [
        ""
      ]
    },
    {
      "cell_type": "markdown",
      "metadata": {
        "id": "9ya2ooGk0fD2"
      },
      "source": [
        "*HyperoptEstimator* + xgboost_regression"
      ]
    },
    {
      "cell_type": "code",
      "metadata": {
        "colab": {
          "base_uri": "https://localhost:8080/"
        },
        "id": "XKMp9F1A1psm",
        "outputId": "d2dc4c1b-35a4-4383-b54f-c10d30821d83"
      },
      "source": [
        "from hpsklearn import HyperoptEstimator, xgboost_regression, random_forest_regression\r\n",
        "# # https://www.kaggle.com/ilialar/hyperparameters-tunning-with-hyperopt\r\n",
        "\r\n",
        "estim = HyperoptEstimator(regressor=xgboost_regression('my_gb'), max_evals=200, trial_timeout=50, seed=39)\r\n",
        "\r\n",
        "estim.fit(x_train_split, y_train_split)\r\n",
        "\r\n",
        "print(mean_squared_error(y_test_split, estim.predict(x_test_split)))\r\n",
        "print(math.sqrt(mean_squared_error(y_test_split, estim.predict(x_test_split))))"
      ],
      "execution_count": null,
      "outputs": [
        {
          "output_type": "stream",
          "text": [
            "[17:01:16] WARNING: /workspace/src/objective/regression_obj.cu:152: reg:linear is now deprecated in favor of reg:squarederror.\n",
            "100%|██████████| 1/1 [00:00<00:00,  4.90it/s, best loss: 1.1157454718575508]\n",
            "[17:01:17] WARNING: /workspace/src/objective/regression_obj.cu:152: reg:linear is now deprecated in favor of reg:squarederror.\n",
            "100%|██████████| 1/1 [00:00<00:00, 12.05it/s, best loss: 1.1157454718575508]\n",
            "[17:01:17] WARNING: /workspace/src/objective/regression_obj.cu:152: reg:linear is now deprecated in favor of reg:squarederror.\n",
            "100%|██████████| 1/1 [00:00<00:00,  8.37it/s, best loss: 0.7078892611203441]\n",
            "[17:01:17] WARNING: /workspace/src/objective/regression_obj.cu:152: reg:linear is now deprecated in favor of reg:squarederror.\n",
            "100%|██████████| 1/1 [00:00<00:00,  5.39it/s, best loss: 0.7078892611203441]\n",
            "[17:01:17] WARNING: /workspace/src/objective/regression_obj.cu:152: reg:linear is now deprecated in favor of reg:squarederror.\n",
            "100%|██████████| 1/1 [00:00<00:00,  7.62it/s, best loss: 0.7078892611203441]\n",
            "[17:01:17] WARNING: /workspace/src/objective/regression_obj.cu:152: reg:linear is now deprecated in favor of reg:squarederror.\n",
            "100%|██████████| 1/1 [00:00<00:00,  3.43it/s, best loss: 0.7078892611203441]\n",
            "[17:01:18] WARNING: /workspace/src/objective/regression_obj.cu:152: reg:linear is now deprecated in favor of reg:squarederror.\n",
            "100%|██████████| 1/1 [00:00<00:00,  2.96it/s, best loss: 0.7078892611203441]\n",
            "[17:01:18] WARNING: /workspace/src/objective/regression_obj.cu:152: reg:linear is now deprecated in favor of reg:squarederror.\n",
            "100%|██████████| 1/1 [00:00<00:00,  3.20it/s, best loss: 0.7078892611203441]\n",
            "[17:01:18] WARNING: /workspace/src/objective/regression_obj.cu:152: reg:linear is now deprecated in favor of reg:squarederror.\n",
            "100%|██████████| 1/1 [00:00<00:00,  2.94it/s, best loss: 0.7078892611203441]\n",
            "[17:01:19] WARNING: /workspace/src/objective/regression_obj.cu:152: reg:linear is now deprecated in favor of reg:squarederror.\n",
            "100%|██████████| 1/1 [00:00<00:00,  4.06it/s, best loss: 0.7078892611203441]\n",
            "[17:01:19] WARNING: /workspace/src/objective/regression_obj.cu:152: reg:linear is now deprecated in favor of reg:squarederror.\n",
            "100%|██████████| 1/1 [00:00<00:00,  8.66it/s, best loss: 0.414389483524761]\n",
            "[17:01:19] WARNING: /workspace/src/objective/regression_obj.cu:152: reg:linear is now deprecated in favor of reg:squarederror.\n",
            "100%|██████████| 1/1 [00:00<00:00, 15.62it/s, best loss: 0.414389483524761]\n",
            "  0%|          | 0/1 [00:00<?, ?it/s, best loss: ?]"
          ],
          "name": "stdout"
        },
        {
          "output_type": "stream",
          "text": [
            "/usr/local/lib/python3.7/dist-packages/sklearn/decomposition/_base.py:132: RuntimeWarning: invalid value encountered in true_divide\n",
            "  X_transformed /= np.sqrt(self.explained_variance_)\n",
            "\n"
          ],
          "name": "stderr"
        },
        {
          "output_type": "stream",
          "text": [
            "Failing trial due to NaN in\n",
            "PCA(copy=True, iterated_power='auto', n_components=6, random_state=None,\n",
            "    svd_solver='auto', tol=0.0, whiten=True)\n",
            "100%|██████████| 1/1 [00:00<00:00, 13.04it/s, best loss: 0.414389483524761]\n",
            "[17:01:19] WARNING: /workspace/src/objective/regression_obj.cu:152: reg:linear is now deprecated in favor of reg:squarederror.\n",
            "100%|██████████| 1/1 [00:00<00:00,  3.62it/s, best loss: 0.414389483524761]\n",
            "[17:01:20] WARNING: /workspace/src/objective/regression_obj.cu:152: reg:linear is now deprecated in favor of reg:squarederror.\n",
            "100%|██████████| 1/1 [00:00<00:00,  9.54it/s, best loss: 0.414389483524761]\n",
            "[17:01:20] WARNING: /workspace/src/objective/regression_obj.cu:152: reg:linear is now deprecated in favor of reg:squarederror.\n",
            "100%|██████████| 1/1 [00:00<00:00,  3.34it/s, best loss: 0.414389483524761]\n",
            "[17:01:20] WARNING: /workspace/src/objective/regression_obj.cu:152: reg:linear is now deprecated in favor of reg:squarederror.\n",
            "100%|██████████| 1/1 [00:00<00:00,  9.51it/s, best loss: 0.414389483524761]\n",
            "[17:01:20] WARNING: /workspace/src/objective/regression_obj.cu:152: reg:linear is now deprecated in favor of reg:squarederror.\n",
            "100%|██████████| 1/1 [00:00<00:00,  2.08it/s, best loss: 0.414389483524761]\n",
            "[17:01:21] WARNING: /workspace/src/objective/regression_obj.cu:152: reg:linear is now deprecated in favor of reg:squarederror.\n",
            "100%|██████████| 1/1 [00:00<00:00,  2.37it/s, best loss: 0.414389483524761]\n",
            "[17:01:21] WARNING: /workspace/src/objective/regression_obj.cu:152: reg:linear is now deprecated in favor of reg:squarederror.\n",
            "100%|██████████| 1/1 [00:00<00:00,  5.50it/s, best loss: 0.414389483524761]\n",
            "[17:01:21] WARNING: /workspace/src/objective/regression_obj.cu:152: reg:linear is now deprecated in favor of reg:squarederror.\n",
            "100%|██████████| 1/1 [00:00<00:00,  4.76it/s, best loss: 0.414389483524761]\n",
            "[17:01:22] WARNING: /workspace/src/objective/regression_obj.cu:152: reg:linear is now deprecated in favor of reg:squarederror.\n",
            "100%|██████████| 1/1 [00:00<00:00,  3.23it/s, best loss: 0.414389483524761]\n",
            "[17:01:22] WARNING: /workspace/src/objective/regression_obj.cu:152: reg:linear is now deprecated in favor of reg:squarederror.\n",
            "100%|██████████| 1/1 [00:00<00:00,  3.13it/s, best loss: 0.414389483524761]\n",
            "[17:01:22] WARNING: /workspace/src/objective/regression_obj.cu:152: reg:linear is now deprecated in favor of reg:squarederror.\n",
            "100%|██████████| 1/1 [00:00<00:00,  2.85it/s, best loss: 0.414389483524761]\n",
            "[17:01:23] WARNING: /workspace/src/objective/regression_obj.cu:152: reg:linear is now deprecated in favor of reg:squarederror.\n",
            "100%|██████████| 1/1 [00:00<00:00, 12.36it/s, best loss: 0.414389483524761]\n",
            "[17:01:23] WARNING: /workspace/src/objective/regression_obj.cu:152: reg:linear is now deprecated in favor of reg:squarederror.\n",
            "100%|██████████| 1/1 [00:00<00:00, 10.74it/s, best loss: 0.414389483524761]\n",
            "[17:01:23] WARNING: /workspace/src/objective/regression_obj.cu:152: reg:linear is now deprecated in favor of reg:squarederror.\n",
            "100%|██████████| 1/1 [00:00<00:00,  2.67it/s, best loss: 0.414389483524761]\n",
            "[17:01:23] WARNING: /workspace/src/objective/regression_obj.cu:152: reg:linear is now deprecated in favor of reg:squarederror.\n",
            "100%|██████████| 1/1 [00:00<00:00,  3.26it/s, best loss: 0.414389483524761]\n",
            "[17:01:24] WARNING: /workspace/src/objective/regression_obj.cu:152: reg:linear is now deprecated in favor of reg:squarederror.\n",
            "100%|██████████| 1/1 [00:00<00:00,  4.56it/s, best loss: 0.414389483524761]\n",
            "[17:01:24] WARNING: /workspace/src/objective/regression_obj.cu:152: reg:linear is now deprecated in favor of reg:squarederror.\n",
            "100%|██████████| 1/1 [00:00<00:00,  4.00it/s, best loss: 0.414389483524761]\n",
            "[17:01:24] WARNING: /workspace/src/objective/regression_obj.cu:152: reg:linear is now deprecated in favor of reg:squarederror.\n",
            "100%|██████████| 1/1 [00:00<00:00,  3.70it/s, best loss: 0.414389483524761]\n",
            "[17:01:25] WARNING: /workspace/src/objective/regression_obj.cu:152: reg:linear is now deprecated in favor of reg:squarederror.\n",
            "100%|██████████| 1/1 [00:00<00:00,  3.35it/s, best loss: 0.414389483524761]\n",
            "[17:01:25] WARNING: /workspace/src/objective/regression_obj.cu:152: reg:linear is now deprecated in favor of reg:squarederror.\n",
            "100%|██████████| 1/1 [00:00<00:00,  4.17it/s, best loss: 0.414389483524761]\n",
            "[17:01:25] WARNING: /workspace/src/objective/regression_obj.cu:152: reg:linear is now deprecated in favor of reg:squarederror.\n",
            "100%|██████████| 1/1 [00:00<00:00,  3.78it/s, best loss: 0.414389483524761]\n",
            "[17:01:25] WARNING: /workspace/src/objective/regression_obj.cu:152: reg:linear is now deprecated in favor of reg:squarederror.\n",
            "100%|██████████| 1/1 [00:00<00:00,  3.35it/s, best loss: 0.414389483524761]\n",
            "[17:01:26] WARNING: /workspace/src/objective/regression_obj.cu:152: reg:linear is now deprecated in favor of reg:squarederror.\n",
            "100%|██████████| 1/1 [00:00<00:00,  3.46it/s, best loss: 0.414389483524761]\n",
            "[17:01:26] WARNING: /workspace/src/objective/regression_obj.cu:152: reg:linear is now deprecated in favor of reg:squarederror.\n",
            "100%|██████████| 1/1 [00:00<00:00,  7.03it/s, best loss: 0.414389483524761]\n",
            "[17:01:26] WARNING: /workspace/src/objective/regression_obj.cu:152: reg:linear is now deprecated in favor of reg:squarederror.\n",
            "100%|██████████| 1/1 [00:00<00:00,  4.80it/s, best loss: 0.414389483524761]\n",
            "[17:01:26] WARNING: /workspace/src/objective/regression_obj.cu:152: reg:linear is now deprecated in favor of reg:squarederror.\n",
            "100%|██████████| 1/1 [00:00<00:00,  3.25it/s, best loss: 0.414389483524761]\n",
            "[17:01:27] WARNING: /workspace/src/objective/regression_obj.cu:152: reg:linear is now deprecated in favor of reg:squarederror.\n",
            "100%|██████████| 1/1 [00:00<00:00,  2.77it/s, best loss: 0.414389483524761]\n",
            "[17:01:27] WARNING: /workspace/src/objective/regression_obj.cu:152: reg:linear is now deprecated in favor of reg:squarederror.\n",
            "100%|██████████| 1/1 [00:00<00:00,  8.26it/s, best loss: 0.414389483524761]\n",
            "  0%|          | 0/1 [00:00<?, ?it/s, best loss: ?]"
          ],
          "name": "stdout"
        },
        {
          "output_type": "stream",
          "text": [
            "/usr/local/lib/python3.7/dist-packages/sklearn/decomposition/_base.py:132: RuntimeWarning: invalid value encountered in true_divide\n",
            "  X_transformed /= np.sqrt(self.explained_variance_)\n",
            "\n"
          ],
          "name": "stderr"
        },
        {
          "output_type": "stream",
          "text": [
            "Failing trial due to NaN in\n",
            "PCA(copy=True, iterated_power='auto', n_components=6, random_state=None,\n",
            "    svd_solver='auto', tol=0.0, whiten=True)\n",
            "100%|██████████| 1/1 [00:00<00:00, 12.36it/s, best loss: 0.414389483524761]\n",
            "[17:01:27] WARNING: /workspace/src/objective/regression_obj.cu:152: reg:linear is now deprecated in favor of reg:squarederror.\n",
            "100%|██████████| 1/1 [00:00<00:00,  3.41it/s, best loss: 0.414389483524761]\n",
            "[17:01:28] WARNING: /workspace/src/objective/regression_obj.cu:152: reg:linear is now deprecated in favor of reg:squarederror.\n",
            "100%|██████████| 1/1 [00:00<00:00,  7.43it/s, best loss: 0.414389483524761]\n",
            "[17:01:28] WARNING: /workspace/src/objective/regression_obj.cu:152: reg:linear is now deprecated in favor of reg:squarederror.\n",
            "100%|██████████| 1/1 [00:00<00:00,  3.89it/s, best loss: 0.414389483524761]\n",
            "[17:01:28] WARNING: /workspace/src/objective/regression_obj.cu:152: reg:linear is now deprecated in favor of reg:squarederror.\n",
            "100%|██████████| 1/1 [00:00<00:00,  4.31it/s, best loss: 0.414389483524761]\n",
            "  0%|          | 0/1 [00:00<?, ?it/s, best loss: ?]"
          ],
          "name": "stdout"
        },
        {
          "output_type": "stream",
          "text": [
            "/usr/local/lib/python3.7/dist-packages/sklearn/decomposition/_base.py:132: RuntimeWarning: invalid value encountered in true_divide\n",
            "  X_transformed /= np.sqrt(self.explained_variance_)\n",
            "\n"
          ],
          "name": "stderr"
        },
        {
          "output_type": "stream",
          "text": [
            "Failing trial due to NaN in\n",
            "PCA(copy=True, iterated_power='auto', n_components=6, random_state=None,\n",
            "    svd_solver='auto', tol=0.0, whiten=True)\n",
            "100%|██████████| 1/1 [00:00<00:00, 12.99it/s, best loss: 0.414389483524761]\n",
            "  0%|          | 0/1 [00:00<?, ?it/s, best loss: ?]"
          ],
          "name": "stdout"
        },
        {
          "output_type": "stream",
          "text": [
            "/usr/local/lib/python3.7/dist-packages/sklearn/decomposition/_base.py:132: RuntimeWarning: invalid value encountered in true_divide\n",
            "  X_transformed /= np.sqrt(self.explained_variance_)\n",
            "\n"
          ],
          "name": "stderr"
        },
        {
          "output_type": "stream",
          "text": [
            "Failing trial due to NaN in\n",
            "PCA(copy=True, iterated_power='auto', n_components=6, random_state=None,\n",
            "    svd_solver='auto', tol=0.0, whiten=True)\n",
            "100%|██████████| 1/1 [00:00<00:00, 11.68it/s, best loss: 0.414389483524761]\n",
            "[17:01:29] WARNING: /workspace/src/objective/regression_obj.cu:152: reg:linear is now deprecated in favor of reg:squarederror.\n",
            "100%|██████████| 1/1 [00:00<00:00, 11.38it/s, best loss: 0.414389483524761]\n",
            "[17:01:29] WARNING: /workspace/src/objective/regression_obj.cu:152: reg:linear is now deprecated in favor of reg:squarederror.\n",
            "100%|██████████| 1/1 [00:00<00:00,  2.74it/s, best loss: 0.414389483524761]\n",
            "  0%|          | 0/1 [00:00<?, ?it/s, best loss: ?]"
          ],
          "name": "stdout"
        },
        {
          "output_type": "stream",
          "text": [
            "/usr/local/lib/python3.7/dist-packages/sklearn/decomposition/_base.py:132: RuntimeWarning: invalid value encountered in true_divide\n",
            "  X_transformed /= np.sqrt(self.explained_variance_)\n",
            "\n"
          ],
          "name": "stderr"
        },
        {
          "output_type": "stream",
          "text": [
            "Failing trial due to NaN in\n",
            "PCA(copy=True, iterated_power='auto', n_components=6, random_state=None,\n",
            "    svd_solver='auto', tol=0.0, whiten=True)\n",
            "100%|██████████| 1/1 [00:00<00:00, 11.72it/s, best loss: 0.414389483524761]\n",
            "[17:01:29] WARNING: /workspace/src/objective/regression_obj.cu:152: reg:linear is now deprecated in favor of reg:squarederror.\n",
            "100%|██████████| 1/1 [00:00<00:00, 10.65it/s, best loss: 0.414389483524761]\n",
            "[17:01:30] WARNING: /workspace/src/objective/regression_obj.cu:152: reg:linear is now deprecated in favor of reg:squarederror.\n",
            "100%|██████████| 1/1 [00:00<00:00,  5.96it/s, best loss: 0.414389483524761]\n",
            "[17:01:30] WARNING: /workspace/src/objective/regression_obj.cu:152: reg:linear is now deprecated in favor of reg:squarederror.\n",
            "100%|██████████| 1/1 [00:00<00:00,  6.26it/s, best loss: 0.414389483524761]\n",
            "[17:01:30] WARNING: /workspace/src/objective/regression_obj.cu:152: reg:linear is now deprecated in favor of reg:squarederror.\n",
            "100%|██████████| 1/1 [00:00<00:00,  5.87it/s, best loss: 0.414389483524761]\n",
            "[17:01:30] WARNING: /workspace/src/objective/regression_obj.cu:152: reg:linear is now deprecated in favor of reg:squarederror.\n",
            "100%|██████████| 1/1 [00:00<00:00, 12.97it/s, best loss: 0.414389483524761]\n",
            "[17:01:30] WARNING: /workspace/src/objective/regression_obj.cu:152: reg:linear is now deprecated in favor of reg:squarederror.\n",
            "100%|██████████| 1/1 [00:00<00:00,  9.31it/s, best loss: 0.414389483524761]\n",
            "[17:01:30] WARNING: /workspace/src/objective/regression_obj.cu:152: reg:linear is now deprecated in favor of reg:squarederror.\n",
            "100%|██████████| 1/1 [00:00<00:00,  9.21it/s, best loss: 0.414389483524761]\n",
            "[17:01:30] WARNING: /workspace/src/objective/regression_obj.cu:152: reg:linear is now deprecated in favor of reg:squarederror.\n",
            "100%|██████████| 1/1 [00:00<00:00,  2.09it/s, best loss: 0.414389483524761]\n",
            "[17:01:31] WARNING: /workspace/src/objective/regression_obj.cu:152: reg:linear is now deprecated in favor of reg:squarederror.\n",
            "100%|██████████| 1/1 [00:00<00:00,  8.91it/s, best loss: 0.414389483524761]\n",
            "[17:01:31] WARNING: /workspace/src/objective/regression_obj.cu:152: reg:linear is now deprecated in favor of reg:squarederror.\n",
            "100%|██████████| 1/1 [00:00<00:00,  5.58it/s, best loss: 0.414389483524761]\n",
            "  0%|          | 0/1 [00:00<?, ?it/s, best loss: ?]"
          ],
          "name": "stdout"
        },
        {
          "output_type": "stream",
          "text": [
            "/usr/local/lib/python3.7/dist-packages/sklearn/decomposition/_base.py:132: RuntimeWarning: invalid value encountered in true_divide\n",
            "  X_transformed /= np.sqrt(self.explained_variance_)\n",
            "\n"
          ],
          "name": "stderr"
        },
        {
          "output_type": "stream",
          "text": [
            "Failing trial due to NaN in\n",
            "PCA(copy=True, iterated_power='auto', n_components=6, random_state=None,\n",
            "    svd_solver='auto', tol=0.0, whiten=True)\n",
            "100%|██████████| 1/1 [00:00<00:00, 12.86it/s, best loss: 0.414389483524761]\n",
            "[17:01:31] WARNING: /workspace/src/objective/regression_obj.cu:152: reg:linear is now deprecated in favor of reg:squarederror.\n",
            "100%|██████████| 1/1 [00:00<00:00,  4.30it/s, best loss: 0.414389483524761]\n",
            "[17:01:32] WARNING: /workspace/src/objective/regression_obj.cu:152: reg:linear is now deprecated in favor of reg:squarederror.\n",
            "100%|██████████| 1/1 [00:00<00:00,  3.18it/s, best loss: 0.414389483524761]\n",
            "[17:01:32] WARNING: /workspace/src/objective/regression_obj.cu:152: reg:linear is now deprecated in favor of reg:squarederror.\n",
            "100%|██████████| 1/1 [00:00<00:00,  9.02it/s, best loss: 0.414389483524761]\n",
            "[17:01:32] WARNING: /workspace/src/objective/regression_obj.cu:152: reg:linear is now deprecated in favor of reg:squarederror.\n",
            "100%|██████████| 1/1 [00:00<00:00,  3.81it/s, best loss: 0.414389483524761]\n",
            "[17:01:32] WARNING: /workspace/src/objective/regression_obj.cu:152: reg:linear is now deprecated in favor of reg:squarederror.\n",
            "100%|██████████| 1/1 [00:00<00:00,  4.41it/s, best loss: 0.414389483524761]\n",
            "[17:01:33] WARNING: /workspace/src/objective/regression_obj.cu:152: reg:linear is now deprecated in favor of reg:squarederror.\n",
            "100%|██████████| 1/1 [00:00<00:00,  8.28it/s, best loss: 0.414389483524761]\n",
            "[17:01:33] WARNING: /workspace/src/objective/regression_obj.cu:152: reg:linear is now deprecated in favor of reg:squarederror.\n",
            "100%|██████████| 1/1 [00:00<00:00,  6.10it/s, best loss: 0.414389483524761]\n",
            "[17:01:33] WARNING: /workspace/src/objective/regression_obj.cu:152: reg:linear is now deprecated in favor of reg:squarederror.\n",
            "100%|██████████| 1/1 [00:00<00:00,  2.80it/s, best loss: 0.414389483524761]\n",
            "[17:01:33] WARNING: /workspace/src/objective/regression_obj.cu:152: reg:linear is now deprecated in favor of reg:squarederror.\n",
            "100%|██████████| 1/1 [00:00<00:00,  2.58it/s, best loss: 0.414389483524761]\n",
            "[17:01:34] WARNING: /workspace/src/objective/regression_obj.cu:152: reg:linear is now deprecated in favor of reg:squarederror.\n",
            "100%|██████████| 1/1 [00:00<00:00,  5.79it/s, best loss: 0.4045300340032434]\n",
            "[17:01:34] WARNING: /workspace/src/objective/regression_obj.cu:152: reg:linear is now deprecated in favor of reg:squarederror.\n",
            "100%|██████████| 1/1 [00:00<00:00,  3.64it/s, best loss: 0.4045300340032434]\n",
            "[17:01:34] WARNING: /workspace/src/objective/regression_obj.cu:152: reg:linear is now deprecated in favor of reg:squarederror.\n",
            "100%|██████████| 1/1 [00:00<00:00,  4.53it/s, best loss: 0.4045300340032434]\n",
            "  0%|          | 0/1 [00:00<?, ?it/s, best loss: ?]"
          ],
          "name": "stdout"
        },
        {
          "output_type": "stream",
          "text": [
            "/usr/local/lib/python3.7/dist-packages/sklearn/decomposition/_base.py:132: RuntimeWarning: invalid value encountered in true_divide\n",
            "  X_transformed /= np.sqrt(self.explained_variance_)\n",
            "\n"
          ],
          "name": "stderr"
        },
        {
          "output_type": "stream",
          "text": [
            "Failing trial due to NaN in\n",
            "PCA(copy=True, iterated_power='auto', n_components=6, random_state=None,\n",
            "    svd_solver='auto', tol=0.0, whiten=True)\n",
            "100%|██████████| 1/1 [00:00<00:00, 11.78it/s, best loss: 0.4045300340032434]\n",
            "[17:01:35] WARNING: /workspace/src/objective/regression_obj.cu:152: reg:linear is now deprecated in favor of reg:squarederror.\n",
            "100%|██████████| 1/1 [00:00<00:00,  4.48it/s, best loss: 0.4045300340032434]\n",
            "[17:01:35] WARNING: /workspace/src/objective/regression_obj.cu:152: reg:linear is now deprecated in favor of reg:squarederror.\n",
            "100%|██████████| 1/1 [00:00<00:00,  3.66it/s, best loss: 0.4045300340032434]\n",
            "  0%|          | 0/1 [00:00<?, ?it/s, best loss: ?]"
          ],
          "name": "stdout"
        },
        {
          "output_type": "stream",
          "text": [
            "/usr/local/lib/python3.7/dist-packages/sklearn/decomposition/_base.py:132: RuntimeWarning: invalid value encountered in true_divide\n",
            "  X_transformed /= np.sqrt(self.explained_variance_)\n",
            "\n"
          ],
          "name": "stderr"
        },
        {
          "output_type": "stream",
          "text": [
            "Failing trial due to NaN in\n",
            "PCA(copy=True, iterated_power='auto', n_components=6, random_state=None,\n",
            "    svd_solver='auto', tol=0.0, whiten=True)\n",
            "100%|██████████| 1/1 [00:00<00:00, 12.44it/s, best loss: 0.4045300340032434]\n",
            "[17:01:36] WARNING: /workspace/src/objective/regression_obj.cu:152: reg:linear is now deprecated in favor of reg:squarederror.\n",
            "100%|██████████| 1/1 [00:00<00:00,  3.31it/s, best loss: 0.4045300340032434]\n",
            "[17:01:36] WARNING: /workspace/src/objective/regression_obj.cu:152: reg:linear is now deprecated in favor of reg:squarederror.\n",
            "100%|██████████| 1/1 [00:00<00:00,  2.31it/s, best loss: 0.4045300340032434]\n",
            "[17:01:36] WARNING: /workspace/src/objective/regression_obj.cu:152: reg:linear is now deprecated in favor of reg:squarederror.\n",
            "100%|██████████| 1/1 [00:00<00:00,  3.05it/s, best loss: 0.4045300340032434]\n",
            "[17:01:37] WARNING: /workspace/src/objective/regression_obj.cu:152: reg:linear is now deprecated in favor of reg:squarederror.\n",
            "100%|██████████| 1/1 [00:00<00:00,  8.56it/s, best loss: 0.4045300340032434]\n",
            "[17:01:37] WARNING: /workspace/src/objective/regression_obj.cu:152: reg:linear is now deprecated in favor of reg:squarederror.\n",
            "100%|██████████| 1/1 [00:00<00:00,  2.66it/s, best loss: 0.4045300340032434]\n",
            "[17:01:37] WARNING: /workspace/src/objective/regression_obj.cu:152: reg:linear is now deprecated in favor of reg:squarederror.\n",
            "100%|██████████| 1/1 [00:00<00:00, 10.92it/s, best loss: 0.4045300340032434]\n",
            "[17:01:37] WARNING: /workspace/src/objective/regression_obj.cu:152: reg:linear is now deprecated in favor of reg:squarederror.\n",
            "100%|██████████| 1/1 [00:00<00:00,  8.41it/s, best loss: 0.4045300340032434]\n",
            "[17:01:37] WARNING: /workspace/src/objective/regression_obj.cu:152: reg:linear is now deprecated in favor of reg:squarederror.\n",
            "100%|██████████| 1/1 [00:00<00:00,  3.68it/s, best loss: 0.4045300340032434]\n",
            "[17:01:38] WARNING: /workspace/src/objective/regression_obj.cu:152: reg:linear is now deprecated in favor of reg:squarederror.\n",
            "100%|██████████| 1/1 [00:00<00:00,  4.76it/s, best loss: 0.4045300340032434]\n",
            "[17:01:38] WARNING: /workspace/src/objective/regression_obj.cu:152: reg:linear is now deprecated in favor of reg:squarederror.\n",
            "100%|██████████| 1/1 [00:00<00:00,  5.10it/s, best loss: 0.3633865835461729]\n",
            "[17:01:38] WARNING: /workspace/src/objective/regression_obj.cu:152: reg:linear is now deprecated in favor of reg:squarederror.\n",
            "100%|██████████| 1/1 [00:00<00:00,  2.69it/s, best loss: 0.3633865835461729]\n",
            "  0%|          | 0/1 [00:00<?, ?it/s, best loss: ?]"
          ],
          "name": "stdout"
        },
        {
          "output_type": "stream",
          "text": [
            "/usr/local/lib/python3.7/dist-packages/sklearn/decomposition/_base.py:132: RuntimeWarning: invalid value encountered in true_divide\n",
            "  X_transformed /= np.sqrt(self.explained_variance_)\n",
            "\n"
          ],
          "name": "stderr"
        },
        {
          "output_type": "stream",
          "text": [
            "Failing trial due to NaN in\n",
            "PCA(copy=True, iterated_power='auto', n_components=6, random_state=None,\n",
            "    svd_solver='auto', tol=0.0, whiten=True)\n",
            "100%|██████████| 1/1 [00:00<00:00, 11.04it/s, best loss: 0.3633865835461729]\n",
            "[17:01:39] WARNING: /workspace/src/objective/regression_obj.cu:152: reg:linear is now deprecated in favor of reg:squarederror.\n",
            "100%|██████████| 1/1 [00:00<00:00,  4.84it/s, best loss: 0.3633865835461729]\n",
            "[17:01:39] WARNING: /workspace/src/objective/regression_obj.cu:152: reg:linear is now deprecated in favor of reg:squarederror.\n",
            "100%|██████████| 1/1 [00:00<00:00, 12.21it/s, best loss: 0.3633865835461729]\n",
            "  0%|          | 0/1 [00:00<?, ?it/s, best loss: ?]"
          ],
          "name": "stdout"
        },
        {
          "output_type": "stream",
          "text": [
            "/usr/local/lib/python3.7/dist-packages/sklearn/decomposition/_base.py:132: RuntimeWarning: invalid value encountered in true_divide\n",
            "  X_transformed /= np.sqrt(self.explained_variance_)\n",
            "\n"
          ],
          "name": "stderr"
        },
        {
          "output_type": "stream",
          "text": [
            "Failing trial due to NaN in\n",
            "PCA(copy=True, iterated_power='auto', n_components=6, random_state=None,\n",
            "    svd_solver='auto', tol=0.0, whiten=True)\n",
            "100%|██████████| 1/1 [00:00<00:00, 11.12it/s, best loss: 0.3633865835461729]\n",
            "[17:01:39] WARNING: /workspace/src/objective/regression_obj.cu:152: reg:linear is now deprecated in favor of reg:squarederror.\n",
            "100%|██████████| 1/1 [00:00<00:00,  4.81it/s, best loss: 0.3633865835461729]\n",
            "[17:01:39] WARNING: /workspace/src/objective/regression_obj.cu:152: reg:linear is now deprecated in favor of reg:squarederror.\n",
            "100%|██████████| 1/1 [00:00<00:00,  4.05it/s, best loss: 0.3633865835461729]\n",
            "[17:01:40] WARNING: /workspace/src/objective/regression_obj.cu:152: reg:linear is now deprecated in favor of reg:squarederror.\n",
            "100%|██████████| 1/1 [00:00<00:00,  5.10it/s, best loss: 0.3633865835461729]\n",
            "[17:01:40] WARNING: /workspace/src/objective/regression_obj.cu:152: reg:linear is now deprecated in favor of reg:squarederror.\n",
            "100%|██████████| 1/1 [00:00<00:00,  5.52it/s, best loss: 0.3633865835461729]\n",
            "[17:01:40] WARNING: /workspace/src/objective/regression_obj.cu:152: reg:linear is now deprecated in favor of reg:squarederror.\n",
            "100%|██████████| 1/1 [00:00<00:00,  2.37it/s, best loss: 0.3633865835461729]\n",
            "[17:01:41] WARNING: /workspace/src/objective/regression_obj.cu:152: reg:linear is now deprecated in favor of reg:squarederror.\n",
            "100%|██████████| 1/1 [00:00<00:00,  3.00it/s, best loss: 0.3633865835461729]\n",
            "[17:01:41] WARNING: /workspace/src/objective/regression_obj.cu:152: reg:linear is now deprecated in favor of reg:squarederror.\n",
            "100%|██████████| 1/1 [00:00<00:00,  2.41it/s, best loss: 0.3633865835461729]\n",
            "[17:01:41] WARNING: /workspace/src/objective/regression_obj.cu:152: reg:linear is now deprecated in favor of reg:squarederror.\n",
            "100%|██████████| 1/1 [00:00<00:00,  1.96it/s, best loss: 0.3633865835461729]\n",
            "[17:01:42] WARNING: /workspace/src/objective/regression_obj.cu:152: reg:linear is now deprecated in favor of reg:squarederror.\n",
            "100%|██████████| 1/1 [00:00<00:00,  3.73it/s, best loss: 0.3633865835461729]\n",
            "[17:01:42] WARNING: /workspace/src/objective/regression_obj.cu:152: reg:linear is now deprecated in favor of reg:squarederror.\n",
            "100%|██████████| 1/1 [00:00<00:00,  6.01it/s, best loss: 0.3633865835461729]\n",
            "[17:01:43] WARNING: /workspace/src/objective/regression_obj.cu:152: reg:linear is now deprecated in favor of reg:squarederror.\n",
            "100%|██████████| 1/1 [00:00<00:00,  2.61it/s, best loss: 0.3633865835461729]\n",
            "[17:01:43] WARNING: /workspace/src/objective/regression_obj.cu:152: reg:linear is now deprecated in favor of reg:squarederror.\n",
            "100%|██████████| 1/1 [00:00<00:00, 11.36it/s, best loss: 0.3633865835461729]\n",
            "[17:01:43] WARNING: /workspace/src/objective/regression_obj.cu:152: reg:linear is now deprecated in favor of reg:squarederror.\n",
            "100%|██████████| 1/1 [00:00<00:00,  4.96it/s, best loss: 0.3633865835461729]\n",
            "[17:01:43] WARNING: /workspace/src/objective/regression_obj.cu:152: reg:linear is now deprecated in favor of reg:squarederror.\n",
            "100%|██████████| 1/1 [00:00<00:00,  7.66it/s, best loss: 0.3633865835461729]\n",
            "[17:01:43] WARNING: /workspace/src/objective/regression_obj.cu:152: reg:linear is now deprecated in favor of reg:squarederror.\n",
            "100%|██████████| 1/1 [00:00<00:00,  5.84it/s, best loss: 0.3633865835461729]\n",
            "[17:01:44] WARNING: /workspace/src/objective/regression_obj.cu:152: reg:linear is now deprecated in favor of reg:squarederror.\n",
            "100%|██████████| 1/1 [00:00<00:00, 13.55it/s, best loss: 0.3633865835461729]\n",
            "[17:01:44] WARNING: /workspace/src/objective/regression_obj.cu:152: reg:linear is now deprecated in favor of reg:squarederror.\n",
            "100%|██████████| 1/1 [00:00<00:00,  3.94it/s, best loss: 0.3633865835461729]\n",
            "[17:01:44] WARNING: /workspace/src/objective/regression_obj.cu:152: reg:linear is now deprecated in favor of reg:squarederror.\n",
            "100%|██████████| 1/1 [00:00<00:00,  6.67it/s, best loss: 0.3633865835461729]\n",
            "[17:01:44] WARNING: /workspace/src/objective/regression_obj.cu:152: reg:linear is now deprecated in favor of reg:squarederror.\n",
            "100%|██████████| 1/1 [00:00<00:00,  3.82it/s, best loss: 0.3633865835461729]\n",
            "[17:01:44] WARNING: /workspace/src/objective/regression_obj.cu:152: reg:linear is now deprecated in favor of reg:squarederror.\n",
            "100%|██████████| 1/1 [00:00<00:00,  2.86it/s, best loss: 0.3633865835461729]\n",
            "[17:01:45] WARNING: /workspace/src/objective/regression_obj.cu:152: reg:linear is now deprecated in favor of reg:squarederror.\n",
            "100%|██████████| 1/1 [00:00<00:00,  3.50it/s, best loss: 0.3633865835461729]\n",
            "[17:01:45] WARNING: /workspace/src/objective/regression_obj.cu:152: reg:linear is now deprecated in favor of reg:squarederror.\n",
            "100%|██████████| 1/1 [00:00<00:00,  3.63it/s, best loss: 0.3633865835461729]\n",
            "[17:01:45] WARNING: /workspace/src/objective/regression_obj.cu:152: reg:linear is now deprecated in favor of reg:squarederror.\n",
            "100%|██████████| 1/1 [00:00<00:00,  3.15it/s, best loss: 0.3633865835461729]\n",
            "[17:01:46] WARNING: /workspace/src/objective/regression_obj.cu:152: reg:linear is now deprecated in favor of reg:squarederror.\n",
            "100%|██████████| 1/1 [00:00<00:00,  2.55it/s, best loss: 0.3633865835461729]\n",
            "[17:01:46] WARNING: /workspace/src/objective/regression_obj.cu:152: reg:linear is now deprecated in favor of reg:squarederror.\n",
            "100%|██████████| 1/1 [00:00<00:00, 12.13it/s, best loss: 0.3633865835461729]\n",
            "[17:01:46] WARNING: /workspace/src/objective/regression_obj.cu:152: reg:linear is now deprecated in favor of reg:squarederror.\n",
            "100%|██████████| 1/1 [00:00<00:00,  4.41it/s, best loss: 0.3633865835461729]\n",
            "  0%|          | 0/1 [00:00<?, ?it/s, best loss: ?]"
          ],
          "name": "stdout"
        },
        {
          "output_type": "stream",
          "text": [
            "/usr/local/lib/python3.7/dist-packages/sklearn/decomposition/_base.py:132: RuntimeWarning: invalid value encountered in true_divide\n",
            "  X_transformed /= np.sqrt(self.explained_variance_)\n",
            "\n"
          ],
          "name": "stderr"
        },
        {
          "output_type": "stream",
          "text": [
            "Failing trial due to NaN in\n",
            "PCA(copy=True, iterated_power='auto', n_components=6, random_state=None,\n",
            "    svd_solver='auto', tol=0.0, whiten=True)\n",
            "100%|██████████| 1/1 [00:00<00:00, 14.61it/s, best loss: 0.3633865835461729]\n",
            "[17:01:47] WARNING: /workspace/src/objective/regression_obj.cu:152: reg:linear is now deprecated in favor of reg:squarederror.\n",
            "100%|██████████| 1/1 [00:00<00:00,  5.29it/s, best loss: 0.3633865835461729]\n",
            "[17:01:47] WARNING: /workspace/src/objective/regression_obj.cu:152: reg:linear is now deprecated in favor of reg:squarederror.\n",
            "100%|██████████| 1/1 [00:00<00:00,  3.20it/s, best loss: 0.3633865835461729]\n",
            "[17:01:47] WARNING: /workspace/src/objective/regression_obj.cu:152: reg:linear is now deprecated in favor of reg:squarederror.\n",
            "100%|██████████| 1/1 [00:00<00:00,  9.18it/s, best loss: 0.3633865835461729]\n",
            "[17:01:47] WARNING: /workspace/src/objective/regression_obj.cu:152: reg:linear is now deprecated in favor of reg:squarederror.\n",
            "100%|██████████| 1/1 [00:00<00:00,  3.64it/s, best loss: 0.3633865835461729]\n",
            "[17:01:48] WARNING: /workspace/src/objective/regression_obj.cu:152: reg:linear is now deprecated in favor of reg:squarederror.\n",
            "100%|██████████| 1/1 [00:00<00:00,  4.14it/s, best loss: 0.3633865835461729]\n",
            "[17:01:48] WARNING: /workspace/src/objective/regression_obj.cu:152: reg:linear is now deprecated in favor of reg:squarederror.\n",
            "100%|██████████| 1/1 [00:00<00:00,  3.40it/s, best loss: 0.3633865835461729]\n",
            "[17:01:48] WARNING: /workspace/src/objective/regression_obj.cu:152: reg:linear is now deprecated in favor of reg:squarederror.\n",
            "100%|██████████| 1/1 [00:00<00:00,  8.74it/s, best loss: 0.34607049660810274]\n",
            "[17:01:48] WARNING: /workspace/src/objective/regression_obj.cu:152: reg:linear is now deprecated in favor of reg:squarederror.\n",
            "100%|██████████| 1/1 [00:00<00:00,  7.32it/s, best loss: 0.34607049660810274]\n",
            "[17:01:49] WARNING: /workspace/src/objective/regression_obj.cu:152: reg:linear is now deprecated in favor of reg:squarederror.\n",
            "100%|██████████| 1/1 [00:00<00:00,  4.93it/s, best loss: 0.34607049660810274]\n",
            "[17:01:49] WARNING: /workspace/src/objective/regression_obj.cu:152: reg:linear is now deprecated in favor of reg:squarederror.\n",
            "100%|██████████| 1/1 [00:00<00:00,  7.69it/s, best loss: 0.34607049660810274]\n",
            "[17:01:49] WARNING: /workspace/src/objective/regression_obj.cu:152: reg:linear is now deprecated in favor of reg:squarederror.\n",
            "100%|██████████| 1/1 [00:00<00:00,  6.08it/s, best loss: 0.34607049660810274]\n",
            "[17:01:49] WARNING: /workspace/src/objective/regression_obj.cu:152: reg:linear is now deprecated in favor of reg:squarederror.\n",
            "100%|██████████| 1/1 [00:00<00:00,  3.58it/s, best loss: 0.34607049660810274]\n",
            "[17:01:50] WARNING: /workspace/src/objective/regression_obj.cu:152: reg:linear is now deprecated in favor of reg:squarederror.\n",
            "100%|██████████| 1/1 [00:00<00:00,  6.93it/s, best loss: 0.34607049660810274]\n",
            "  0%|          | 0/1 [00:00<?, ?it/s, best loss: ?]"
          ],
          "name": "stdout"
        },
        {
          "output_type": "stream",
          "text": [
            "/usr/local/lib/python3.7/dist-packages/sklearn/decomposition/_base.py:132: RuntimeWarning: invalid value encountered in true_divide\n",
            "  X_transformed /= np.sqrt(self.explained_variance_)\n",
            "\n"
          ],
          "name": "stderr"
        },
        {
          "output_type": "stream",
          "text": [
            "Failing trial due to NaN in\n",
            "PCA(copy=True, iterated_power='auto', n_components=6, random_state=None,\n",
            "    svd_solver='auto', tol=0.0, whiten=True)\n",
            "100%|██████████| 1/1 [00:00<00:00, 12.15it/s, best loss: 0.34607049660810274]\n",
            "  0%|          | 0/1 [00:00<?, ?it/s, best loss: ?]"
          ],
          "name": "stdout"
        },
        {
          "output_type": "stream",
          "text": [
            "/usr/local/lib/python3.7/dist-packages/sklearn/decomposition/_base.py:132: RuntimeWarning: invalid value encountered in true_divide\n",
            "  X_transformed /= np.sqrt(self.explained_variance_)\n",
            "\n"
          ],
          "name": "stderr"
        },
        {
          "output_type": "stream",
          "text": [
            "Failing trial due to NaN in\n",
            "PCA(copy=True, iterated_power='auto', n_components=6, random_state=None,\n",
            "    svd_solver='auto', tol=0.0, whiten=True)\n",
            "100%|██████████| 1/1 [00:00<00:00, 13.51it/s, best loss: 0.34607049660810274]\n",
            "  0%|          | 0/1 [00:00<?, ?it/s, best loss: ?]"
          ],
          "name": "stdout"
        },
        {
          "output_type": "stream",
          "text": [
            "/usr/local/lib/python3.7/dist-packages/sklearn/decomposition/_base.py:132: RuntimeWarning: invalid value encountered in true_divide\n",
            "  X_transformed /= np.sqrt(self.explained_variance_)\n",
            "\n"
          ],
          "name": "stderr"
        },
        {
          "output_type": "stream",
          "text": [
            "Failing trial due to NaN in\n",
            "PCA(copy=True, iterated_power='auto', n_components=6, random_state=None,\n",
            "    svd_solver='auto', tol=0.0, whiten=True)\n",
            "100%|██████████| 1/1 [00:00<00:00, 11.18it/s, best loss: 0.34607049660810274]\n",
            "[17:01:50] WARNING: /workspace/src/objective/regression_obj.cu:152: reg:linear is now deprecated in favor of reg:squarederror.\n",
            "100%|██████████| 1/1 [00:00<00:00,  4.93it/s, best loss: 0.34607049660810274]\n",
            "[17:01:50] WARNING: /workspace/src/objective/regression_obj.cu:152: reg:linear is now deprecated in favor of reg:squarederror.\n",
            "100%|██████████| 1/1 [00:00<00:00,  4.83it/s, best loss: 0.34607049660810274]\n",
            "[17:01:51] WARNING: /workspace/src/objective/regression_obj.cu:152: reg:linear is now deprecated in favor of reg:squarederror.\n",
            "100%|██████████| 1/1 [00:00<00:00,  4.24it/s, best loss: 0.34607049660810274]\n",
            "[17:01:51] WARNING: /workspace/src/objective/regression_obj.cu:152: reg:linear is now deprecated in favor of reg:squarederror.\n",
            "100%|██████████| 1/1 [00:00<00:00,  3.88it/s, best loss: 0.34607049660810274]\n",
            "[17:01:51] WARNING: /workspace/src/objective/regression_obj.cu:152: reg:linear is now deprecated in favor of reg:squarederror.\n",
            "100%|██████████| 1/1 [00:00<00:00,  3.61it/s, best loss: 0.34607049660810274]\n",
            "[17:01:51] WARNING: /workspace/src/objective/regression_obj.cu:152: reg:linear is now deprecated in favor of reg:squarederror.\n",
            "100%|██████████| 1/1 [00:00<00:00,  3.99it/s, best loss: 0.34607049660810274]\n",
            "[17:01:52] WARNING: /workspace/src/objective/regression_obj.cu:152: reg:linear is now deprecated in favor of reg:squarederror.\n",
            "100%|██████████| 1/1 [00:00<00:00,  2.61it/s, best loss: 0.34607049660810274]\n",
            "[17:01:52] WARNING: /workspace/src/objective/regression_obj.cu:152: reg:linear is now deprecated in favor of reg:squarederror.\n",
            "100%|██████████| 1/1 [00:00<00:00,  3.81it/s, best loss: 0.34607049660810274]\n",
            "  0%|          | 0/1 [00:00<?, ?it/s, best loss: ?]"
          ],
          "name": "stdout"
        },
        {
          "output_type": "stream",
          "text": [
            "/usr/local/lib/python3.7/dist-packages/sklearn/decomposition/_base.py:132: RuntimeWarning: invalid value encountered in true_divide\n",
            "  X_transformed /= np.sqrt(self.explained_variance_)\n",
            "\n"
          ],
          "name": "stderr"
        },
        {
          "output_type": "stream",
          "text": [
            "Failing trial due to NaN in\n",
            "PCA(copy=True, iterated_power='auto', n_components=6, random_state=None,\n",
            "    svd_solver='auto', tol=0.0, whiten=True)\n",
            "100%|██████████| 1/1 [00:00<00:00, 12.40it/s, best loss: 0.34607049660810274]\n",
            "[17:01:53] WARNING: /workspace/src/objective/regression_obj.cu:152: reg:linear is now deprecated in favor of reg:squarederror.\n",
            "100%|██████████| 1/1 [00:00<00:00,  2.70it/s, best loss: 0.34607049660810274]\n",
            "[17:01:53] WARNING: /workspace/src/objective/regression_obj.cu:152: reg:linear is now deprecated in favor of reg:squarederror.\n",
            "100%|██████████| 1/1 [00:00<00:00,  8.93it/s, best loss: 0.34607049660810274]\n",
            "[17:01:53] WARNING: /workspace/src/objective/regression_obj.cu:152: reg:linear is now deprecated in favor of reg:squarederror.\n",
            "100%|██████████| 1/1 [00:00<00:00,  3.65it/s, best loss: 0.34607049660810274]\n",
            "[17:01:53] WARNING: /workspace/src/objective/regression_obj.cu:152: reg:linear is now deprecated in favor of reg:squarederror.\n",
            "100%|██████████| 1/1 [00:00<00:00, 10.24it/s, best loss: 0.34607049660810274]\n",
            "[17:01:53] WARNING: /workspace/src/objective/regression_obj.cu:152: reg:linear is now deprecated in favor of reg:squarederror.\n",
            "100%|██████████| 1/1 [00:00<00:00,  4.33it/s, best loss: 0.34607049660810274]\n",
            "[17:01:54] WARNING: /workspace/src/objective/regression_obj.cu:152: reg:linear is now deprecated in favor of reg:squarederror.\n",
            "100%|██████████| 1/1 [00:00<00:00,  8.19it/s, best loss: 0.34607049660810274]\n",
            "[17:01:54] WARNING: /workspace/src/objective/regression_obj.cu:152: reg:linear is now deprecated in favor of reg:squarederror.\n",
            "100%|██████████| 1/1 [00:00<00:00, 10.92it/s, best loss: 0.34607049660810274]\n",
            "[17:01:54] WARNING: /workspace/src/objective/regression_obj.cu:152: reg:linear is now deprecated in favor of reg:squarederror.\n",
            "100%|██████████| 1/1 [00:00<00:00,  2.63it/s, best loss: 0.34607049660810274]\n",
            "[17:01:54] WARNING: /workspace/src/objective/regression_obj.cu:152: reg:linear is now deprecated in favor of reg:squarederror.\n",
            "100%|██████████| 1/1 [00:00<00:00, 13.60it/s, best loss: 0.34607049660810274]\n",
            "[17:01:55] WARNING: /workspace/src/objective/regression_obj.cu:152: reg:linear is now deprecated in favor of reg:squarederror.\n",
            "100%|██████████| 1/1 [00:00<00:00,  4.56it/s, best loss: 0.34607049660810274]\n",
            "[17:01:55] WARNING: /workspace/src/objective/regression_obj.cu:152: reg:linear is now deprecated in favor of reg:squarederror.\n",
            "100%|██████████| 1/1 [00:00<00:00,  4.80it/s, best loss: 0.34607049660810274]\n",
            "[17:01:55] WARNING: /workspace/src/objective/regression_obj.cu:152: reg:linear is now deprecated in favor of reg:squarederror.\n",
            "100%|██████████| 1/1 [00:00<00:00,  5.56it/s, best loss: 0.34607049660810274]\n",
            "[17:01:55] WARNING: /workspace/src/objective/regression_obj.cu:152: reg:linear is now deprecated in favor of reg:squarederror.\n",
            "100%|██████████| 1/1 [00:00<00:00,  5.19it/s, best loss: 0.34607049660810274]\n",
            "[17:01:55] WARNING: /workspace/src/objective/regression_obj.cu:152: reg:linear is now deprecated in favor of reg:squarederror.\n",
            "100%|██████████| 1/1 [00:00<00:00,  3.31it/s, best loss: 0.34607049660810274]\n",
            "[17:01:56] WARNING: /workspace/src/objective/regression_obj.cu:152: reg:linear is now deprecated in favor of reg:squarederror.\n",
            "100%|██████████| 1/1 [00:00<00:00,  2.72it/s, best loss: 0.34607049660810274]\n",
            "[17:01:56] WARNING: /workspace/src/objective/regression_obj.cu:152: reg:linear is now deprecated in favor of reg:squarederror.\n",
            "100%|██████████| 1/1 [00:00<00:00,  2.93it/s, best loss: 0.34607049660810274]\n",
            "[17:01:57] WARNING: /workspace/src/objective/regression_obj.cu:152: reg:linear is now deprecated in favor of reg:squarederror.\n",
            "100%|██████████| 1/1 [00:00<00:00,  3.60it/s, best loss: 0.34607049660810274]\n",
            "[17:01:57] WARNING: /workspace/src/objective/regression_obj.cu:152: reg:linear is now deprecated in favor of reg:squarederror.\n",
            "100%|██████████| 1/1 [00:00<00:00,  1.91it/s, best loss: 0.34607049660810274]\n",
            "[17:01:57] WARNING: /workspace/src/objective/regression_obj.cu:152: reg:linear is now deprecated in favor of reg:squarederror.\n",
            "100%|██████████| 1/1 [00:00<00:00,  2.71it/s, best loss: 0.34607049660810274]\n",
            "[17:01:58] WARNING: /workspace/src/objective/regression_obj.cu:152: reg:linear is now deprecated in favor of reg:squarederror.\n",
            "100%|██████████| 1/1 [00:00<00:00,  4.22it/s, best loss: 0.34607049660810274]\n",
            "[17:01:58] WARNING: /workspace/src/objective/regression_obj.cu:152: reg:linear is now deprecated in favor of reg:squarederror.\n",
            "100%|██████████| 1/1 [00:00<00:00,  5.63it/s, best loss: 0.34607049660810274]\n",
            "[17:01:58] WARNING: /workspace/src/objective/regression_obj.cu:152: reg:linear is now deprecated in favor of reg:squarederror.\n",
            "100%|██████████| 1/1 [00:00<00:00,  3.58it/s, best loss: 0.34607049660810274]\n",
            "[17:01:59] WARNING: /workspace/src/objective/regression_obj.cu:152: reg:linear is now deprecated in favor of reg:squarederror.\n",
            "100%|██████████| 1/1 [00:00<00:00,  3.32it/s, best loss: 0.34607049660810274]\n",
            "[17:01:59] WARNING: /workspace/src/objective/regression_obj.cu:152: reg:linear is now deprecated in favor of reg:squarederror.\n",
            "100%|██████████| 1/1 [00:00<00:00,  6.55it/s, best loss: 0.34607049660810274]\n",
            "[17:01:59] WARNING: /workspace/src/objective/regression_obj.cu:152: reg:linear is now deprecated in favor of reg:squarederror.\n",
            "100%|██████████| 1/1 [00:00<00:00,  3.81it/s, best loss: 0.34607049660810274]\n",
            "[17:01:59] WARNING: /workspace/src/objective/regression_obj.cu:152: reg:linear is now deprecated in favor of reg:squarederror.\n",
            "100%|██████████| 1/1 [00:00<00:00,  3.85it/s, best loss: 0.34607049660810274]\n",
            "[17:02:00] WARNING: /workspace/src/objective/regression_obj.cu:152: reg:linear is now deprecated in favor of reg:squarederror.\n",
            "100%|██████████| 1/1 [00:00<00:00,  7.09it/s, best loss: 0.34607049660810274]\n",
            "[17:02:00] WARNING: /workspace/src/objective/regression_obj.cu:152: reg:linear is now deprecated in favor of reg:squarederror.\n",
            "100%|██████████| 1/1 [00:00<00:00, 11.03it/s, best loss: 0.34607049660810274]\n",
            "[17:02:00] WARNING: /workspace/src/objective/regression_obj.cu:152: reg:linear is now deprecated in favor of reg:squarederror.\n",
            "100%|██████████| 1/1 [00:00<00:00,  3.02it/s, best loss: 0.34607049660810274]\n",
            "[17:02:00] WARNING: /workspace/src/objective/regression_obj.cu:152: reg:linear is now deprecated in favor of reg:squarederror.\n",
            "100%|██████████| 1/1 [00:00<00:00,  4.38it/s, best loss: 0.34607049660810274]\n",
            "[17:02:01] WARNING: /workspace/src/objective/regression_obj.cu:152: reg:linear is now deprecated in favor of reg:squarederror.\n",
            "100%|██████████| 1/1 [00:00<00:00,  4.06it/s, best loss: 0.34607049660810274]\n",
            "[17:02:01] WARNING: /workspace/src/objective/regression_obj.cu:152: reg:linear is now deprecated in favor of reg:squarederror.\n",
            "100%|██████████| 1/1 [00:00<00:00,  3.02it/s, best loss: 0.34607049660810274]\n",
            "[17:02:01] WARNING: /workspace/src/objective/regression_obj.cu:152: reg:linear is now deprecated in favor of reg:squarederror.\n",
            "100%|██████████| 1/1 [00:00<00:00,  3.83it/s, best loss: 0.34607049660810274]\n",
            "[17:02:02] WARNING: /workspace/src/objective/regression_obj.cu:152: reg:linear is now deprecated in favor of reg:squarederror.\n",
            "100%|██████████| 1/1 [00:00<00:00,  2.70it/s, best loss: 0.34607049660810274]\n",
            "[17:02:02] WARNING: /workspace/src/objective/regression_obj.cu:152: reg:linear is now deprecated in favor of reg:squarederror.\n",
            "100%|██████████| 1/1 [00:00<00:00,  6.77it/s, best loss: 0.34607049660810274]\n",
            "[17:02:02] WARNING: /workspace/src/objective/regression_obj.cu:152: reg:linear is now deprecated in favor of reg:squarederror.\n",
            "100%|██████████| 1/1 [00:00<00:00,  3.50it/s, best loss: 0.34607049660810274]\n",
            "[17:02:02] WARNING: /workspace/src/objective/regression_obj.cu:152: reg:linear is now deprecated in favor of reg:squarederror.\n",
            "100%|██████████| 1/1 [00:00<00:00,  5.92it/s, best loss: 0.34607049660810274]\n",
            "[17:02:03] WARNING: /workspace/src/objective/regression_obj.cu:152: reg:linear is now deprecated in favor of reg:squarederror.\n",
            "100%|██████████| 1/1 [00:00<00:00, 11.89it/s, best loss: 0.34607049660810274]\n",
            "[17:02:03] WARNING: /workspace/src/objective/regression_obj.cu:152: reg:linear is now deprecated in favor of reg:squarederror.\n",
            "100%|██████████| 1/1 [00:00<00:00,  2.03it/s, best loss: 0.34607049660810274]\n",
            "[17:02:03] WARNING: /workspace/src/objective/regression_obj.cu:152: reg:linear is now deprecated in favor of reg:squarederror.\n",
            "100%|██████████| 1/1 [00:00<00:00,  1.85it/s, best loss: 0.34607049660810274]\n",
            "[17:02:04] WARNING: /workspace/src/objective/regression_obj.cu:152: reg:linear is now deprecated in favor of reg:squarederror.\n",
            "100%|██████████| 1/1 [00:00<00:00,  3.64it/s, best loss: 0.34607049660810274]\n",
            "[17:02:04] WARNING: /workspace/src/objective/regression_obj.cu:152: reg:linear is now deprecated in favor of reg:squarederror.\n",
            "100%|██████████| 1/1 [00:00<00:00,  3.80it/s, best loss: 0.3418927547664157]\n",
            "[17:02:05] WARNING: /workspace/src/objective/regression_obj.cu:152: reg:linear is now deprecated in favor of reg:squarederror.\n",
            "100%|██████████| 1/1 [00:00<00:00,  5.66it/s, best loss: 0.3418927547664157]\n",
            "[17:02:05] WARNING: /workspace/src/objective/regression_obj.cu:152: reg:linear is now deprecated in favor of reg:squarederror.\n",
            "100%|██████████| 1/1 [00:00<00:00,  3.59it/s, best loss: 0.3418927547664157]\n",
            "[17:02:05] WARNING: /workspace/src/objective/regression_obj.cu:152: reg:linear is now deprecated in favor of reg:squarederror.\n",
            "100%|██████████| 1/1 [00:00<00:00,  3.72it/s, best loss: 0.3418927547664157]\n",
            "[17:02:05] WARNING: /workspace/src/objective/regression_obj.cu:152: reg:linear is now deprecated in favor of reg:squarederror.\n",
            "100%|██████████| 1/1 [00:00<00:00,  8.84it/s, best loss: 0.3418927547664157]\n",
            "  0%|          | 0/1 [00:00<?, ?it/s, best loss: ?]"
          ],
          "name": "stdout"
        },
        {
          "output_type": "stream",
          "text": [
            "/usr/local/lib/python3.7/dist-packages/sklearn/decomposition/_base.py:132: RuntimeWarning: invalid value encountered in true_divide\n",
            "  X_transformed /= np.sqrt(self.explained_variance_)\n",
            "\n"
          ],
          "name": "stderr"
        },
        {
          "output_type": "stream",
          "text": [
            "Failing trial due to NaN in\n",
            "PCA(copy=True, iterated_power='auto', n_components=6, random_state=None,\n",
            "    svd_solver='auto', tol=0.0, whiten=True)\n",
            "100%|██████████| 1/1 [00:00<00:00, 15.13it/s, best loss: 0.3418927547664157]\n",
            "[17:02:06] WARNING: /workspace/src/objective/regression_obj.cu:152: reg:linear is now deprecated in favor of reg:squarederror.\n",
            "100%|██████████| 1/1 [00:00<00:00,  3.68it/s, best loss: 0.3418927547664157]\n",
            "[17:02:06] WARNING: /workspace/src/objective/regression_obj.cu:152: reg:linear is now deprecated in favor of reg:squarederror.\n",
            "100%|██████████| 1/1 [00:00<00:00, 13.63it/s, best loss: 0.3418927547664157]\n",
            "[17:02:06] WARNING: /workspace/src/objective/regression_obj.cu:152: reg:linear is now deprecated in favor of reg:squarederror.\n",
            "100%|██████████| 1/1 [00:00<00:00,  6.83it/s, best loss: 0.3418927547664157]\n",
            "[17:02:06] WARNING: /workspace/src/objective/regression_obj.cu:152: reg:linear is now deprecated in favor of reg:squarederror.\n",
            "100%|██████████| 1/1 [00:00<00:00,  8.09it/s, best loss: 0.3418927547664157]\n",
            "[17:02:06] WARNING: /workspace/src/objective/regression_obj.cu:152: reg:linear is now deprecated in favor of reg:squarederror.\n",
            "100%|██████████| 1/1 [00:00<00:00,  2.02it/s, best loss: 0.3418927547664157]\n",
            "[17:02:07] WARNING: /workspace/src/objective/regression_obj.cu:152: reg:linear is now deprecated in favor of reg:squarederror.\n",
            "100%|██████████| 1/1 [00:00<00:00,  5.77it/s, best loss: 0.3418927547664157]\n",
            "                                                   [17:02:07] WARNING: /workspace/src/objective/regression_obj.cu:152: reg:linear is now deprecated in favor of reg:squarederror.\n",
            "100%|██████████| 1/1 [00:00<00:00, 11.24it/s, best loss: 0.3418927547664157]\n",
            "[17:02:07] WARNING: /workspace/src/objective/regression_obj.cu:152: reg:linear is now deprecated in favor of reg:squarederror.\n",
            "100%|██████████| 1/1 [00:00<00:00,  3.00it/s, best loss: 0.3418927547664157]\n",
            "[17:02:08] WARNING: /workspace/src/objective/regression_obj.cu:152: reg:linear is now deprecated in favor of reg:squarederror.\n",
            "0.0036916195241722184\n",
            "0.06075869916458234\n"
          ],
          "name": "stdout"
        }
      ]
    },
    {
      "cell_type": "markdown",
      "metadata": {
        "id": "Cu9N9zhM1qPx"
      },
      "source": [
        "*HyperoptEstimator* + cлучайный лес"
      ]
    },
    {
      "cell_type": "code",
      "metadata": {
        "colab": {
          "base_uri": "https://localhost:8080/"
        },
        "id": "xakuZwY-tkJf",
        "outputId": "80e93b78-69de-4d4b-ba0b-4ecbe22c2fb2"
      },
      "source": [
        "from hpsklearn import HyperoptEstimator, xgboost_regression, random_forest_regression\n",
        "# # https://www.kaggle.com/ilialar/hyperparameters-tunning-with-hyperopt\n",
        "from sklearn.metrics import mean_squared_error\n",
        "\n",
        "estim = HyperoptEstimator(regressor=random_forest_regression('my_gb'),\n",
        "                          max_evals=200, trial_timeout=10, seed=39,\n",
        "                          loss_fn=mean_squared_error)\n",
        "\n",
        "estim.fit(x_train_split, y_train_split)\n",
        "\n",
        "print(mean_squared_error(y_test_split, estim.predict(x_test_split)))\n",
        "print(math.sqrt(mean_squared_error(y_test_split, estim.predict(x_test_split))))"
      ],
      "execution_count": null,
      "outputs": [
        {
          "output_type": "stream",
          "text": [
            "100%|██████████| 1/1 [00:00<00:00,  3.95it/s, best loss: 0.003593870789953797]\n",
            "100%|██████████| 1/1 [00:00<00:00,  2.22it/s, best loss: 0.003593870789953797]\n",
            "100%|██████████| 1/1 [00:02<00:00,  2.75s/it, best loss: 0.002978365714112272]\n",
            "100%|██████████| 1/1 [00:00<00:00,  5.37it/s, best loss: 0.002978365714112272]\n",
            "100%|██████████| 1/1 [00:00<00:00,  6.80it/s, best loss: 0.002978365714112272]\n",
            "100%|██████████| 1/1 [00:00<00:00,  5.25it/s, best loss: 0.002978365714112272]\n",
            "100%|██████████| 1/1 [00:00<00:00, 15.08it/s, best loss: 0.002445102978390254]\n",
            "100%|██████████| 1/1 [00:00<00:00,  1.74it/s, best loss: 0.002445102978390254]\n",
            "100%|██████████| 1/1 [00:01<00:00,  1.20s/it, best loss: 0.002445102978390254]\n",
            "100%|██████████| 1/1 [00:00<00:00, 13.88it/s, best loss: 0.002445102978390254]\n",
            "100%|██████████| 1/1 [00:01<00:00,  1.18s/it, best loss: 0.002445102978390254]\n",
            "100%|██████████| 1/1 [00:00<00:00, 15.09it/s, best loss: 0.002445102978390254]\n",
            "  0%|          | 0/1 [00:00<?, ?it/s, best loss: ?]"
          ],
          "name": "stdout"
        },
        {
          "output_type": "stream",
          "text": [
            "/usr/local/lib/python3.7/dist-packages/sklearn/decomposition/_base.py:132: RuntimeWarning: invalid value encountered in true_divide\n",
            "  X_transformed /= np.sqrt(self.explained_variance_)\n",
            "\n"
          ],
          "name": "stderr"
        },
        {
          "output_type": "stream",
          "text": [
            "Failing trial due to NaN in\n",
            "PCA(copy=True, iterated_power='auto', n_components=6, random_state=None,\n",
            "    svd_solver='auto', tol=0.0, whiten=True)\n",
            "100%|██████████| 1/1 [00:00<00:00, 10.47it/s, best loss: 0.002445102978390254]\n",
            "100%|██████████| 1/1 [00:00<00:00,  3.40it/s, best loss: 0.002445102978390254]\n",
            "100%|██████████| 1/1 [00:00<00:00,  9.72it/s, best loss: 0.002445102978390254]\n",
            "100%|██████████| 1/1 [00:00<00:00,  5.20it/s, best loss: 0.002445102978390254]\n",
            "100%|██████████| 1/1 [00:00<00:00, 11.22it/s, best loss: 0.002445102978390254]\n",
            "100%|██████████| 1/1 [00:00<00:00,  1.39it/s, best loss: 0.002445102978390254]\n",
            "100%|██████████| 1/1 [00:00<00:00,  3.07it/s, best loss: 0.002445102978390254]\n",
            "100%|██████████| 1/1 [00:00<00:00, 13.42it/s, best loss: 0.002445102978390254]\n",
            "100%|██████████| 1/1 [00:00<00:00, 17.50it/s, best loss: 0.0022973828706808574]\n",
            "100%|██████████| 1/1 [00:00<00:00,  1.28it/s, best loss: 0.0022973828706808574]\n",
            "100%|██████████| 1/1 [00:00<00:00,  5.34it/s, best loss: 0.0022973828706808574]\n",
            "100%|██████████| 1/1 [00:00<00:00,  6.12it/s, best loss: 0.0021497822120030347]\n",
            "100%|██████████| 1/1 [00:01<00:00,  1.32s/it, best loss: 0.0021497822120030347]\n",
            "100%|██████████| 1/1 [00:00<00:00, 17.97it/s, best loss: 0.0021497822120030347]\n",
            "100%|██████████| 1/1 [00:00<00:00,  2.53it/s, best loss: 0.0021497822120030347]\n",
            "100%|██████████| 1/1 [00:00<00:00,  3.99it/s, best loss: 0.0021497822120030347]\n",
            "100%|██████████| 1/1 [00:00<00:00,  1.02it/s, best loss: 0.0021497822120030347]\n",
            "100%|██████████| 1/1 [00:01<00:00,  1.78s/it, best loss: 0.0021497822120030347]\n",
            "100%|██████████| 1/1 [00:00<00:00,  1.82it/s, best loss: 0.0021497822120030347]\n",
            "100%|██████████| 1/1 [00:00<00:00, 14.02it/s, best loss: 0.0021497822120030347]\n",
            "100%|██████████| 1/1 [00:00<00:00,  5.07it/s, best loss: 0.0021497822120030347]\n",
            "100%|██████████| 1/1 [00:02<00:00,  2.34s/it, best loss: 0.0021497822120030347]\n",
            "100%|██████████| 1/1 [00:01<00:00,  1.38s/it, best loss: 0.0021497822120030347]\n",
            "100%|██████████| 1/1 [00:00<00:00, 15.11it/s, best loss: 0.0021497822120030347]\n",
            "100%|██████████| 1/1 [00:00<00:00,  1.27it/s, best loss: 0.0021497822120030347]\n",
            "100%|██████████| 1/1 [00:00<00:00,  2.41it/s, best loss: 0.0021497822120030347]\n",
            "100%|██████████| 1/1 [00:00<00:00,  1.93it/s, best loss: 0.0019823777536337717]\n",
            "100%|██████████| 1/1 [00:00<00:00,  2.22it/s, best loss: 0.0019823777536337717]\n",
            "100%|██████████| 1/1 [00:00<00:00, 10.15it/s, best loss: 0.0019823777536337717]\n",
            "  0%|          | 0/1 [00:00<?, ?it/s, best loss: ?]"
          ],
          "name": "stdout"
        },
        {
          "output_type": "stream",
          "text": [
            "/usr/local/lib/python3.7/dist-packages/sklearn/decomposition/_base.py:132: RuntimeWarning: invalid value encountered in true_divide\n",
            "  X_transformed /= np.sqrt(self.explained_variance_)\n",
            "\n"
          ],
          "name": "stderr"
        },
        {
          "output_type": "stream",
          "text": [
            "Failing trial due to NaN in\n",
            "PCA(copy=True, iterated_power='auto', n_components=6, random_state=None,\n",
            "    svd_solver='auto', tol=0.0, whiten=True)\n",
            "100%|██████████| 1/1 [00:00<00:00, 12.06it/s, best loss: 0.0019823777536337717]\n",
            "100%|██████████| 1/1 [00:00<00:00,  6.81it/s, best loss: 0.0019823777536337717]\n",
            "100%|██████████| 1/1 [00:00<00:00,  6.82it/s, best loss: 0.0017965280500584794]\n",
            "100%|██████████| 1/1 [00:01<00:00,  1.06s/it, best loss: 0.0017965280500584794]\n",
            "100%|██████████| 1/1 [00:00<00:00, 13.46it/s, best loss: 0.0017965280500584794]\n",
            "  0%|          | 0/1 [00:00<?, ?it/s, best loss: ?]"
          ],
          "name": "stdout"
        },
        {
          "output_type": "stream",
          "text": [
            "/usr/local/lib/python3.7/dist-packages/sklearn/decomposition/_base.py:132: RuntimeWarning: invalid value encountered in true_divide\n",
            "  X_transformed /= np.sqrt(self.explained_variance_)\n",
            "\n"
          ],
          "name": "stderr"
        },
        {
          "output_type": "stream",
          "text": [
            "Failing trial due to NaN in\n",
            "PCA(copy=True, iterated_power='auto', n_components=6, random_state=None,\n",
            "    svd_solver='auto', tol=0.0, whiten=True)\n",
            "100%|██████████| 1/1 [00:00<00:00, 12.11it/s, best loss: 0.0017965280500584794]\n",
            "  0%|          | 0/1 [00:00<?, ?it/s, best loss: ?]"
          ],
          "name": "stdout"
        },
        {
          "output_type": "stream",
          "text": [
            "/usr/local/lib/python3.7/dist-packages/sklearn/decomposition/_base.py:132: RuntimeWarning: invalid value encountered in true_divide\n",
            "  X_transformed /= np.sqrt(self.explained_variance_)\n",
            "\n"
          ],
          "name": "stderr"
        },
        {
          "output_type": "stream",
          "text": [
            "Failing trial due to NaN in\n",
            "PCA(copy=True, iterated_power='auto', n_components=6, random_state=None,\n",
            "    svd_solver='auto', tol=0.0, whiten=True)\n",
            "100%|██████████| 1/1 [00:00<00:00, 12.93it/s, best loss: 0.0017965280500584794]\n",
            "100%|██████████| 1/1 [00:02<00:00,  2.07s/it, best loss: 0.0017965280500584794]\n",
            "100%|██████████| 1/1 [00:00<00:00,  2.66it/s, best loss: 0.0017965280500584794]\n",
            "  0%|          | 0/1 [00:00<?, ?it/s, best loss: ?]"
          ],
          "name": "stdout"
        },
        {
          "output_type": "stream",
          "text": [
            "/usr/local/lib/python3.7/dist-packages/sklearn/decomposition/_base.py:132: RuntimeWarning: invalid value encountered in true_divide\n",
            "  X_transformed /= np.sqrt(self.explained_variance_)\n",
            "\n"
          ],
          "name": "stderr"
        },
        {
          "output_type": "stream",
          "text": [
            "Failing trial due to NaN in\n",
            "PCA(copy=True, iterated_power='auto', n_components=6, random_state=None,\n",
            "    svd_solver='auto', tol=0.0, whiten=True)\n",
            "100%|██████████| 1/1 [00:00<00:00, 11.75it/s, best loss: 0.0017965280500584794]\n",
            "100%|██████████| 1/1 [00:01<00:00,  1.68s/it, best loss: 0.0015453073698116467]\n",
            "100%|██████████| 1/1 [00:00<00:00,  1.01it/s, best loss: 0.0015453073698116467]\n",
            "100%|██████████| 1/1 [00:02<00:00,  2.45s/it, best loss: 0.0015453073698116467]\n",
            "100%|██████████| 1/1 [00:00<00:00, 10.85it/s, best loss: 0.0015453073698116467]\n",
            "100%|██████████| 1/1 [00:00<00:00,  5.17it/s, best loss: 0.0015453073698116467]\n",
            "100%|██████████| 1/1 [00:00<00:00,  5.17it/s, best loss: 0.0015453073698116467]\n",
            "100%|██████████| 1/1 [00:01<00:00,  1.68s/it, best loss: 0.0015453073698116467]\n",
            "100%|██████████| 1/1 [00:00<00:00, 15.64it/s, best loss: 0.0015453073698116467]\n",
            "100%|██████████| 1/1 [00:02<00:00,  2.91s/it, best loss: 0.0015453073698116467]\n",
            "100%|██████████| 1/1 [00:01<00:00,  1.94s/it, best loss: 0.0015453073698116467]\n",
            "  0%|          | 0/1 [00:00<?, ?it/s, best loss: ?]"
          ],
          "name": "stdout"
        },
        {
          "output_type": "stream",
          "text": [
            "/usr/local/lib/python3.7/dist-packages/sklearn/decomposition/_base.py:132: RuntimeWarning: invalid value encountered in true_divide\n",
            "  X_transformed /= np.sqrt(self.explained_variance_)\n",
            "\n"
          ],
          "name": "stderr"
        },
        {
          "output_type": "stream",
          "text": [
            "Failing trial due to NaN in\n",
            "PCA(copy=True, iterated_power='auto', n_components=6, random_state=None,\n",
            "    svd_solver='auto', tol=0.0, whiten=True)\n",
            "100%|██████████| 1/1 [00:00<00:00, 12.90it/s, best loss: 0.0015453073698116467]\n",
            "100%|██████████| 1/1 [00:01<00:00,  1.21s/it, best loss: 0.0015453073698116467]\n",
            "100%|██████████| 1/1 [00:00<00:00,  6.20it/s, best loss: 0.0015453073698116467]\n",
            "100%|██████████| 1/1 [00:00<00:00,  1.10it/s, best loss: 0.0015453073698116467]\n",
            "100%|██████████| 1/1 [00:00<00:00,  7.98it/s, best loss: 0.0015453073698116467]\n",
            "100%|██████████| 1/1 [00:01<00:00,  1.82s/it, best loss: 0.0015453073698116467]\n",
            "100%|██████████| 1/1 [00:00<00:00,  1.29it/s, best loss: 0.0015453073698116467]\n",
            "100%|██████████| 1/1 [00:00<00:00, 17.47it/s, best loss: 0.0011289957438238454]\n",
            "100%|██████████| 1/1 [00:00<00:00,  1.52it/s, best loss: 0.0011289957438238454]\n",
            "100%|██████████| 1/1 [00:00<00:00, 17.09it/s, best loss: 0.0011289957438238454]\n",
            "100%|██████████| 1/1 [00:00<00:00,  7.07it/s, best loss: 0.0011289957438238454]\n",
            "100%|██████████| 1/1 [00:00<00:00, 20.39it/s, best loss: 0.0011289957438238454]\n",
            "100%|██████████| 1/1 [00:01<00:00,  1.28s/it, best loss: 0.0011289957438238454]\n",
            "  0%|          | 0/1 [00:00<?, ?it/s, best loss: ?]"
          ],
          "name": "stdout"
        },
        {
          "output_type": "stream",
          "text": [
            "/usr/local/lib/python3.7/dist-packages/sklearn/decomposition/_base.py:132: RuntimeWarning: invalid value encountered in true_divide\n",
            "  X_transformed /= np.sqrt(self.explained_variance_)\n",
            "\n"
          ],
          "name": "stderr"
        },
        {
          "output_type": "stream",
          "text": [
            "Failing trial due to NaN in\n",
            "PCA(copy=True, iterated_power='auto', n_components=6, random_state=None,\n",
            "    svd_solver='auto', tol=0.0, whiten=True)\n",
            "100%|██████████| 1/1 [00:00<00:00, 12.40it/s, best loss: 0.0011289957438238454]\n",
            "100%|██████████| 1/1 [00:00<00:00,  6.26it/s, best loss: 0.0011289957438238454]\n",
            "100%|██████████| 1/1 [00:00<00:00,  5.50it/s, best loss: 0.0011289957438238454]\n",
            "  0%|          | 0/1 [00:00<?, ?it/s, best loss: ?]"
          ],
          "name": "stdout"
        },
        {
          "output_type": "stream",
          "text": [
            "/usr/local/lib/python3.7/dist-packages/sklearn/decomposition/_base.py:132: RuntimeWarning: invalid value encountered in true_divide\n",
            "  X_transformed /= np.sqrt(self.explained_variance_)\n",
            "\n"
          ],
          "name": "stderr"
        },
        {
          "output_type": "stream",
          "text": [
            "Failing trial due to NaN in\n",
            "PCA(copy=True, iterated_power='auto', n_components=6, random_state=None,\n",
            "    svd_solver='auto', tol=0.0, whiten=True)\n",
            "100%|██████████| 1/1 [00:00<00:00, 11.60it/s, best loss: 0.0011289957438238454]\n",
            "100%|██████████| 1/1 [00:00<00:00, 10.76it/s, best loss: 0.0011289957438238454]\n",
            "100%|██████████| 1/1 [00:00<00:00,  1.67it/s, best loss: 0.0011289957438238454]\n",
            "100%|██████████| 1/1 [00:02<00:00,  2.19s/it, best loss: 0.0011289957438238454]\n",
            "100%|██████████| 1/1 [00:00<00:00,  1.94it/s, best loss: 0.0011289957438238454]\n",
            "100%|██████████| 1/1 [00:00<00:00,  9.18it/s, best loss: 0.0011289957438238454]\n",
            "100%|██████████| 1/1 [00:00<00:00, 12.14it/s, best loss: 0.0011289957438238454]\n",
            "100%|██████████| 1/1 [00:00<00:00,  4.49it/s, best loss: 0.0011289957438238454]\n",
            "100%|██████████| 1/1 [00:00<00:00,  1.95it/s, best loss: 0.0011289957438238454]\n",
            "100%|██████████| 1/1 [00:00<00:00,  8.98it/s, best loss: 0.0011289957438238454]\n",
            "100%|██████████| 1/1 [00:03<00:00,  3.56s/it, best loss: 0.0011289957438238454]\n",
            "100%|██████████| 1/1 [00:00<00:00,  2.64it/s, best loss: 0.0011289957438238454]\n",
            "  0%|          | 0/1 [00:00<?, ?it/s, best loss: ?]"
          ],
          "name": "stdout"
        },
        {
          "output_type": "stream",
          "text": [
            "/usr/local/lib/python3.7/dist-packages/sklearn/decomposition/_base.py:132: RuntimeWarning: invalid value encountered in true_divide\n",
            "  X_transformed /= np.sqrt(self.explained_variance_)\n",
            "\n"
          ],
          "name": "stderr"
        },
        {
          "output_type": "stream",
          "text": [
            "Failing trial due to NaN in\n",
            "PCA(copy=True, iterated_power='auto', n_components=6, random_state=None,\n",
            "    svd_solver='auto', tol=0.0, whiten=True)\n",
            "100%|██████████| 1/1 [00:00<00:00, 12.19it/s, best loss: 0.0011289957438238454]\n",
            "100%|██████████| 1/1 [00:00<00:00, 15.99it/s, best loss: 0.0011289957438238454]\n",
            "100%|██████████| 1/1 [00:00<00:00,  5.14it/s, best loss: 0.0011289957438238454]\n",
            "  0%|          | 0/1 [00:00<?, ?it/s, best loss: ?]"
          ],
          "name": "stdout"
        },
        {
          "output_type": "stream",
          "text": [
            "/usr/local/lib/python3.7/dist-packages/sklearn/decomposition/_base.py:132: RuntimeWarning: invalid value encountered in true_divide\n",
            "  X_transformed /= np.sqrt(self.explained_variance_)\n",
            "\n"
          ],
          "name": "stderr"
        },
        {
          "output_type": "stream",
          "text": [
            "Failing trial due to NaN in\n",
            "PCA(copy=True, iterated_power='auto', n_components=6, random_state=None,\n",
            "    svd_solver='auto', tol=0.0, whiten=True)\n",
            "100%|██████████| 1/1 [00:00<00:00, 10.60it/s, best loss: 0.0011289957438238454]\n",
            "100%|██████████| 1/1 [00:01<00:00,  1.52s/it, best loss: 0.0011289957438238454]\n",
            "100%|██████████| 1/1 [00:00<00:00, 17.31it/s, best loss: 0.0011289957438238454]\n",
            "100%|██████████| 1/1 [00:00<00:00,  7.08it/s, best loss: 0.0011289957438238454]\n",
            "100%|██████████| 1/1 [00:01<00:00,  1.35s/it, best loss: 0.0011289957438238454]\n",
            "100%|██████████| 1/1 [00:00<00:00,  1.30it/s, best loss: 0.0011289957438238454]\n",
            "100%|██████████| 1/1 [00:00<00:00,  1.09it/s, best loss: 0.0011289957438238454]\n",
            "100%|██████████| 1/1 [00:01<00:00,  1.56s/it, best loss: 0.0011289957438238454]\n",
            "100%|██████████| 1/1 [00:00<00:00,  2.09it/s, best loss: 0.0011289957438238454]\n",
            "100%|██████████| 1/1 [00:00<00:00,  1.07it/s, best loss: 0.0011289957438238454]\n",
            "100%|██████████| 1/1 [00:00<00:00,  3.61it/s, best loss: 0.0011289957438238454]\n",
            "100%|██████████| 1/1 [00:01<00:00,  1.16s/it, best loss: 0.0011289957438238454]\n",
            "100%|██████████| 1/1 [00:00<00:00,  1.96it/s, best loss: 0.0011289957438238454]\n",
            "100%|██████████| 1/1 [00:00<00:00, 16.82it/s, best loss: 0.0011289957438238454]\n",
            "100%|██████████| 1/1 [00:01<00:00,  1.41s/it, best loss: 0.0011289957438238454]\n",
            "100%|██████████| 1/1 [00:00<00:00,  4.10it/s, best loss: 0.0011289957438238454]\n",
            "100%|██████████| 1/1 [00:00<00:00, 19.11it/s, best loss: 0.0011289957438238454]\n",
            "100%|██████████| 1/1 [00:00<00:00,  6.32it/s, best loss: 0.0011289957438238454]\n",
            "100%|██████████| 1/1 [00:00<00:00,  4.72it/s, best loss: 0.0011289957438238454]\n",
            "100%|██████████| 1/1 [00:00<00:00, 10.17it/s, best loss: 0.0011289957438238454]\n",
            "100%|██████████| 1/1 [00:03<00:00,  3.16s/it, best loss: 0.0011289957438238454]\n",
            "100%|██████████| 1/1 [00:01<00:00,  1.17s/it, best loss: 0.0011289957438238454]\n",
            "100%|██████████| 1/1 [00:01<00:00,  1.48s/it, best loss: 0.0011289957438238454]\n",
            "100%|██████████| 1/1 [00:00<00:00, 10.72it/s, best loss: 0.0011289957438238454]\n",
            "100%|██████████| 1/1 [00:00<00:00, 17.36it/s, best loss: 0.0011289957438238454]\n",
            "100%|██████████| 1/1 [00:01<00:00,  1.28s/it, best loss: 0.0011289957438238454]\n",
            "100%|██████████| 1/1 [00:00<00:00, 15.84it/s, best loss: 0.0011289957438238454]\n",
            "  0%|          | 0/1 [00:00<?, ?it/s, best loss: ?]"
          ],
          "name": "stdout"
        },
        {
          "output_type": "stream",
          "text": [
            "/usr/local/lib/python3.7/dist-packages/sklearn/decomposition/_base.py:132: RuntimeWarning: invalid value encountered in true_divide\n",
            "  X_transformed /= np.sqrt(self.explained_variance_)\n",
            "\n"
          ],
          "name": "stderr"
        },
        {
          "output_type": "stream",
          "text": [
            "Failing trial due to NaN in\n",
            "PCA(copy=True, iterated_power='auto', n_components=6, random_state=None,\n",
            "    svd_solver='auto', tol=0.0, whiten=True)\n",
            "100%|██████████| 1/1 [00:00<00:00, 11.44it/s, best loss: 0.0011289957438238454]\n",
            "100%|██████████| 1/1 [00:00<00:00,  4.18it/s, best loss: 0.0011289957438238454]\n",
            "100%|██████████| 1/1 [00:00<00:00, 10.45it/s, best loss: 0.0011289957438238454]\n",
            "100%|██████████| 1/1 [00:03<00:00,  3.51s/it, best loss: 0.0011289957438238454]\n",
            "100%|██████████| 1/1 [00:00<00:00, 18.18it/s, best loss: 0.0011289957438238454]\n",
            "100%|██████████| 1/1 [00:00<00:00, 14.46it/s, best loss: 0.0011289957438238454]\n",
            "100%|██████████| 1/1 [00:00<00:00, 15.41it/s, best loss: 0.0011289957438238454]\n",
            "100%|██████████| 1/1 [00:00<00:00,  1.81it/s, best loss: 0.0011289957438238454]\n",
            "100%|██████████| 1/1 [00:00<00:00,  6.90it/s, best loss: 0.0011289957438238454]\n",
            "100%|██████████| 1/1 [00:00<00:00,  7.81it/s, best loss: 0.0011289957438238454]\n",
            "100%|██████████| 1/1 [00:00<00:00,  6.77it/s, best loss: 0.0011289957438238454]\n",
            "100%|██████████| 1/1 [00:00<00:00,  3.73it/s, best loss: 0.0011289957438238454]\n",
            "100%|██████████| 1/1 [00:00<00:00,  6.22it/s, best loss: 0.0011289957438238454]\n",
            "100%|██████████| 1/1 [00:00<00:00, 14.44it/s, best loss: 0.0011289957438238454]\n",
            "  0%|          | 0/1 [00:00<?, ?it/s, best loss: ?]"
          ],
          "name": "stdout"
        },
        {
          "output_type": "stream",
          "text": [
            "/usr/local/lib/python3.7/dist-packages/sklearn/decomposition/_base.py:132: RuntimeWarning: invalid value encountered in true_divide\n",
            "  X_transformed /= np.sqrt(self.explained_variance_)\n",
            "\n"
          ],
          "name": "stderr"
        },
        {
          "output_type": "stream",
          "text": [
            "Failing trial due to NaN in\n",
            "PCA(copy=True, iterated_power='auto', n_components=6, random_state=None,\n",
            "    svd_solver='auto', tol=0.0, whiten=True)\n",
            "100%|██████████| 1/1 [00:00<00:00, 10.85it/s, best loss: 0.0011289957438238454]\n",
            "  0%|          | 0/1 [00:00<?, ?it/s, best loss: ?]"
          ],
          "name": "stdout"
        },
        {
          "output_type": "stream",
          "text": [
            "/usr/local/lib/python3.7/dist-packages/sklearn/decomposition/_base.py:132: RuntimeWarning: invalid value encountered in true_divide\n",
            "  X_transformed /= np.sqrt(self.explained_variance_)\n",
            "\n"
          ],
          "name": "stderr"
        },
        {
          "output_type": "stream",
          "text": [
            "Failing trial due to NaN in\n",
            "PCA(copy=True, iterated_power='auto', n_components=6, random_state=None,\n",
            "    svd_solver='auto', tol=0.0, whiten=True)\n",
            "100%|██████████| 1/1 [00:00<00:00, 10.75it/s, best loss: 0.0011289957438238454]\n",
            "  0%|          | 0/1 [00:00<?, ?it/s, best loss: ?]"
          ],
          "name": "stdout"
        },
        {
          "output_type": "stream",
          "text": [
            "/usr/local/lib/python3.7/dist-packages/sklearn/decomposition/_base.py:132: RuntimeWarning: invalid value encountered in true_divide\n",
            "  X_transformed /= np.sqrt(self.explained_variance_)\n",
            "\n"
          ],
          "name": "stderr"
        },
        {
          "output_type": "stream",
          "text": [
            "Failing trial due to NaN in\n",
            "PCA(copy=True, iterated_power='auto', n_components=6, random_state=None,\n",
            "    svd_solver='auto', tol=0.0, whiten=True)\n",
            "100%|██████████| 1/1 [00:00<00:00, 10.82it/s, best loss: 0.0011289957438238454]\n",
            "100%|██████████| 1/1 [00:00<00:00, 12.51it/s, best loss: 0.0011289957438238454]\n",
            "100%|██████████| 1/1 [00:00<00:00,  2.65it/s, best loss: 0.0011289957438238454]\n",
            "100%|██████████| 1/1 [00:00<00:00,  4.86it/s, best loss: 0.0011289957438238454]\n",
            "100%|██████████| 1/1 [00:00<00:00, 18.42it/s, best loss: 0.0011289957438238454]\n",
            "100%|██████████| 1/1 [00:00<00:00, 13.37it/s, best loss: 0.0011289957438238454]\n",
            "100%|██████████| 1/1 [00:00<00:00,  9.35it/s, best loss: 0.0011289957438238454]\n",
            "100%|██████████| 1/1 [00:00<00:00,  7.09it/s, best loss: 0.0011289957438238454]\n",
            "100%|██████████| 1/1 [00:00<00:00, 16.49it/s, best loss: 0.0011289957438238454]\n",
            "  0%|          | 0/1 [00:00<?, ?it/s, best loss: ?]"
          ],
          "name": "stdout"
        },
        {
          "output_type": "stream",
          "text": [
            "/usr/local/lib/python3.7/dist-packages/sklearn/decomposition/_base.py:132: RuntimeWarning: invalid value encountered in true_divide\n",
            "  X_transformed /= np.sqrt(self.explained_variance_)\n",
            "\n"
          ],
          "name": "stderr"
        },
        {
          "output_type": "stream",
          "text": [
            "Failing trial due to NaN in\n",
            "PCA(copy=True, iterated_power='auto', n_components=6, random_state=None,\n",
            "    svd_solver='auto', tol=0.0, whiten=True)\n",
            "100%|██████████| 1/1 [00:00<00:00, 10.75it/s, best loss: 0.0011289957438238454]\n",
            "100%|██████████| 1/1 [00:00<00:00,  9.04it/s, best loss: 0.0011289957438238454]\n",
            "100%|██████████| 1/1 [00:00<00:00, 10.51it/s, best loss: 0.0011289957438238454]\n",
            "100%|██████████| 1/1 [00:00<00:00, 15.61it/s, best loss: 0.0011289957438238454]\n",
            "100%|██████████| 1/1 [00:01<00:00,  1.29s/it, best loss: 0.0011289957438238454]\n",
            "100%|██████████| 1/1 [00:00<00:00, 14.63it/s, best loss: 0.0011289957438238454]\n",
            "100%|██████████| 1/1 [00:00<00:00, 17.56it/s, best loss: 0.0011289957438238454]\n",
            "100%|██████████| 1/1 [00:00<00:00, 10.99it/s, best loss: 0.0011289957438238454]\n",
            "100%|██████████| 1/1 [00:00<00:00,  6.69it/s, best loss: 0.0011289957438238454]\n",
            "100%|██████████| 1/1 [00:00<00:00,  1.59it/s, best loss: 0.0011289957438238454]\n",
            "100%|██████████| 1/1 [00:01<00:00,  1.88s/it, best loss: 0.0011289957438238454]\n",
            "100%|██████████| 1/1 [00:00<00:00, 20.37it/s, best loss: 0.0011289957438238454]\n",
            "100%|██████████| 1/1 [00:00<00:00,  6.90it/s, best loss: 0.0011289957438238454]\n",
            "100%|██████████| 1/1 [00:00<00:00,  2.00it/s, best loss: 0.0011289957438238454]\n",
            "100%|██████████| 1/1 [00:02<00:00,  2.47s/it, best loss: 0.0011289957438238454]\n",
            "100%|██████████| 1/1 [00:02<00:00,  2.25s/it, best loss: 0.0011289957438238454]\n",
            "100%|██████████| 1/1 [00:00<00:00, 11.57it/s, best loss: 0.0011289957438238454]\n",
            "100%|██████████| 1/1 [00:00<00:00,  2.45it/s, best loss: 0.0011289957438238454]\n",
            "100%|██████████| 1/1 [00:00<00:00, 18.36it/s, best loss: 0.0011289957438238454]\n",
            "100%|██████████| 1/1 [00:00<00:00, 14.38it/s, best loss: 0.0011289957438238454]\n",
            "100%|██████████| 1/1 [00:00<00:00,  6.61it/s, best loss: 0.0011289957438238454]\n",
            "100%|██████████| 1/1 [00:01<00:00,  1.97s/it, best loss: 0.0011289957438238454]\n",
            "100%|██████████| 1/1 [00:00<00:00,  4.16it/s, best loss: 0.0011289957438238454]\n",
            "100%|██████████| 1/1 [00:00<00:00,  1.03it/s, best loss: 0.0011289957438238454]\n",
            "100%|██████████| 1/1 [00:00<00:00, 13.27it/s, best loss: 0.0011289957438238454]\n",
            "100%|██████████| 1/1 [00:00<00:00, 14.35it/s, best loss: 0.0011289957438238454]\n",
            "100%|██████████| 1/1 [00:00<00:00, 16.49it/s, best loss: 0.0011289957438238454]\n",
            "100%|██████████| 1/1 [00:00<00:00,  2.67it/s, best loss: 0.0011289957438238454]\n",
            "100%|██████████| 1/1 [00:00<00:00, 15.13it/s, best loss: 0.0011289957438238454]\n",
            "100%|██████████| 1/1 [00:00<00:00, 10.97it/s, best loss: 0.0011289957438238454]\n",
            "100%|██████████| 1/1 [00:00<00:00,  3.51it/s, best loss: 0.0011289957438238454]\n",
            "100%|██████████| 1/1 [00:00<00:00,  1.21it/s, best loss: 0.0011289957438238454]\n",
            "100%|██████████| 1/1 [00:01<00:00,  1.02s/it, best loss: 0.0011289957438238454]\n",
            "100%|██████████| 1/1 [00:00<00:00,  2.97it/s, best loss: 0.0011289957438238454]\n",
            "100%|██████████| 1/1 [00:00<00:00,  2.91it/s, best loss: 0.0011289957438238454]\n",
            "100%|██████████| 1/1 [00:02<00:00,  2.62s/it, best loss: 0.0011289957438238454]\n",
            "100%|██████████| 1/1 [00:01<00:00,  1.24s/it, best loss: 0.0011289957438238454]\n",
            "100%|██████████| 1/1 [00:00<00:00, 12.29it/s, best loss: 0.0011289957438238454]\n",
            "100%|██████████| 1/1 [00:00<00:00,  1.24it/s, best loss: 0.0011289957438238454]\n",
            "100%|██████████| 1/1 [00:00<00:00,  2.11it/s, best loss: 0.0011289957438238454]\n",
            "100%|██████████| 1/1 [00:01<00:00,  1.86s/it, best loss: 0.0011289957438238454]\n",
            "100%|██████████| 1/1 [00:00<00:00, 10.42it/s, best loss: 0.0011289957438238454]\n",
            "100%|██████████| 1/1 [00:00<00:00,  9.69it/s, best loss: 0.0011289957438238454]\n",
            "100%|██████████| 1/1 [00:00<00:00, 15.66it/s, best loss: 0.0011289957438238454]\n",
            "100%|██████████| 1/1 [00:00<00:00,  4.44it/s, best loss: 0.0011289957438238454]\n",
            "100%|██████████| 1/1 [00:01<00:00,  1.33s/it, best loss: 0.0011289957438238454]\n",
            "100%|██████████| 1/1 [00:00<00:00, 10.76it/s, best loss: 0.0011289957438238454]\n",
            "  0%|          | 0/1 [00:00<?, ?it/s, best loss: ?]"
          ],
          "name": "stdout"
        },
        {
          "output_type": "stream",
          "text": [
            "/usr/local/lib/python3.7/dist-packages/sklearn/decomposition/_base.py:132: RuntimeWarning: invalid value encountered in true_divide\n",
            "  X_transformed /= np.sqrt(self.explained_variance_)\n",
            "\n"
          ],
          "name": "stderr"
        },
        {
          "output_type": "stream",
          "text": [
            "Failing trial due to NaN in\n",
            "PCA(copy=True, iterated_power='auto', n_components=6, random_state=None,\n",
            "    svd_solver='auto', tol=0.0, whiten=True)\n",
            "100%|██████████| 1/1 [00:00<00:00, 10.97it/s, best loss: 0.0011289957438238454]\n",
            "100%|██████████| 1/1 [00:01<00:00,  1.03s/it, best loss: 0.0011289957438238454]\n",
            "100%|██████████| 1/1 [00:01<00:00,  1.27s/it, best loss: 0.0011289957438238454]\n",
            "100%|██████████| 1/1 [00:00<00:00,  9.05it/s, best loss: 0.0011289957438238454]\n",
            "100%|██████████| 1/1 [00:00<00:00,  7.87it/s, best loss: 0.0011289957438238454]\n",
            "100%|██████████| 1/1 [00:00<00:00, 14.65it/s, best loss: 0.0011289957438238454]\n",
            "100%|██████████| 1/1 [00:00<00:00,  6.09it/s, best loss: 0.0011289957438238454]\n",
            "100%|██████████| 1/1 [00:00<00:00, 13.55it/s, best loss: 0.0011289957438238454]\n",
            "100%|██████████| 1/1 [00:00<00:00,  6.64it/s, best loss: 0.0011289957438238454]\n",
            "0.003840549986690327\n",
            "0.06197217106645794\n"
          ],
          "name": "stdout"
        }
      ]
    },
    {
      "cell_type": "code",
      "metadata": {
        "colab": {
          "base_uri": "https://localhost:8080/"
        },
        "id": "uv7D-gLI2dc2",
        "outputId": "8012167d-d1dd-48e4-90a0-811ec43e367d"
      },
      "source": [
        "  y_train_pred = estim.predict(x_train_split)\n",
        "  y_test_pred = estim.predict(x_test_split)\n",
        "\n",
        "  print('MSE train: {:.3f}, test: {:.3f}'.format(\n",
        "          mean_squared_error(y_train_split, y_train_pred),\n",
        "          mean_squared_error(y_test_split, y_test_pred)))\n",
        "  print('R^2 train: {:.3f}, test: {:.3f}'.format(\n",
        "          r2_score(y_train_split, y_train_pred),\n",
        "          r2_score(y_test_split, y_test_pred)))\n",
        "  print('RMSE train: {:.3f}, test: {:.3f}'.format(\n",
        "          math.sqrt(mean_squared_error(y_train_split, y_train_pred)),\n",
        "          math.sqrt(mean_squared_error(y_test_split, y_test_pred))))"
      ],
      "execution_count": null,
      "outputs": [
        {
          "output_type": "stream",
          "text": [
            "MSE train: 0.001, test: 0.004\n",
            "R^2 train: 0.891, test: 0.168\n",
            "RMSE train: 0.024, test: 0.062\n"
          ],
          "name": "stdout"
        }
      ]
    },
    {
      "cell_type": "code",
      "metadata": {
        "id": "px2EhlWj0i5V"
      },
      "source": [
        "# from hpsklearn import HyperoptEstimator, svc, knn, random_forest\n",
        "# from hyperopt import hp\n",
        "\n",
        "# clf = hp.choice('my_name',[random_forest('my_name.random_forest'),svc('my_name.svc'),knn('my_name.knn')])\n",
        "# estim = HyperoptEstimator(classifier=clf)\n",
        "\n",
        "# estim.fit(x_train_split.astype('float32'), y_train_split.astype('float32'))"
      ],
      "execution_count": null,
      "outputs": []
    },
    {
      "cell_type": "code",
      "metadata": {
        "colab": {
          "base_uri": "https://localhost:8080/"
        },
        "id": "ya39yBkk3u_j",
        "outputId": "10b868e4-8669-4c9a-acf2-814a2fb4627d"
      },
      "source": [
        "y_train_split"
      ],
      "execution_count": null,
      "outputs": [
        {
          "output_type": "execute_result",
          "data": {
            "text/plain": [
              "array([0.3054, 0.2766, 0.3769, 0.2963, 0.2865, 0.2543, 0.2674, 0.3248,\n",
              "       0.3869, 0.429 , 0.2719, 0.1974, 0.3333, 0.2454, 0.2775, 0.4268,\n",
              "       0.2287, 0.3801, 0.4   , 0.3894, 0.2762, 0.2628, 0.2778, 0.2778,\n",
              "       0.3791, 0.3533, 0.3661, 0.2519, 0.3452, 0.3402, 0.2795, 0.3636,\n",
              "       0.2909, 0.2584, 0.2092, 0.3431, 0.5625, 0.4289, 0.2682, 0.3388,\n",
              "       0.3775, 0.2137, 0.2517, 0.3201, 0.355 , 0.3973, 0.4562, 0.4099,\n",
              "       0.2766, 0.2918, 0.3579, 0.2895, 0.4239, 0.3299, 0.2189, 0.3074,\n",
              "       0.3125, 0.4436, 0.2562, 0.2419, 0.3774, 0.2171, 0.177 , 0.4488,\n",
              "       0.2386, 0.3901, 0.3835, 0.3375, 0.3941, 0.2371, 0.2251, 0.4419,\n",
              "       0.2851, 0.2463, 0.3624, 0.2979, 0.3205, 0.4381, 0.2637, 0.4356,\n",
              "       0.2347, 0.3391, 0.3421, 0.3081, 0.5   , 0.3667, 0.2659, 0.3162,\n",
              "       0.2653, 0.3568, 0.3486, 0.2696])"
            ]
          },
          "metadata": {
            "tags": []
          },
          "execution_count": 161
        }
      ]
    },
    {
      "cell_type": "code",
      "metadata": {
        "colab": {
          "base_uri": "https://localhost:8080/"
        },
        "id": "xjnsVv2e3CO9",
        "outputId": "d8c7b950-3cc7-4ae3-ea42-4e7ae684dbfd"
      },
      "source": [
        "from pandas import read_csv\n",
        "from sklearn.model_selection import train_test_split\n",
        "from sklearn.preprocessing import LabelEncoder\n",
        "from hpsklearn import HyperoptEstimator\n",
        "from hpsklearn import any_classifier\n",
        "from hpsklearn import any_preprocessing\n",
        "from hyperopt import tpe\n",
        "\n",
        "model = HyperoptEstimator(regressor=any_regressor('reg'), preprocessing=any_preprocessing('pre'), algo=tpe.suggest, max_evals=50, trial_timeout=30)\n",
        "# perform the search\n",
        "model.fit(x_train_split.values, y_train_split.values)\n",
        "# summarize performance\n",
        "acc = model.score(x_test_split, y_test_split)\n",
        "print(\"Accuracy: %.3f\" % acc)\n",
        "# summarize the best model\n",
        "print(model.best_model())"
      ],
      "execution_count": null,
      "outputs": [
        {
          "output_type": "stream",
          "text": [
            "100%|██████████| 1/1 [00:00<00:00,  2.76it/s, best loss: 1.0055132873395893]\n",
            "[12:19:01] WARNING: /workspace/src/objective/regression_obj.cu:152: reg:linear is now deprecated in favor of reg:squarederror.\n",
            "100%|██████████| 1/1 [00:00<00:00,  4.44it/s, best loss: 1.0055132873395893]\n",
            "100%|██████████| 1/1 [00:00<00:00,  7.94it/s, best loss: 0.655334480764773]\n",
            "100%|██████████| 1/1 [00:00<00:00,  5.46it/s, best loss: 0.655334480764773]\n",
            "100%|██████████| 1/1 [00:00<00:00,  9.10it/s, best loss: 0.655334480764773]\n",
            "100%|██████████| 1/1 [00:00<00:00,  5.12it/s, best loss: 0.655334480764773]\n",
            "100%|██████████| 1/1 [00:00<00:00, 10.17it/s, best loss: 0.655334480764773]\n",
            "100%|██████████| 1/1 [00:00<00:00,  4.99it/s, best loss: 0.655334480764773]\n",
            "100%|██████████| 1/1 [00:01<00:00,  1.03s/it, best loss: 0.655334480764773]\n",
            "100%|██████████| 1/1 [00:00<00:00,  9.19it/s, best loss: 0.655334480764773]\n",
            "[12:19:05] WARNING: /workspace/src/objective/regression_obj.cu:152: reg:linear is now deprecated in favor of reg:squarederror.\n",
            "100%|██████████| 1/1 [00:00<00:00,  1.86it/s, best loss: 0.655334480764773]\n",
            "100%|██████████| 1/1 [00:00<00:00,  2.43it/s, best loss: 0.655334480764773]\n",
            "100%|██████████| 1/1 [00:00<00:00,  3.42it/s, best loss: 0.48825253367837307]\n",
            "[12:19:06] WARNING: /workspace/src/objective/regression_obj.cu:152: reg:linear is now deprecated in favor of reg:squarederror.\n",
            "100%|██████████| 1/1 [00:00<00:00,  3.71it/s, best loss: 0.48825253367837307]\n",
            "100%|██████████| 1/1 [00:01<00:00,  1.07s/it, best loss: 0.48825253367837307]\n",
            "100%|██████████| 1/1 [00:00<00:00, 10.03it/s, best loss: 0.48825253367837307]\n",
            "100%|██████████| 1/1 [00:00<00:00,  9.73it/s, best loss: 0.48825253367837307]\n",
            "100%|██████████| 1/1 [00:02<00:00,  2.42s/it, best loss: 0.48825253367837307]\n",
            "[12:19:11] WARNING: /workspace/src/objective/regression_obj.cu:152: reg:linear is now deprecated in favor of reg:squarederror.\n",
            "100%|██████████| 1/1 [00:00<00:00,  2.39it/s, best loss: 0.48825253367837307]\n",
            "100%|██████████| 1/1 [00:00<00:00,  1.82it/s, best loss: 0.48825253367837307]\n",
            "100%|██████████| 1/1 [00:00<00:00,  3.33it/s, best loss: 0.48825253367837307]\n",
            "100%|██████████| 1/1 [00:00<00:00,  5.41it/s, best loss: 0.48825253367837307]\n",
            "100%|██████████| 1/1 [00:00<00:00,  5.53it/s, best loss: 0.48825253367837307]\n",
            "100%|██████████| 1/1 [00:00<00:00,  4.92it/s, best loss: 0.48825253367837307]\n",
            "100%|██████████| 1/1 [00:00<00:00,  3.34it/s, best loss: 0.48825253367837307]\n",
            "100%|██████████| 1/1 [00:00<00:00,  5.27it/s, best loss: 0.48825253367837307]\n",
            "100%|██████████| 1/1 [00:00<00:00,  5.05it/s, best loss: 0.48825253367837307]\n",
            "100%|██████████| 1/1 [00:00<00:00,  3.50it/s, best loss: 0.48825253367837307]\n",
            "100%|██████████| 1/1 [00:00<00:00,  4.81it/s, best loss: 0.48825253367837307]\n",
            "100%|██████████| 1/1 [00:00<00:00,  4.17it/s, best loss: 0.48825253367837307]\n",
            "100%|██████████| 1/1 [00:00<00:00,  4.78it/s, best loss: 0.48825253367837307]\n",
            "100%|██████████| 1/1 [00:00<00:00,  3.29it/s, best loss: 0.48825253367837307]\n",
            "100%|██████████| 1/1 [00:03<00:00,  3.87s/it, best loss: 0.48825253367837307]\n",
            "100%|██████████| 1/1 [00:00<00:00,  5.57it/s, best loss: 0.48825253367837307]\n",
            "100%|██████████| 1/1 [00:00<00:00,  3.16it/s, best loss: 0.48825253367837307]\n",
            "100%|██████████| 1/1 [00:00<00:00,  2.42it/s, best loss: 0.48825253367837307]\n",
            "100%|██████████| 1/1 [00:00<00:00,  1.87it/s, best loss: 0.48825253367837307]\n",
            "100%|██████████| 1/1 [00:00<00:00,  4.16it/s, best loss: 0.48825253367837307]\n",
            "100%|██████████| 1/1 [00:00<00:00,  3.29it/s, best loss: 0.48825253367837307]\n",
            "100%|██████████| 1/1 [00:00<00:00,  1.18it/s, best loss: 0.48825253367837307]\n",
            "100%|██████████| 1/1 [00:00<00:00,  5.01it/s, best loss: 0.48825253367837307]\n",
            "100%|██████████| 1/1 [00:00<00:00,  3.39it/s, best loss: 0.48825253367837307]\n",
            "100%|██████████| 1/1 [00:00<00:00,  3.10it/s, best loss: 0.44193632620972023]\n",
            "100%|██████████| 1/1 [00:00<00:00,  3.47it/s, best loss: 0.44193632620972023]\n",
            "100%|██████████| 1/1 [00:01<00:00,  1.10s/it, best loss: 0.44193632620972023]\n",
            "100%|██████████| 1/1 [00:01<00:00,  1.41s/it, best loss: 0.44193632620972023]\n",
            "100%|██████████| 1/1 [00:00<00:00,  5.22it/s, best loss: 0.44193632620972023]\n",
            "[12:19:31] WARNING: /workspace/src/objective/regression_obj.cu:152: reg:linear is now deprecated in favor of reg:squarederror.\n",
            "100%|██████████| 1/1 [00:00<00:00,  4.05it/s, best loss: 0.44193632620972023]\n",
            "100%|██████████| 1/1 [00:00<00:00,  2.99it/s, best loss: 0.44193632620972023]\n",
            "100%|██████████| 1/1 [00:00<00:00,  3.22it/s, best loss: 0.44193632620972023]\n",
            "Accuracy: 0.132\n",
            "{'learner': RandomForestRegressor(bootstrap=True, ccp_alpha=0.0, criterion='mse',\n",
            "                      max_depth=4, max_features=None, max_leaf_nodes=None,\n",
            "                      max_samples=None, min_impurity_decrease=0.0,\n",
            "                      min_impurity_split=None, min_samples_leaf=2,\n",
            "                      min_samples_split=2, min_weight_fraction_leaf=0.0,\n",
            "                      n_estimators=14, n_jobs=1, oob_score=False,\n",
            "                      random_state=4, verbose=False, warm_start=False), 'preprocs': (PCA(copy=True, iterated_power='auto', n_components=2, random_state=None,\n",
            "    svd_solver='auto', tol=0.0, whiten=False),), 'ex_preprocs': ()}\n"
          ],
          "name": "stdout"
        }
      ]
    },
    {
      "cell_type": "markdown",
      "metadata": {
        "id": "uodYSS9gTCSe"
      },
      "source": [
        "# Вывод в файл"
      ]
    },
    {
      "cell_type": "markdown",
      "metadata": {
        "id": "WQ6pBwh1uDO0"
      },
      "source": [
        "1. Прямой АДбуст"
      ]
    },
    {
      "cell_type": "code",
      "metadata": {
        "id": "Q3_GkZQct4Hv"
      },
      "source": [
        "df_work = pd.read_csv(\"Empty_part.csv\")\r\n",
        "df_train = pd.read_csv(\"Training_wells.csv\")\r\n",
        "\r\n",
        "x_for_predict = df_work[['X','Y']]\r\n",
        "\r\n",
        "y_trainig = df_train[\"NTG\"] \r\n",
        "x_training = df_train[['X','Y']]\r\n",
        "x_for_predict\r\n",
        "regr = AdaBoostRegressor(base_estimator=None, learning_rate=1.6273721018635237,\r\n",
        "                  loss='linear', n_estimators=35, random_state=2100)\r\n",
        "regr.fit(x_training, y_trainig)\r\n",
        "\r\n",
        "y_answ = regr.predict(x_for_predict)\r\n",
        "len(y_answ)\r\n",
        "\r\n",
        "df_work[\"NTG\"] = y_answ.round(4)\r\n",
        "df_work\r\n",
        "df_work.to_csv('2.AdaBopst_3.csv', index = False)"
      ],
      "execution_count": null,
      "outputs": []
    },
    {
      "cell_type": "markdown",
      "metadata": {
        "id": "cePFa6GR7gEf"
      },
      "source": [
        "Случайный лес"
      ]
    },
    {
      "cell_type": "code",
      "metadata": {
        "id": "zB0F5rJW7hBH"
      },
      "source": [
        "df_work = pd.read_csv(\"Empty_part.csv\")\r\n",
        "df_train = pd.read_csv(\"Training_wells.csv\")\r\n",
        "\r\n",
        "x_for_predict = df_work[['X','Y']]\r\n",
        "\r\n",
        "y_trainig = df_train[\"NTG\"] \r\n",
        "x_training = df_train[['X','Y']]\r\n",
        "x_for_predict\r\n",
        "\r\n",
        "\r\n",
        "poly_reg = PolynomialFeatures(degree=8)\r\n",
        "x_training  = poly_reg.fit_transform(x_training)\r\n",
        "x_for_predict = poly_reg.fit_transform(x_for_predict)\r\n",
        "\r\n",
        "\r\n",
        "scaler = MinMaxScaler(feature_range=(0, 1))\r\n",
        "x_training = scaler.fit_transform(x_training)\r\n",
        "x_for_predict = scaler.transform(x_for_predict)\r\n",
        "\r\n",
        "model = RandomForestRegressor(bootstrap=True, ccp_alpha=0.0, criterion='mae',\r\n",
        "                      max_depth=20, max_features='sqrt', max_leaf_nodes=None,\r\n",
        "                      max_samples=None, min_impurity_decrease=0.0,\r\n",
        "                      min_impurity_split=None, min_samples_leaf=2,\r\n",
        "                      min_samples_split=2, min_weight_fraction_leaf=0.0,\r\n",
        "                      n_estimators=250, n_jobs=None, oob_score=False,\r\n",
        "                      random_state=30, verbose=0, warm_start=False)\r\n",
        "\r\n",
        "model.fit(x_training,y_trainig)\r\n",
        "\r\n",
        "\r\n",
        "y_answ = model.predict(x_for_predict)\r\n",
        "len(y_answ)\r\n",
        "\r\n",
        "df_work[\"NTG\"] = y_answ.round(4)\r\n",
        "df_work\r\n",
        "df_work.to_csv('4.Fores_scale_poly.csv', index = False)\r\n"
      ],
      "execution_count": null,
      "outputs": []
    },
    {
      "cell_type": "markdown",
      "metadata": {
        "id": "H3Vf6Que-9-H"
      },
      "source": [
        "*Голосование* 3х улгоритмов"
      ]
    },
    {
      "cell_type": "code",
      "metadata": {
        "id": "4UWWj1uI_BFu",
        "colab": {
          "base_uri": "https://localhost:8080/",
          "height": 238
        },
        "outputId": "b9267e59-a7b9-4671-e3bd-5158f3ea5950"
      },
      "source": [
        "from sklearn.ensemble import AdaBoostRegressor\r\n",
        "from sklearn.datasets import make_regression\r\n",
        "from hpsklearn import ada_boost_regression, extra_trees_regression, svr_poly, \\\r\n",
        "svr, svr_linear, svr_rbf, svr_poly, svr_sigmoid, knn_regression, sgd_regression, gradient_boosting_regression, \\\r\n",
        "random_forest_regression, extra_trees_regression, sgd_regression, xgboost_regression\r\n",
        "from sklearn.metrics import max_error, mean_squared_log_error\r\n",
        "from sklearn.svm import SVR\r\n",
        "from sklearn.svm import LinearSVR\r\n",
        "\r\n",
        "# разделим выборку на тест и обучение \r\n",
        "\r\n",
        "df_work = pd.read_csv(\"Empty_part.csv\")\r\n",
        "df_train = pd.read_csv(\"Training_wells.csv\")\r\n",
        "\r\n",
        "x_for_predict = df_work[['X','Y']]\r\n",
        "\r\n",
        "y_trainig = df_train[\"NTG\"] \r\n",
        "x_training = df_train[['X','Y']]\r\n",
        "x_for_predict\r\n",
        "\r\n",
        "\r\n",
        "poly_reg = PolynomialFeatures(degree=5)\r\n",
        "x_training  = poly_reg.fit_transform(x_training)\r\n",
        "x_for_predict = poly_reg.fit_transform(x_for_predict)\r\n",
        "\r\n",
        "scaler = MinMaxScaler(feature_range=(0, 1))\r\n",
        "x_training = scaler.fit_transform(x_training)\r\n",
        "x_for_predict = scaler.transform(x_for_predict)\r\n",
        "\r\n",
        "\r\n",
        "regr = AdaBoostRegressor(base_estimator=None, learning_rate=1.6273721018635237,\r\n",
        "                  loss='linear', n_estimators=35, random_state=2100)\r\n",
        "\r\n",
        "regr.fit(x_training, y_trainig)\r\n",
        "y_for_predict = regr.predict(x_for_predict)\r\n",
        "\r\n",
        "################################3\r\n",
        "# model = estim = HyperoptEstimator(regressor=svr_linear('my_gb'),\r\n",
        "#                         max_evals=10, trial_timeout=10, seed=39,\r\n",
        "#                         loss_fn=mean_squared_error)\r\n",
        "\r\n",
        "model = SVR(C=0.00011055634849084026, cache_size=512, coef0=0.0, degree=1,\r\n",
        "    epsilon=0.001115347080173807, gamma='auto', kernel='linear',\r\n",
        "    max_iter=170274026.0, shrinking=False, tol=0.0002988612959169446,\r\n",
        "    verbose=False)\r\n",
        "\r\n",
        "\r\n",
        "model.fit(x_training, y_trainig)\r\n",
        "y_for_predict_2 = model.predict(x_for_predict)\r\n",
        "\r\n",
        "###################################\r\n",
        "# estim = HyperoptEstimator(regressor=ada_boost_regression('my_gb'),\r\n",
        "#                         max_evals=10, trial_timeout=10, seed=39,\r\n",
        "#                         loss_fn=mean_squared_error)\r\n",
        "estim = AdaBoostRegressor(base_estimator=None, learning_rate=0.19877223857045706,\r\n",
        "                  loss='square', n_estimators=285, random_state=3)\r\n",
        "\r\n",
        "estim.fit(x_training, y_trainig)\r\n",
        "y_for_predict_3 = estim.predict(x_for_predict)\r\n",
        "\r\n",
        "A = 0.5\r\n",
        "B = 0.25\r\n",
        "C = 1 - A - B\r\n",
        "y_answ = A*y_for_predict + + B*y_for_predict_2 + C*y_for_predict_3\r\n",
        "\r\n",
        "len(y_answ)\r\n",
        "\r\n",
        "df_work[\"NTG\"] = y_answ.round(4)\r\n",
        "df_work\r\n",
        "df_work.to_csv('5.3_algo_NOT_FAKE_LinearSVR.csv', index = False)"
      ],
      "execution_count": 59,
      "outputs": [
        {
          "output_type": "error",
          "ename": "TypeError",
          "evalue": "ignored",
          "traceback": [
            "\u001b[0;31m---------------------------------------------------------------------------\u001b[0m",
            "\u001b[0;31mTypeError\u001b[0m                                 Traceback (most recent call last)",
            "\u001b[0;32m<ipython-input-59-f8905fa75614>\u001b[0m in \u001b[0;36m<module>\u001b[0;34m()\u001b[0m\n\u001b[1;32m     41\u001b[0m     \u001b[0mepsilon\u001b[0m\u001b[0;34m=\u001b[0m\u001b[0;36m0.001115347080173807\u001b[0m\u001b[0;34m,\u001b[0m \u001b[0mgamma\u001b[0m\u001b[0;34m=\u001b[0m\u001b[0;34m'auto'\u001b[0m\u001b[0;34m,\u001b[0m \u001b[0mkernel\u001b[0m\u001b[0;34m=\u001b[0m\u001b[0;34m'linear'\u001b[0m\u001b[0;34m,\u001b[0m\u001b[0;34m\u001b[0m\u001b[0;34m\u001b[0m\u001b[0m\n\u001b[1;32m     42\u001b[0m     \u001b[0mmax_iter\u001b[0m\u001b[0;34m=\u001b[0m\u001b[0;36m170274026.0\u001b[0m\u001b[0;34m,\u001b[0m \u001b[0mshrinking\u001b[0m\u001b[0;34m=\u001b[0m\u001b[0;32mFalse\u001b[0m\u001b[0;34m,\u001b[0m \u001b[0mtol\u001b[0m\u001b[0;34m=\u001b[0m\u001b[0;36m0.0002988612959169446\u001b[0m\u001b[0;34m,\u001b[0m\u001b[0;34m\u001b[0m\u001b[0;34m\u001b[0m\u001b[0m\n\u001b[0;32m---> 43\u001b[0;31m     verbose=False)\n\u001b[0m\u001b[1;32m     44\u001b[0m \u001b[0;34m\u001b[0m\u001b[0m\n\u001b[1;32m     45\u001b[0m \u001b[0;34m\u001b[0m\u001b[0m\n",
            "\u001b[0;31mTypeError\u001b[0m: __init__() got an unexpected keyword argument 'cache_size'"
          ]
        }
      ]
    },
    {
      "cell_type": "code",
      "metadata": {
        "id": "2rU-kmi4NHPI"
      },
      "source": [
        ""
      ],
      "execution_count": null,
      "outputs": []
    },
    {
      "cell_type": "markdown",
      "metadata": {
        "id": "yyEpP0rbbJFY"
      },
      "source": [
        "Чистая полиномиальная регрессия"
      ]
    },
    {
      "cell_type": "code",
      "metadata": {
        "id": "m_2O03pdaiFK"
      },
      "source": [
        "df_work = pd.read_csv(\"Empty_part.csv\")\r\n",
        "df_train = pd.read_csv(\"Training_wells.csv\")\r\n",
        "\r\n",
        "x_for_predict = df_work[['X','Y']]\r\n",
        "\r\n",
        "y_trainig = df_train[\"NTG\"] \r\n",
        "x_training = df_train[['X','Y']]\r\n",
        "x_for_predict\r\n",
        "\r\n",
        "\r\n",
        "poly_reg = PolynomialFeatures(degree=5)\r\n",
        "x_training  = poly_reg.fit_transform(x_training)\r\n",
        "x_for_predict = poly_reg.fit_transform(x_for_predict)\r\n",
        "\r\n",
        "scaler = MinMaxScaler(feature_range=(0, 1))\r\n",
        "x_training = scaler.fit_transform(x_training)\r\n",
        "x_for_predict = scaler.transform(x_for_predict)\r\n",
        "\r\n",
        "model_answ = LinearRegression()\r\n",
        "model_answ.fit(x_training, y_trainig)\r\n",
        "\r\n",
        "estim.fit(x_training, y_trainig)\r\n",
        "y_answ = model_answ.predict(x_for_predict)\r\n",
        "len(y_answ)\r\n",
        "\r\n",
        "df_work[\"NTG\"] = y_answ.round(4)\r\n",
        "df_work\r\n",
        "df_work.to_csv('6. Polinom.csv', index = False)"
      ],
      "execution_count": 106,
      "outputs": []
    },
    {
      "cell_type": "markdown",
      "metadata": {
        "id": "Mk0E_O3FvdFh"
      },
      "source": [
        "# Попробуем класификацией"
      ]
    },
    {
      "cell_type": "markdown",
      "metadata": {
        "id": "gPfemJThWWB_"
      },
      "source": [
        "### Передалаем ответа на 5 классов"
      ]
    },
    {
      "cell_type": "code",
      "metadata": {
        "id": "MrsNKBA2vdFi",
        "outputId": "43bc39d6-6bb6-4776-c447-3d1676a7048d"
      },
      "source": [
        "# давай разедилм данные на класс и попробуем класификатор\n",
        "# разбиил на 5 классов \n",
        "df_12 = df_train.copy()\n",
        "\n",
        "df_12.loc[(df_12['NTG'] >= 0.1) & (df_12['NTG'] < 0.2), 'NTG'] = 1 # 0.2\n",
        "df_12.loc[(df_12['NTG'] >= 0.2) & (df_12['NTG'] < 0.3), 'NTG'] = 2 # 0.3\n",
        "df_12.loc[(df_12['NTG'] >= 0.3) & (df_12['NTG'] < 0.4), 'NTG'] = 3 # 0.4\n",
        "df_12.loc[(df_12['NTG'] >= 0.4) & (df_12['NTG'] < 0.5), 'NTG'] = 4 # 0.5\n",
        "df_12.loc[(df_12['NTG'] >= 0.5) & (df_12['NTG'] < 0.6), 'NTG'] = 5 # 0.6\n",
        "\n",
        "df_12\n"
      ],
      "execution_count": null,
      "outputs": [
        {
          "output_type": "execute_result",
          "data": {
            "text/html": [
              "<div>\n",
              "<style scoped>\n",
              "    .dataframe tbody tr th:only-of-type {\n",
              "        vertical-align: middle;\n",
              "    }\n",
              "\n",
              "    .dataframe tbody tr th {\n",
              "        vertical-align: top;\n",
              "    }\n",
              "\n",
              "    .dataframe thead th {\n",
              "        text-align: right;\n",
              "    }\n",
              "</style>\n",
              "<table border=\"1\" class=\"dataframe\">\n",
              "  <thead>\n",
              "    <tr style=\"text-align: right;\">\n",
              "      <th></th>\n",
              "      <th>Well</th>\n",
              "      <th>X</th>\n",
              "      <th>Y</th>\n",
              "      <th>NTG</th>\n",
              "      <th>index</th>\n",
              "    </tr>\n",
              "  </thead>\n",
              "  <tbody>\n",
              "    <tr>\n",
              "      <th>0</th>\n",
              "      <td>201-907</td>\n",
              "      <td>201</td>\n",
              "      <td>907</td>\n",
              "      <td>2.0</td>\n",
              "      <td>0</td>\n",
              "    </tr>\n",
              "    <tr>\n",
              "      <th>1</th>\n",
              "      <td>201-914</td>\n",
              "      <td>201</td>\n",
              "      <td>914</td>\n",
              "      <td>3.0</td>\n",
              "      <td>1</td>\n",
              "    </tr>\n",
              "    <tr>\n",
              "      <th>2</th>\n",
              "      <td>201-924</td>\n",
              "      <td>201</td>\n",
              "      <td>924</td>\n",
              "      <td>4.0</td>\n",
              "      <td>2</td>\n",
              "    </tr>\n",
              "    <tr>\n",
              "      <th>3</th>\n",
              "      <td>202-922</td>\n",
              "      <td>202</td>\n",
              "      <td>922</td>\n",
              "      <td>4.0</td>\n",
              "      <td>3</td>\n",
              "    </tr>\n",
              "    <tr>\n",
              "      <th>4</th>\n",
              "      <td>202-925</td>\n",
              "      <td>202</td>\n",
              "      <td>925</td>\n",
              "      <td>4.0</td>\n",
              "      <td>4</td>\n",
              "    </tr>\n",
              "    <tr>\n",
              "      <th>...</th>\n",
              "      <td>...</td>\n",
              "      <td>...</td>\n",
              "      <td>...</td>\n",
              "      <td>...</td>\n",
              "      <td>...</td>\n",
              "    </tr>\n",
              "    <tr>\n",
              "      <th>133</th>\n",
              "      <td>245-908</td>\n",
              "      <td>245</td>\n",
              "      <td>908</td>\n",
              "      <td>2.0</td>\n",
              "      <td>133</td>\n",
              "    </tr>\n",
              "    <tr>\n",
              "      <th>134</th>\n",
              "      <td>245-911</td>\n",
              "      <td>245</td>\n",
              "      <td>911</td>\n",
              "      <td>3.0</td>\n",
              "      <td>134</td>\n",
              "    </tr>\n",
              "    <tr>\n",
              "      <th>135</th>\n",
              "      <td>245-923</td>\n",
              "      <td>245</td>\n",
              "      <td>923</td>\n",
              "      <td>4.0</td>\n",
              "      <td>135</td>\n",
              "    </tr>\n",
              "    <tr>\n",
              "      <th>136</th>\n",
              "      <td>246-905</td>\n",
              "      <td>246</td>\n",
              "      <td>905</td>\n",
              "      <td>4.0</td>\n",
              "      <td>136</td>\n",
              "    </tr>\n",
              "    <tr>\n",
              "      <th>137</th>\n",
              "      <td>246-923</td>\n",
              "      <td>246</td>\n",
              "      <td>923</td>\n",
              "      <td>3.0</td>\n",
              "      <td>137</td>\n",
              "    </tr>\n",
              "  </tbody>\n",
              "</table>\n",
              "<p>138 rows × 5 columns</p>\n",
              "</div>"
            ],
            "text/plain": [
              "        Well    X    Y  NTG  index\n",
              "0    201-907  201  907  2.0      0\n",
              "1    201-914  201  914  3.0      1\n",
              "2    201-924  201  924  4.0      2\n",
              "3    202-922  202  922  4.0      3\n",
              "4    202-925  202  925  4.0      4\n",
              "..       ...  ...  ...  ...    ...\n",
              "133  245-908  245  908  2.0    133\n",
              "134  245-911  245  911  3.0    134\n",
              "135  245-923  245  923  4.0    135\n",
              "136  246-905  246  905  4.0    136\n",
              "137  246-923  246  923  3.0    137\n",
              "\n",
              "[138 rows x 5 columns]"
            ]
          },
          "metadata": {
            "tags": []
          },
          "execution_count": 229
        }
      ]
    },
    {
      "cell_type": "markdown",
      "metadata": {
        "id": "w2hdC18-Wh7Z"
      },
      "source": [
        "### Передалаем ответа на 12 классов"
      ]
    },
    {
      "cell_type": "code",
      "metadata": {
        "colab": {
          "base_uri": "https://localhost:8080/",
          "height": 138
        },
        "id": "KNM-1p3RvdFi",
        "outputId": "23af556a-90ed-40a1-8d66-ba6f9b547953"
      },
      "source": [
        "# оразбили на 12 классов \n",
        "df_12 = df_train.copy()\n",
        "\n",
        "# прямой переход\n",
        "df_12.loc[(df_12['NTG'] >= 0.1) & (df_12['NTG'] < 0.15), 'NTG'] = 1 # 0.15\n",
        "df_12.loc[(df_12['NTG'] >= 0.15) & (df_12['NTG'] < 0.2), 'NTG'] = 2 # 0.2\n",
        "df_12.loc[(df_12['NTG'] >= 0.2) & (df_12['NTG'] < 0.25), 'NTG'] = 3 # 0.25\n",
        "df_12.loc[(df_12['NTG'] >= 0.25) & (df_12['NTG'] < 0.3), 'NTG'] = 4 # 0.3\n",
        "df_12.loc[(df_12['NTG'] >= 0.3) & (df_12['NTG'] < 0.35), 'NTG'] = 5 # 0.35\n",
        "df_12.loc[(df_12['NTG'] >= 0.35) & (df_12['NTG'] < 0.5), 'NTG'] = 6 # 0.4\n",
        "df_12.loc[(df_12['NTG'] >= 0.4) & (df_12['NTG'] < 0.45), 'NTG'] = 7 # 0.45\n",
        "df_12.loc[(df_12['NTG'] >= 0.45) & (df_12['NTG'] < 0.5), 'NTG'] = 8 # 0.5\n",
        "df_12.loc[(df_12['NTG'] >= 0.5) & (df_12['NTG'] < 0.55), 'NTG'] = 9 # 0.55\n",
        "df_12.loc[(df_12['NTG'] >= 0.55) & (df_12['NTG'] <= 0.6), 'NTG'] = 10 # 0.6\n",
        "\n",
        "df_12.head(3)\n",
        "\n"
      ],
      "execution_count": null,
      "outputs": [
        {
          "output_type": "execute_result",
          "data": {
            "text/html": [
              "<div>\n",
              "<style scoped>\n",
              "    .dataframe tbody tr th:only-of-type {\n",
              "        vertical-align: middle;\n",
              "    }\n",
              "\n",
              "    .dataframe tbody tr th {\n",
              "        vertical-align: top;\n",
              "    }\n",
              "\n",
              "    .dataframe thead th {\n",
              "        text-align: right;\n",
              "    }\n",
              "</style>\n",
              "<table border=\"1\" class=\"dataframe\">\n",
              "  <thead>\n",
              "    <tr style=\"text-align: right;\">\n",
              "      <th></th>\n",
              "      <th>Well</th>\n",
              "      <th>X</th>\n",
              "      <th>Y</th>\n",
              "      <th>NTG</th>\n",
              "    </tr>\n",
              "  </thead>\n",
              "  <tbody>\n",
              "    <tr>\n",
              "      <th>0</th>\n",
              "      <td>201-907</td>\n",
              "      <td>201</td>\n",
              "      <td>907</td>\n",
              "      <td>3.0</td>\n",
              "    </tr>\n",
              "    <tr>\n",
              "      <th>1</th>\n",
              "      <td>201-914</td>\n",
              "      <td>201</td>\n",
              "      <td>914</td>\n",
              "      <td>6.0</td>\n",
              "    </tr>\n",
              "    <tr>\n",
              "      <th>2</th>\n",
              "      <td>201-924</td>\n",
              "      <td>201</td>\n",
              "      <td>924</td>\n",
              "      <td>6.0</td>\n",
              "    </tr>\n",
              "  </tbody>\n",
              "</table>\n",
              "</div>"
            ],
            "text/plain": [
              "      Well    X    Y  NTG\n",
              "0  201-907  201  907  3.0\n",
              "1  201-914  201  914  6.0\n",
              "2  201-924  201  924  6.0"
            ]
          },
          "metadata": {
            "tags": []
          },
          "execution_count": 81
        }
      ]
    },
    {
      "cell_type": "code",
      "metadata": {
        "colab": {
          "base_uri": "https://localhost:8080/"
        },
        "id": "2pjNSGaHY7kY",
        "outputId": "33daae86-59a7-4180-c8d7-5d410eb8f6e1"
      },
      "source": [
        "# обратный переход\r\n",
        "\r\n",
        "return_dict    = {1:0.15,\r\n",
        "                  2:0.2,\r\n",
        "                  3:0.25,\r\n",
        "                  4:0.3,\r\n",
        "                  5:0.35,\r\n",
        "                  6:0.40,\r\n",
        "                  7:0.45,\r\n",
        "                  8:0.5,\r\n",
        "                  9:0.55,\r\n",
        "                  10:0.6,\r\n",
        "                  }\r\n",
        "\r\n",
        "def return_from_12(y_12):\r\n",
        "  y_norm = np.zeros(len(y_12))\r\n",
        "  for i, y in enumerate(y_12):\r\n",
        "    y_norm[i] = return_dict[y]\r\n",
        "  return y_norm\r\n",
        "  \r\n",
        "return_from_12(df_12['NTG'].to_list())"
      ],
      "execution_count": null,
      "outputs": [
        {
          "output_type": "execute_result",
          "data": {
            "text/plain": [
              "array([0.25, 0.4 , 0.4 , 0.4 , 0.4 , 0.3 , 0.3 , 0.35, 0.25, 0.2 , 0.4 ,\n",
              "       0.35, 0.35, 0.35, 0.4 , 0.35, 0.35, 0.3 , 0.2 , 0.35, 0.3 , 0.35,\n",
              "       0.3 , 0.3 , 0.4 , 0.3 , 0.35, 0.4 , 0.4 , 0.4 , 0.4 , 0.4 , 0.4 ,\n",
              "       0.35, 0.4 , 0.4 , 0.35, 0.25, 0.35, 0.4 , 0.35, 0.35, 0.4 , 0.35,\n",
              "       0.3 , 0.4 , 0.3 , 0.35, 0.25, 0.4 , 0.4 , 0.3 , 0.3 , 0.3 , 0.4 ,\n",
              "       0.3 , 0.4 , 0.4 , 0.4 , 0.35, 0.3 , 0.3 , 0.25, 0.4 , 0.25, 0.4 ,\n",
              "       0.4 , 0.4 , 0.4 , 0.4 , 0.3 , 0.35, 0.4 , 0.35, 0.35, 0.25, 0.3 ,\n",
              "       0.3 , 0.3 , 0.35, 0.35, 0.4 , 0.4 , 0.3 , 0.4 , 0.35, 0.4 , 0.35,\n",
              "       0.4 , 0.4 , 0.3 , 0.35, 0.35, 0.35, 0.35, 0.3 , 0.3 , 0.4 , 0.3 ,\n",
              "       0.25, 0.6 , 0.3 , 0.3 , 0.4 , 0.25, 0.25, 0.3 , 0.3 , 0.4 , 0.25,\n",
              "       0.25, 0.4 , 0.25, 0.25, 0.4 , 0.3 , 0.35, 0.35, 0.25, 0.3 , 0.25,\n",
              "       0.55, 0.2 , 0.4 , 0.2 , 0.3 , 0.4 , 0.4 , 0.25, 0.3 , 0.3 , 0.4 ,\n",
              "       0.4 , 0.3 , 0.4 , 0.4 , 0.4 , 0.4 ])"
            ]
          },
          "metadata": {
            "tags": []
          },
          "execution_count": 88
        }
      ]
    },
    {
      "cell_type": "code",
      "metadata": {
        "id": "3_9N4AI6b1la"
      },
      "source": [
        "x_train_12 = df_12[['X','Y']]\r\n",
        "y_train_12 = df_12['NTG']\r\n",
        "x_train_split_12, x_test_split_12, y_train_split_12, y_test_split_12 = train_test_split(x_train_12, y_train_12, \r\n",
        "                                                                                       test_size=0.33, random_state=42)"
      ],
      "execution_count": null,
      "outputs": []
    },
    {
      "cell_type": "code",
      "metadata": {
        "colab": {
          "base_uri": "https://localhost:8080/"
        },
        "id": "ANgJaf5qbcDz",
        "outputId": "3b46a2e4-3e28-4825-8ceb-91db0669ec46"
      },
      "source": [
        "\r\n",
        "model = GradientBoostingClassifier(n_estimators=60, \r\n",
        "                                  max_depth = 3, \r\n",
        "                                  max_features = 'sqrt', \r\n",
        "                                  min_samples_leaf = 2, \r\n",
        "                                  random_state=42)\r\n",
        "\r\n",
        "# define the ovr strategy\r\n",
        "ovr = OneVsOneClassifier(model)\r\n",
        "\r\n",
        "# fit model\r\n",
        "ovr.fit(x_train_split_12, y_train_split_12)\r\n",
        "\r\n",
        "# make predictions\r\n",
        "y_test_pred = ovr.predict(x_test_split_12)\r\n",
        "\r\n",
        "# #   проверка качества по кросс валедации\r\n",
        "acc = accuracy_score(y_test_pred, y_test_split_12)\r\n",
        "print(acc)\r\n",
        "\r\n",
        "y_test_pred = return_from_12(ovr.predict(x_test_split_12))\r\n",
        "\r\n",
        "print('RMSE ', math.sqrt(mean_squared_error(y_test_split, y_test_pred)))"
      ],
      "execution_count": null,
      "outputs": [
        {
          "output_type": "stream",
          "text": [
            "0.45652173913043476\n",
            "RMSE  33.30607171438083\n"
          ],
          "name": "stdout"
        }
      ]
    },
    {
      "cell_type": "code",
      "metadata": {
        "colab": {
          "base_uri": "https://localhost:8080/",
          "height": 402
        },
        "id": "7EnZmXds0OzV",
        "outputId": "f4f239c3-375a-4dde-8c41-e43db1b7a4ef"
      },
      "source": [
        "# а теперь разобьем по линиям У\r\n",
        "df_train = pd.read_csv(\"Training_wells.csv\")\r\n",
        "\r\n",
        "dict_for_y = dict() # для обратного перехода\r\n",
        "for i,y in enumerate(set(df_train['Y'].to_list())): \r\n",
        "  # print(i+1)\r\n",
        "  dict_for_y[y] = df_train['X'] #запищем Х # классы начинаюстя с 1го\r\n",
        "  df_train.loc[df_train['Y'] == y, 'NTG'] = i+1\r\n",
        "df_train"
      ],
      "execution_count": null,
      "outputs": [
        {
          "output_type": "execute_result",
          "data": {
            "text/html": [
              "<div>\n",
              "<style scoped>\n",
              "    .dataframe tbody tr th:only-of-type {\n",
              "        vertical-align: middle;\n",
              "    }\n",
              "\n",
              "    .dataframe tbody tr th {\n",
              "        vertical-align: top;\n",
              "    }\n",
              "\n",
              "    .dataframe thead th {\n",
              "        text-align: right;\n",
              "    }\n",
              "</style>\n",
              "<table border=\"1\" class=\"dataframe\">\n",
              "  <thead>\n",
              "    <tr style=\"text-align: right;\">\n",
              "      <th></th>\n",
              "      <th>Well</th>\n",
              "      <th>X</th>\n",
              "      <th>Y</th>\n",
              "      <th>NTG</th>\n",
              "    </tr>\n",
              "  </thead>\n",
              "  <tbody>\n",
              "    <tr>\n",
              "      <th>0</th>\n",
              "      <td>201-907</td>\n",
              "      <td>201</td>\n",
              "      <td>907</td>\n",
              "      <td>7.0</td>\n",
              "    </tr>\n",
              "    <tr>\n",
              "      <th>1</th>\n",
              "      <td>201-914</td>\n",
              "      <td>201</td>\n",
              "      <td>914</td>\n",
              "      <td>14.0</td>\n",
              "    </tr>\n",
              "    <tr>\n",
              "      <th>2</th>\n",
              "      <td>201-924</td>\n",
              "      <td>201</td>\n",
              "      <td>924</td>\n",
              "      <td>24.0</td>\n",
              "    </tr>\n",
              "    <tr>\n",
              "      <th>3</th>\n",
              "      <td>202-922</td>\n",
              "      <td>202</td>\n",
              "      <td>922</td>\n",
              "      <td>22.0</td>\n",
              "    </tr>\n",
              "    <tr>\n",
              "      <th>4</th>\n",
              "      <td>202-925</td>\n",
              "      <td>202</td>\n",
              "      <td>925</td>\n",
              "      <td>25.0</td>\n",
              "    </tr>\n",
              "    <tr>\n",
              "      <th>...</th>\n",
              "      <td>...</td>\n",
              "      <td>...</td>\n",
              "      <td>...</td>\n",
              "      <td>...</td>\n",
              "    </tr>\n",
              "    <tr>\n",
              "      <th>133</th>\n",
              "      <td>245-908</td>\n",
              "      <td>245</td>\n",
              "      <td>908</td>\n",
              "      <td>8.0</td>\n",
              "    </tr>\n",
              "    <tr>\n",
              "      <th>134</th>\n",
              "      <td>245-911</td>\n",
              "      <td>245</td>\n",
              "      <td>911</td>\n",
              "      <td>11.0</td>\n",
              "    </tr>\n",
              "    <tr>\n",
              "      <th>135</th>\n",
              "      <td>245-923</td>\n",
              "      <td>245</td>\n",
              "      <td>923</td>\n",
              "      <td>23.0</td>\n",
              "    </tr>\n",
              "    <tr>\n",
              "      <th>136</th>\n",
              "      <td>246-905</td>\n",
              "      <td>246</td>\n",
              "      <td>905</td>\n",
              "      <td>5.0</td>\n",
              "    </tr>\n",
              "    <tr>\n",
              "      <th>137</th>\n",
              "      <td>246-923</td>\n",
              "      <td>246</td>\n",
              "      <td>923</td>\n",
              "      <td>23.0</td>\n",
              "    </tr>\n",
              "  </tbody>\n",
              "</table>\n",
              "<p>138 rows × 4 columns</p>\n",
              "</div>"
            ],
            "text/plain": [
              "        Well    X    Y   NTG\n",
              "0    201-907  201  907   7.0\n",
              "1    201-914  201  914  14.0\n",
              "2    201-924  201  924  24.0\n",
              "3    202-922  202  922  22.0\n",
              "4    202-925  202  925  25.0\n",
              "..       ...  ...  ...   ...\n",
              "133  245-908  245  908   8.0\n",
              "134  245-911  245  911  11.0\n",
              "135  245-923  245  923  23.0\n",
              "136  246-905  246  905   5.0\n",
              "137  246-923  246  923  23.0\n",
              "\n",
              "[138 rows x 4 columns]"
            ]
          },
          "metadata": {
            "tags": []
          },
          "execution_count": 44
        }
      ]
    },
    {
      "cell_type": "code",
      "metadata": {
        "id": "5TEYG95by1Dr"
      },
      "source": [
        "x_train = df_train[['X','Y']]\r\n",
        "y_train = df_train['NTG']\r\n",
        "x_train_split, x_test_split, y_train_split, y_test_split = train_test_split(x_train, y_train, test_size=0.33, random_state=42)"
      ],
      "execution_count": null,
      "outputs": []
    },
    {
      "cell_type": "code",
      "metadata": {
        "colab": {
          "base_uri": "https://localhost:8080/"
        },
        "id": "5h_AP0hb1iFR",
        "outputId": "f23448cc-a62c-4f4e-b065-64b2a10a8659"
      },
      "source": [
        "y_train_split"
      ],
      "execution_count": null,
      "outputs": [
        {
          "output_type": "execute_result",
          "data": {
            "text/plain": [
              "15     12.0\n",
              "119    21.0\n",
              "39      4.0\n",
              "22     27.0\n",
              "55     29.0\n",
              "       ... \n",
              "71      7.0\n",
              "106    20.0\n",
              "14     27.0\n",
              "92     20.0\n",
              "102    24.0\n",
              "Name: NTG, Length: 92, dtype: float64"
            ]
          },
          "metadata": {
            "tags": []
          },
          "execution_count": 50
        }
      ]
    },
    {
      "cell_type": "markdown",
      "metadata": {
        "id": "Io0Jn8cwvdFj"
      },
      "source": [
        "### СВЕДЕМ ЗАДАЧУ КЛАССИФИКАЦИИ"
      ]
    },
    {
      "cell_type": "code",
      "metadata": {
        "id": "ejmB1-WPvdFj"
      },
      "source": [
        "from sklearn.multiclass import OneVsOneClassifier\n",
        "from sklearn.multiclass import OneVsRestClassifier\n"
      ],
      "execution_count": null,
      "outputs": []
    },
    {
      "cell_type": "code",
      "metadata": {
        "id": "QTDinOJbvdFj"
      },
      "source": [
        "def grad_bust_class():\n",
        "\n",
        "  model = GradientBoostingClassifier(random_state=42)\n",
        "\n",
        "  # define the ovr strategy\n",
        "  ovr = OneVsRestClassifier(model)\n",
        "\n",
        "  # fit model\n",
        "  ovr.fit(x_train_split, y_train_split)\n",
        "\n",
        "  # make predictions\n",
        "  y_test_pred = ovr.predict(x_test_split)\n",
        "  y_train_pred = ovr.predict(x_train_split)\n",
        "\n",
        "\n",
        "  print('accuracy_score train: {:.3f}, test: {:.3f}'.format(\n",
        "          accuracy_score(y_train_split, y_train_pred),\n",
        "          accuracy_score(y_test_split, y_test_pred)))\n",
        "  \n",
        "grad_bust_class()\n",
        "\n"
      ],
      "execution_count": null,
      "outputs": []
    },
    {
      "cell_type": "markdown",
      "metadata": {
        "id": "ZJLy5nHjvdFk"
      },
      "source": [
        "### Подберем параметры по сетке"
      ]
    },
    {
      "cell_type": "code",
      "metadata": {
        "id": "mEakmXZOvdFl"
      },
      "source": [
        "# параметры которые будем подбирать\n",
        "\n",
        "# Loss function to be optimized\n",
        "loss = ['lad', 'huber']\n",
        "\n",
        "# Number of trees used in the boosting process\n",
        "n_estimators = [60, 80, 100, 120]\n",
        "\n",
        "# Maximum depth of each tree\n",
        "max_depth = [2, 3, 5, 10, 15]\n",
        "\n",
        "# Minimum number of samples per leaf\n",
        "min_samples_leaf = [1, 2, 4, 6, 8]\n",
        "\n",
        "# Minimum number of samples to split a node\n",
        "min_samples_split = [2, 4, 6, 10]\n",
        "\n",
        "# Maximum number of features to consider for making splits\n",
        "max_features = ['auto', 'sqrt', 'log2', None]\n"
      ],
      "execution_count": null,
      "outputs": []
    },
    {
      "cell_type": "code",
      "metadata": {
        "colab": {
          "base_uri": "https://localhost:8080/",
          "height": 407
        },
        "id": "Mzpho8syvdFl",
        "outputId": "22acebd1-5a9d-407b-ce19-70a418c6edff"
      },
      "source": [
        "# подбор параметрво по сетке\n",
        "\n",
        "acc_score = pd.DataFrame()\n",
        "\n",
        "list_n_estimators = []\n",
        "list_max_depth = []\n",
        "list_acc_score = []\n",
        "list_min_samples_leaf = []\n",
        "list_max_features = []\n",
        "         \n",
        "\n",
        "\n",
        "for n_est in n_estimators :\n",
        "    for max_d in max_depth :\n",
        "        for max_f in max_features :\n",
        "            for min_leaf in min_samples_leaf :\n",
        "                \n",
        "                list_n_estimators.append(n_est)\n",
        "                list_max_depth.append(max_d)\n",
        "                list_max_features.append(max_f)\n",
        "                list_min_samples_leaf.append(min_leaf)\n",
        "\n",
        "                # define model\n",
        "                model = GradientBoostingClassifier(n_estimators=n_est, \n",
        "                                                   max_depth = max_d, \n",
        "                                                   max_features = max_f, \n",
        "                                                   min_samples_leaf = min_leaf, \n",
        "#                                                    min_samples_split = min_split,\n",
        "#                                                    loss = lo,\n",
        "                                                   random_state=42)\n",
        "\n",
        "                # define the ovr strategy\n",
        "                ovr = OneVsRestClassifier(model)\n",
        "\n",
        "                # fit model\n",
        "                ovr.fit(x_train_split, y_train_split_12)\n",
        "\n",
        "                # make predictions\n",
        "                y_test_pred = ovr.predict(x_test_split_12)\n",
        "\n",
        "                # #   проверка качества по кросс валедации\n",
        "                acc = accuracy_score(y_test_split_12, y_test_pred)\n",
        "\n",
        "                list_acc_score.append(acc)\n",
        "\n",
        "acc_score[\"acc_scire\"] = list_acc_score        \n",
        "acc_score[\"n_estimators\"] = list_n_estimators\n",
        "acc_score[\"max_depth\"] = list_max_depth\n",
        "acc_score[\"max_features\"] = list_max_features\n",
        "acc_score[\"min_samples_leaf\"] = list_min_samples_leaf\n",
        "\n",
        "acc_score.sort_values(by = 'acc_scire', ascending = False)"
      ],
      "execution_count": null,
      "outputs": [
        {
          "output_type": "execute_result",
          "data": {
            "text/html": [
              "<div>\n",
              "<style scoped>\n",
              "    .dataframe tbody tr th:only-of-type {\n",
              "        vertical-align: middle;\n",
              "    }\n",
              "\n",
              "    .dataframe tbody tr th {\n",
              "        vertical-align: top;\n",
              "    }\n",
              "\n",
              "    .dataframe thead th {\n",
              "        text-align: right;\n",
              "    }\n",
              "</style>\n",
              "<table border=\"1\" class=\"dataframe\">\n",
              "  <thead>\n",
              "    <tr style=\"text-align: right;\">\n",
              "      <th></th>\n",
              "      <th>acc_scire</th>\n",
              "      <th>n_estimators</th>\n",
              "      <th>max_depth</th>\n",
              "      <th>max_features</th>\n",
              "      <th>min_samples_leaf</th>\n",
              "    </tr>\n",
              "  </thead>\n",
              "  <tbody>\n",
              "    <tr>\n",
              "      <th>151</th>\n",
              "      <td>0.478261</td>\n",
              "      <td>80</td>\n",
              "      <td>5</td>\n",
              "      <td>log2</td>\n",
              "      <td>2</td>\n",
              "    </tr>\n",
              "    <tr>\n",
              "      <th>280</th>\n",
              "      <td>0.478261</td>\n",
              "      <td>100</td>\n",
              "      <td>15</td>\n",
              "      <td>auto</td>\n",
              "      <td>1</td>\n",
              "    </tr>\n",
              "    <tr>\n",
              "      <th>180</th>\n",
              "      <td>0.478261</td>\n",
              "      <td>80</td>\n",
              "      <td>15</td>\n",
              "      <td>auto</td>\n",
              "      <td>1</td>\n",
              "    </tr>\n",
              "    <tr>\n",
              "      <th>222</th>\n",
              "      <td>0.478261</td>\n",
              "      <td>100</td>\n",
              "      <td>3</td>\n",
              "      <td>auto</td>\n",
              "      <td>4</td>\n",
              "    </tr>\n",
              "    <tr>\n",
              "      <th>195</th>\n",
              "      <td>0.478261</td>\n",
              "      <td>80</td>\n",
              "      <td>15</td>\n",
              "      <td>None</td>\n",
              "      <td>1</td>\n",
              "    </tr>\n",
              "    <tr>\n",
              "      <th>...</th>\n",
              "      <td>...</td>\n",
              "      <td>...</td>\n",
              "      <td>...</td>\n",
              "      <td>...</td>\n",
              "      <td>...</td>\n",
              "    </tr>\n",
              "    <tr>\n",
              "      <th>235</th>\n",
              "      <td>0.347826</td>\n",
              "      <td>100</td>\n",
              "      <td>3</td>\n",
              "      <td>None</td>\n",
              "      <td>1</td>\n",
              "    </tr>\n",
              "    <tr>\n",
              "      <th>236</th>\n",
              "      <td>0.347826</td>\n",
              "      <td>100</td>\n",
              "      <td>3</td>\n",
              "      <td>None</td>\n",
              "      <td>2</td>\n",
              "    </tr>\n",
              "    <tr>\n",
              "      <th>320</th>\n",
              "      <td>0.347826</td>\n",
              "      <td>120</td>\n",
              "      <td>3</td>\n",
              "      <td>auto</td>\n",
              "      <td>1</td>\n",
              "    </tr>\n",
              "    <tr>\n",
              "      <th>321</th>\n",
              "      <td>0.347826</td>\n",
              "      <td>120</td>\n",
              "      <td>3</td>\n",
              "      <td>auto</td>\n",
              "      <td>2</td>\n",
              "    </tr>\n",
              "    <tr>\n",
              "      <th>0</th>\n",
              "      <td>0.347826</td>\n",
              "      <td>60</td>\n",
              "      <td>2</td>\n",
              "      <td>auto</td>\n",
              "      <td>1</td>\n",
              "    </tr>\n",
              "  </tbody>\n",
              "</table>\n",
              "<p>400 rows × 5 columns</p>\n",
              "</div>"
            ],
            "text/plain": [
              "     acc_scire  n_estimators  max_depth max_features  min_samples_leaf\n",
              "151   0.478261            80          5         log2                 2\n",
              "280   0.478261           100         15         auto                 1\n",
              "180   0.478261            80         15         auto                 1\n",
              "222   0.478261           100          3         auto                 4\n",
              "195   0.478261            80         15         None                 1\n",
              "..         ...           ...        ...          ...               ...\n",
              "235   0.347826           100          3         None                 1\n",
              "236   0.347826           100          3         None                 2\n",
              "320   0.347826           120          3         auto                 1\n",
              "321   0.347826           120          3         auto                 2\n",
              "0     0.347826            60          2         auto                 1\n",
              "\n",
              "[400 rows x 5 columns]"
            ]
          },
          "metadata": {
            "tags": []
          },
          "execution_count": 103
        }
      ]
    },
    {
      "cell_type": "markdown",
      "metadata": {
        "id": "LV-tUQ7avdFm"
      },
      "source": [
        "### Многоклассовая One-Vs-One - с GradBust"
      ]
    },
    {
      "cell_type": "code",
      "metadata": {
        "id": "o58Zu7XcvdFn",
        "scrolled": true
      },
      "source": [
        "# подбор параметрво по сетке\n",
        "\n",
        "acc_score_2 = pd.DataFrame()\n",
        "\n",
        "list_n_estimators = []\n",
        "list_max_depth = []\n",
        "list_acc_score = []\n",
        "list_min_samples_leaf = []\n",
        "list_max_features = []\n",
        "         \n",
        "\n",
        "\n",
        "for n_est in n_estimators :\n",
        "    for max_d in max_depth :\n",
        "        for max_f in max_features :\n",
        "            for min_leaf in min_samples_leaf :\n",
        "                \n",
        "                list_n_estimators.append(n_est)\n",
        "                list_max_depth.append(max_d)\n",
        "                list_max_features.append(max_f)\n",
        "                list_min_samples_leaf.append(min_leaf)\n",
        "\n",
        "                # define model\n",
        "                model = GradientBoostingClassifier(n_estimators=n_est, \n",
        "                                                   max_depth = max_d, \n",
        "                                                   max_features = max_f, \n",
        "                                                   min_samples_leaf = min_leaf, \n",
        "#                                                    min_samples_split = min_split,\n",
        "#                                                    loss = lo,\n",
        "                                                   random_state=42)\n",
        "\n",
        "                # define the ovr strategy\n",
        "                ovr = OneVsOneClassifier(model)\n",
        "\n",
        "                # fit model\n",
        "                ovr.fit(x_train_split_12, y_train_split_12)\n",
        "\n",
        "                # make predictions\n",
        "                y_test_pred = ovr.predict(x_test_split_12)\n",
        "\n",
        "                # #   проверка качества по кросс валедации\n",
        "                acc = accuracy_score(y_test_pred, y_test_split_12)\n",
        "\n",
        "                list_acc_score.append(acc)\n",
        "\n",
        "acc_score_2[\"acc_scire\"] = list_acc_score        \n",
        "acc_score_2[\"n_estimators\"] = list_n_estimators\n",
        "acc_score_2[\"max_depth\"] = list_max_depth\n",
        "acc_score_2[\"max_features\"] = list_max_features\n",
        "acc_score_2[\"min_samples_leaf\"] = list_min_samples_leaf"
      ],
      "execution_count": null,
      "outputs": []
    },
    {
      "cell_type": "code",
      "metadata": {
        "colab": {
          "base_uri": "https://localhost:8080/",
          "height": 407
        },
        "id": "3SVNfnolvdFn",
        "scrolled": true,
        "outputId": "4470f2ec-277e-4217-8646-760bb9d11a19"
      },
      "source": [
        "acc_score_2.sort_values(by = 'acc_scire', ascending = False)"
      ],
      "execution_count": null,
      "outputs": [
        {
          "output_type": "execute_result",
          "data": {
            "text/html": [
              "<div>\n",
              "<style scoped>\n",
              "    .dataframe tbody tr th:only-of-type {\n",
              "        vertical-align: middle;\n",
              "    }\n",
              "\n",
              "    .dataframe tbody tr th {\n",
              "        vertical-align: top;\n",
              "    }\n",
              "\n",
              "    .dataframe thead th {\n",
              "        text-align: right;\n",
              "    }\n",
              "</style>\n",
              "<table border=\"1\" class=\"dataframe\">\n",
              "  <thead>\n",
              "    <tr style=\"text-align: right;\">\n",
              "      <th></th>\n",
              "      <th>acc_scire</th>\n",
              "      <th>n_estimators</th>\n",
              "      <th>max_depth</th>\n",
              "      <th>max_features</th>\n",
              "      <th>min_samples_leaf</th>\n",
              "    </tr>\n",
              "  </thead>\n",
              "  <tbody>\n",
              "    <tr>\n",
              "      <th>150</th>\n",
              "      <td>0.478261</td>\n",
              "      <td>80</td>\n",
              "      <td>5</td>\n",
              "      <td>log2</td>\n",
              "      <td>1</td>\n",
              "    </tr>\n",
              "    <tr>\n",
              "      <th>301</th>\n",
              "      <td>0.478261</td>\n",
              "      <td>120</td>\n",
              "      <td>2</td>\n",
              "      <td>auto</td>\n",
              "      <td>2</td>\n",
              "    </tr>\n",
              "    <tr>\n",
              "      <th>316</th>\n",
              "      <td>0.478261</td>\n",
              "      <td>120</td>\n",
              "      <td>2</td>\n",
              "      <td>None</td>\n",
              "      <td>2</td>\n",
              "    </tr>\n",
              "    <tr>\n",
              "      <th>50</th>\n",
              "      <td>0.478261</td>\n",
              "      <td>60</td>\n",
              "      <td>5</td>\n",
              "      <td>log2</td>\n",
              "      <td>1</td>\n",
              "    </tr>\n",
              "    <tr>\n",
              "      <th>45</th>\n",
              "      <td>0.478261</td>\n",
              "      <td>60</td>\n",
              "      <td>5</td>\n",
              "      <td>sqrt</td>\n",
              "      <td>1</td>\n",
              "    </tr>\n",
              "    <tr>\n",
              "      <th>...</th>\n",
              "      <td>...</td>\n",
              "      <td>...</td>\n",
              "      <td>...</td>\n",
              "      <td>...</td>\n",
              "      <td>...</td>\n",
              "    </tr>\n",
              "    <tr>\n",
              "      <th>48</th>\n",
              "      <td>0.304348</td>\n",
              "      <td>60</td>\n",
              "      <td>5</td>\n",
              "      <td>sqrt</td>\n",
              "      <td>6</td>\n",
              "    </tr>\n",
              "    <tr>\n",
              "      <th>73</th>\n",
              "      <td>0.282609</td>\n",
              "      <td>60</td>\n",
              "      <td>10</td>\n",
              "      <td>log2</td>\n",
              "      <td>6</td>\n",
              "    </tr>\n",
              "    <tr>\n",
              "      <th>68</th>\n",
              "      <td>0.282609</td>\n",
              "      <td>60</td>\n",
              "      <td>10</td>\n",
              "      <td>sqrt</td>\n",
              "      <td>6</td>\n",
              "    </tr>\n",
              "    <tr>\n",
              "      <th>88</th>\n",
              "      <td>0.282609</td>\n",
              "      <td>60</td>\n",
              "      <td>15</td>\n",
              "      <td>sqrt</td>\n",
              "      <td>6</td>\n",
              "    </tr>\n",
              "    <tr>\n",
              "      <th>93</th>\n",
              "      <td>0.282609</td>\n",
              "      <td>60</td>\n",
              "      <td>15</td>\n",
              "      <td>log2</td>\n",
              "      <td>6</td>\n",
              "    </tr>\n",
              "  </tbody>\n",
              "</table>\n",
              "<p>400 rows × 5 columns</p>\n",
              "</div>"
            ],
            "text/plain": [
              "     acc_scire  n_estimators  max_depth max_features  min_samples_leaf\n",
              "150   0.478261            80          5         log2                 1\n",
              "301   0.478261           120          2         auto                 2\n",
              "316   0.478261           120          2         None                 2\n",
              "50    0.478261            60          5         log2                 1\n",
              "45    0.478261            60          5         sqrt                 1\n",
              "..         ...           ...        ...          ...               ...\n",
              "48    0.304348            60          5         sqrt                 6\n",
              "73    0.282609            60         10         log2                 6\n",
              "68    0.282609            60         10         sqrt                 6\n",
              "88    0.282609            60         15         sqrt                 6\n",
              "93    0.282609            60         15         log2                 6\n",
              "\n",
              "[400 rows x 5 columns]"
            ]
          },
          "metadata": {
            "tags": []
          },
          "execution_count": 99
        }
      ]
    },
    {
      "cell_type": "markdown",
      "metadata": {
        "id": "J7J-BrM-vdFn"
      },
      "source": [
        "### Многоклассовая One-Vs-Rest - SVM - работает оч долго, поэтому писал свой"
      ]
    },
    {
      "cell_type": "code",
      "metadata": {
        "id": "oF68Do02vdFo"
      },
      "source": [
        "# параметры подбора\n",
        "kernel= ['linear', 'rbf', 'poly', 'sigmoid']\n",
        "C = [.0000001, 1, 100, 1000, 1000000]\n",
        "gamma = [5, 10 , 20, 10]  \n",
        "\n",
        "# kernel= ['linear']\n",
        "# C = [1]\n",
        "# gamma = [5, 10]  \n",
        "\n",
        "# hyperparameter_grid = {'kernel': kernel}\n",
        "# #     'C': C,\n",
        "# #     'gamma': gamma}"
      ],
      "execution_count": null,
      "outputs": []
    },
    {
      "cell_type": "markdown",
      "metadata": {
        "id": "HAyIMqwKvdFp"
      },
      "source": [
        "### Перебор по сетке с поомщью циклов"
      ]
    },
    {
      "cell_type": "code",
      "metadata": {
        "id": "OsnkL-e3vdFq"
      },
      "source": [
        "# подбор параметрво по сетке\n",
        "\n",
        "acc_score_3 = pd.DataFrame()\n",
        "\n",
        "list_acc_score = []\n",
        "list_kernel = []\n",
        "list_C = []\n",
        "list_gamma= []\n",
        "\n",
        "\n",
        "\n",
        "for kern in kernel :\n",
        "    for c in C :\n",
        "        for gamm in gamma :\n",
        "                \n",
        "                list_kernel.append(kern)\n",
        "                list_C.append(c)\n",
        "                list_gamma.append(gamm)\n",
        "\n",
        "                # define model\n",
        "                model = SVC(decision_function_shape='ovr', kernel = kern, C = c, gamma = gamm)\n",
        "                \n",
        "            \n",
        "                # define the ovr strategy\n",
        "                ovr = OneVsOneClassifier(model)\n",
        "\n",
        "                # fit model\n",
        "                ovr.fit(x_train_split, y_train_split)\n",
        "\n",
        "                # make predictions\n",
        "                y_test_pred = ovr.predict(x_test_split)\n",
        "\n",
        "                # #   проверка качества по кросс валедации\n",
        "                acc = accuracy_score(y_test_pred, y_test_split)\n",
        "\n",
        "                list_acc_score.append(acc)\n",
        "\n",
        "acc_score_3[\"acc_scire\"] = list_acc_score        \n",
        "acc_score_3[\"kernel\"] = list_kernel\n",
        "acc_score_3[\"C\"] = list_C\n",
        "acc_score_3[\"gamma\"] = list_gamma"
      ],
      "execution_count": null,
      "outputs": []
    },
    {
      "cell_type": "code",
      "metadata": {
        "id": "tUn03CVhvdFq"
      },
      "source": [
        "acc_score_3"
      ],
      "execution_count": null,
      "outputs": []
    }
  ]
}